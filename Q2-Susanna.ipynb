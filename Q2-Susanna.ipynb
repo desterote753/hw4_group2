{
 "cells": [
  {
   "cell_type": "markdown",
   "metadata": {},
   "source": [
    "# 2.1 Getting your data + feature engineering"
   ]
  },
  {
   "cell_type": "markdown",
   "metadata": {},
   "source": [
    "## 2.1.1 Access to the data"
   ]
  },
  {
   "cell_type": "code",
   "execution_count": 10,
   "metadata": {},
   "outputs": [],
   "source": [
    "# Libraries that we need\n",
    "import pandas as pd\n",
    "import numpy as np\n",
    "#import matplotlib as plt\n",
    "import matplotlib.pyplot as plt\n",
    "import seaborn as sns\n",
    "from sklearn.preprocessing import StandardScaler # to normalize the data\n",
    "from sklearn.decomposition import PCA                                                                                                        "
   ]
  },
  {
   "cell_type": "markdown",
   "metadata": {},
   "source": [
    "Let's import and see what the dataframe we need to work on looks like. \n",
    "There are 671736 rows × 8 columns, with *data.info()* we can figure out what they are and what types of data they contain.\n",
    "We realize that both the _\"datetime\"_ column and the _\"release_date\"_ column should be of type datetime, so we proceed to convert them."
   ]
  },
  {
   "cell_type": "code",
   "execution_count": 2,
   "metadata": {},
   "outputs": [],
   "source": [
    "data = pd.read_csv(\"vodclickstream_uk_movies_03.csv\")\n",
    "data.datetime = pd.to_datetime(data.datetime)\n",
    "data.release_date = pd.to_datetime(data.release_date, errors='coerce')"
   ]
  },
  {
   "cell_type": "code",
   "execution_count": 3,
   "metadata": {},
   "outputs": [
    {
     "data": {
      "text/plain": [
       "Unnamed: 0          0\n",
       "datetime            0\n",
       "duration            0\n",
       "title               0\n",
       "genres              0\n",
       "release_date    30304\n",
       "movie_id            0\n",
       "user_id             0\n",
       "dtype: int64"
      ]
     },
     "execution_count": 3,
     "metadata": {},
     "output_type": "execute_result"
    }
   ],
   "source": [
    "data.isna().sum() # only release_data has 30304 na values and they were the \"NOT AVAILABLE\", also genres has 26561 \"NOT AVAILABLE\" rows but we are not going to remove them because we do not want to loose data"
   ]
  },
  {
   "cell_type": "code",
   "execution_count": 4,
   "metadata": {},
   "outputs": [],
   "source": [
    "to_drop = data[data[\"duration\"] < 0].index # 21734 \n",
    "# We can see that there are 21734 where duration is -1, we can drop them or convert this to 0 but 0 here has a different meaning so it's better to drop them\n",
    "data = data.drop(to_drop).reset_index()"
   ]
  },
  {
   "cell_type": "code",
   "execution_count": 5,
   "metadata": {},
   "outputs": [
    {
     "data": {
      "text/plain": [
       "<Axes: title={'center': 'Duration distribution'}, ylabel='Frequency'>"
      ]
     },
     "execution_count": 5,
     "metadata": {},
     "output_type": "execute_result"
    },
    {
     "data": {
      "image/png": "[encoded data removed]",
      "text/plain": [
       "<Figure size 400x400 with 1 Axes>"
      ]
     },
     "metadata": {},
     "output_type": "display_data"
    }
   ],
   "source": [
    "# Our only numeric variable is duration, let\"s see how it is distributed\n",
    "data.duration.describe() # We can see that the duration assumes values from 0 to 1.823725e+07 but the median is 43 and the 3rd quartile is 7059\n",
    "# the duration is very often 0, but we can do an histogram exluding 0 and to big numbers to see how the other values are\n",
    "data[(data[\"duration\"] <= np.quantile(data[\"duration\"],0.9)) & (data[\"duration\"] > 0)].duration.plot(kind=\"hist\",bins=50, figsize=(4,4), title = \"Duration distribution\") # we have lot of small numbers"
   ]
  },
  {
   "cell_type": "markdown",
   "metadata": {},
   "source": [
    "## 2.1.2 feature engeneering of the 5 mandatory variables"
   ]
  },
  {
   "cell_type": "markdown",
   "metadata": {},
   "source": [
    "### 1st feature, favorite genre\n",
    "Here we have to create a new column for the genre the user spends most time."
   ]
  },
  {
   "cell_type": "code",
   "execution_count": 6,
   "metadata": {},
   "outputs": [
    {
     "data": {
      "text/plain": [
       "{'Action',\n",
       " 'Adventure',\n",
       " 'Animation',\n",
       " 'Biography',\n",
       " 'Comedy',\n",
       " 'Crime',\n",
       " 'Documentary',\n",
       " 'Drama',\n",
       " 'Family',\n",
       " 'Fantasy',\n",
       " 'Film-Noir',\n",
       " 'History',\n",
       " 'Horror',\n",
       " 'Music',\n",
       " 'Musical',\n",
       " 'Mystery',\n",
       " 'NOT AVAILABLE',\n",
       " 'News',\n",
       " 'Reality-TV',\n",
       " 'Romance',\n",
       " 'Sci-Fi',\n",
       " 'Short',\n",
       " 'Sport',\n",
       " 'Talk-Show',\n",
       " 'Thriller',\n",
       " 'War',\n",
       " 'Western'}"
      ]
     },
     "execution_count": 6,
     "metadata": {},
     "output_type": "execute_result"
    }
   ],
   "source": [
    "# how many different genres we have? Let's count them\n",
    "data.genres.apply(lambda row: row.split(\",\"))\n",
    "data[\"genres_list\"] = \"\"\n",
    "data[\"genres_list\"] = data.genres.apply(lambda row: [word.strip() for word in row.split(\",\")])\n",
    "data[\"genres_list\"]\n",
    "unique_genres = set()\n",
    "data[\"genres_list\"].apply(lambda row: [unique_genres.add(value) for value in row])\n",
    "unique_genres"
   ]
  },
  {
   "cell_type": "code",
   "execution_count": 7,
   "metadata": {},
   "outputs": [],
   "source": [
    "# Now we can create our new first feature\n",
    "# First we need to divide the column with the list of the genres in rows cointaining only one genre\n",
    "df_genres = data[\"genres_list\"].apply(pd.Series).stack().reset_index(level=1, drop=True).to_frame(\"genre\")\n",
    "# Merging with the original data\n",
    "data2 = pd.merge(data, df_genres, left_index=True, right_index=True)\n",
    "# Grouping in only the user_id and the genre column and this column contains only one genre.\n",
    "grouped_df = data2.groupby([\"user_id\", \"genre\"])\n",
    "# From the grouped_df we need to calculates the durations for each user for each genre he saw\n",
    "genre_duration = grouped_df[\"duration\"].sum().reset_index()\n",
    "# Searching for the indexes with the max duration grouping by user_id so every user will have only one genre\n",
    "idx = genre_duration.groupby(\"user_id\")[\"duration\"].idxmax()\n",
    "\n",
    "# Creating a new dataframe where we put this new column \n",
    "user_df = genre_duration.loc[idx, [\"user_id\", \"genre\"]]"
   ]
  },
  {
   "cell_type": "markdown",
   "metadata": {},
   "source": [
    "### 2nd feature, average click duration"
   ]
  },
  {
   "cell_type": "code",
   "execution_count": 8,
   "metadata": {},
   "outputs": [],
   "source": [
    "average_click_duration = pd.DataFrame(data.groupby(\"user_id\").duration.mean())\n",
    "user_df = user_df.merge(average_click_duration, how = \"outer\", on = \"user_id\")\n",
    "user_df = user_df.rename(columns={\"duration\": \"average_click_duration\"})"
   ]
  },
  {
   "cell_type": "markdown",
   "metadata": {},
   "source": [
    "### 3rd feature, time of the day"
   ]
  },
  {
   "cell_type": "code",
   "execution_count": 9,
   "metadata": {},
   "outputs": [],
   "source": [
    "def map_time_period(value):\n",
    "    if 6 <= value < 14:\n",
    "        return \"Morning\"\n",
    "    elif 14 <= value < 22:\n",
    "        return \"Afternoon\"\n",
    "    else:\n",
    "        return \"Night\""
   ]
  },
  {
   "cell_type": "markdown",
   "metadata": {},
   "source": [
    "### 4th feature, old movie lover"
   ]
  },
  {
   "cell_type": "code",
   "execution_count": 10,
   "metadata": {},
   "outputs": [],
   "source": [
    "data[\"hour_of_day\"] = 0\n",
    "data[\"hour_of_day\"] = data.datetime.dt.hour\n",
    "df = data.groupby(by=['user_id','hour_of_day']).duration.mean().reset_index()\n",
    "df_first = df.sort_values([\"user_id\",\"hour_of_day\"], ascending=[True, False]).groupby('user_id', as_index=False).first()\n",
    "\n",
    "# Now that we have the hour we need to change it in \"morning\",\"afternoon\" and \"night\"\n",
    "df_first[\"hour_of_day_categorial\"] = df_first[\"hour_of_day\"]\n",
    "df_first[\"hour_of_day_categorial\"] = df_first[\"hour_of_day_categorial\"].apply(map_time_period)\n",
    "\n",
    "# Now we merge the categorial variable in the dataframe with the new features\n",
    "user_df = user_df.merge(df_first[[\"user_id\",\"hour_of_day_categorial\"]], how=\"outer\", on=\"user_id\")"
   ]
  },
  {
   "cell_type": "code",
   "execution_count": 11,
   "metadata": {},
   "outputs": [],
   "source": [
    "data['oldmovie'] = False\n",
    "data['oldmovie'] = data.release_date.dt.year < 2010\n",
    "# Counting how many oldmovie and how many newmovie the user saw\n",
    "df2 = data.groupby(['user_id', 'oldmovie'])['movie_id'].count().reset_index()\n",
    "# Ordering and selecting the first row for every user so the the ones with the highest count\n",
    "df_oldnew = df2.sort_values(['user_id', 'oldmovie']).groupby('user_id', as_index=False).first()\n",
    "# Merging again\n",
    "user_df = user_df.merge(df_oldnew[[\"user_id\",\"oldmovie\"]], how=\"outer\", on=\"user_id\")"
   ]
  },
  {
   "cell_type": "markdown",
   "metadata": {},
   "source": [
    "### 5th feature, average time spent a day by the user"
   ]
  },
  {
   "cell_type": "code",
   "execution_count": 12,
   "metadata": {},
   "outputs": [],
   "source": [
    "# We convert the datetime column to a column containing only the day and not also the time, we need it to create the denominator to calculate our new feature\n",
    "data[\"date\"] = data[\"datetime\"].dt.date\n",
    "# Here we create a dataframe such that it contains the sum of the total duration for each user\n",
    "sum_df = data.groupby([\"user_id\"])[\"duration\"].sum().reset_index()\n",
    "# Here we count the days each user logged in\n",
    "days_logged_in = data.groupby(\"user_id\")[\"date\"].nunique().reset_index()\n",
    "# In \"grouped_df\" we merge the 2 dataframe created always on the user_id\n",
    "grouped_df = pd.merge(sum_df, days_logged_in, on=\"user_id\", suffixes=(\"\", \"_total_days\"))\n",
    "# Let's calculate our new feature\n",
    "grouped_df[\"average_duration_per_day\"] = grouped_df[\"duration\"] / grouped_df[\"date\"]\n",
    "# Merging the new feature to the new dataset for the users\n",
    "user_df = user_df.merge(grouped_df[[\"user_id\",\"average_duration_per_day\"]], how = \"outer\", on=\"user_id\")"
   ]
  },
  {
   "cell_type": "markdown",
   "metadata": {},
   "source": [
    "## 2.1.3 feature engeneering of 10 other variables"
   ]
  },
  {
   "cell_type": "markdown",
   "metadata": {},
   "source": [
    "### 1st free feature: total number of acces per User, column name \"days_logged_in\"\n",
    "Thise features counts the total number of accesses for each user. We alreary have this feature because we used it in the computation of the mandotary column number 5, the average time spent a day by the user so we just have to merge the feature to our new dataframe."
   ]
  },
  {
   "cell_type": "code",
   "execution_count": 13,
   "metadata": {},
   "outputs": [],
   "source": [
    "user_df = user_df.merge(days_logged_in, how=\"outer\", on=\"user_id\")\n",
    "user_df = user_df.rename(columns={\"date\": \"days_logged_in\"})"
   ]
  },
  {
   "cell_type": "markdown",
   "metadata": {},
   "source": [
    "### 2nd free feature: First access date of the user, column name \"first access\""
   ]
  },
  {
   "cell_type": "code",
   "execution_count": 14,
   "metadata": {},
   "outputs": [],
   "source": [
    "first_access = data.groupby([\"user_id\"])[\"date\"].min()\n",
    "user_df = user_df.merge(first_access, how=\"outer\", on=\"user_id\")\n",
    "user_df = user_df.rename(columns={\"date\": \"firts_access\"})"
   ]
  },
  {
   "cell_type": "markdown",
   "metadata": {},
   "source": [
    "### 3rd free feature: Total duration on old movies, column name \"old_movie_duration\""
   ]
  },
  {
   "cell_type": "code",
   "execution_count": 15,
   "metadata": {},
   "outputs": [],
   "source": [
    "filtered_data = data[data[\"oldmovie\"] == True]\n",
    "# Calcola la media della durata raggruppando per user_id e oldmovie\n",
    "movie_duration = pd.DataFrame(filtered_data.groupby([\"user_id\", \"oldmovie\"])[\"duration\"].mean().reset_index())\n",
    "user_df = user_df.merge(movie_duration[[\"user_id\",\"duration\"]], on=\"user_id\", how=\"left\")\n",
    "user_df = user_df.rename(columns={\"duration\": \"old_movie_duration\"})\n",
    "user_df[\"old_movie_duration\"] = user_df[\"old_movie_duration\"].fillna(0)"
   ]
  },
  {
   "cell_type": "markdown",
   "metadata": {},
   "source": [
    "### 4th free feature: Total duration on new movies, column name \"new_movie_duration\""
   ]
  },
  {
   "cell_type": "code",
   "execution_count": 16,
   "metadata": {},
   "outputs": [],
   "source": [
    "filtered_data = data[data[\"oldmovie\"] == False]\n",
    "# Calcola la media della durata raggruppando per user_id e oldmovie\n",
    "movie_duration = pd.DataFrame(filtered_data.groupby([\"user_id\", \"oldmovie\"])[\"duration\"].mean().reset_index())\n",
    "user_df = user_df.merge(movie_duration[[\"user_id\",\"duration\"]], on=\"user_id\", how=\"left\")\n",
    "user_df = user_df.rename(columns={\"duration\": \"new_movie_duration\"})\n",
    "user_df[\"new_movie_duration\"] = user_df[\"new_movie_duration\"].fillna(0)"
   ]
  },
  {
   "cell_type": "markdown",
   "metadata": {},
   "source": [
    "### 5th free feature : most active day of the week, column name \"active_day\""
   ]
  },
  {
   "cell_type": "code",
   "execution_count": 17,
   "metadata": {},
   "outputs": [],
   "source": [
    "# Estrai il giorno della settimana dalla colonna 'datetime'\n",
    "data['day_of_week'] = data['datetime'].dt.day_name()\n",
    "\n",
    "# Raggruppa per 'user_id' e 'day_of_week', contando il numero di accessi\n",
    "user_most_active_day = data.groupby(['user_id', 'day_of_week'])['day_of_week'].count().reset_index(name='count')\n",
    "\n",
    "# Trova l'indice del massimo per ciascun utente\n",
    "idx = user_most_active_day.groupby('user_id')['count'].idxmax()\n",
    "\n",
    "# Seleziona le righe corrispondenti agli indici del massimo\n",
    "most_active_day_per_user = user_most_active_day.loc[idx, ['user_id', 'day_of_week', 'count']]\n",
    "user_df = user_df.merge(most_active_day_per_user[[\"user_id\",\"day_of_week\"]], how = \"outer\", on = \"user_id\")\n",
    "user_df = user_df.rename(columns={\"day_of_week\": \"active_day\"})"
   ]
  },
  {
   "cell_type": "markdown",
   "metadata": {},
   "source": [
    "### 6th free feature : Number of genres cliked, column name = \"genres_clicked\""
   ]
  },
  {
   "cell_type": "code",
   "execution_count": 18,
   "metadata": {},
   "outputs": [],
   "source": [
    "number_of_genres_clicked = data2.groupby('user_id')['genres'].nunique().reset_index(name='genres_clicked')\n",
    "user_df = user_df.merge(number_of_genres_clicked, how = \"outer\", on = \"user_id\")"
   ]
  },
  {
   "cell_type": "markdown",
   "metadata": {},
   "source": [
    "### 7th free feature : Longest consecutive active days, column name \"longest_consecutive_days\""
   ]
  },
  {
   "cell_type": "code",
   "execution_count": 19,
   "metadata": {},
   "outputs": [],
   "source": [
    "data = data.sort_values(by=['user_id', 'datetime'])\n",
    "data['date_diff'] = data.groupby('user_id')['datetime'].diff().dt.days.fillna(0)\n",
    "consecutive_days_mask = (data['date_diff'] == 1)\n",
    "data['consecutive_days_count'] = consecutive_days_mask.groupby(data['user_id']).cumsum()\n",
    "longest_sequence = data.groupby('user_id')['consecutive_days_count'].max().reset_index(name='longest_consecutive_days')\n",
    "user_df = user_df.merge(longest_sequence, how = \"outer\", on = \"user_id\")"
   ]
  },
  {
   "cell_type": "markdown",
   "metadata": {},
   "source": [
    "### 8th free feature : Last access date, column name \"last_access\""
   ]
  },
  {
   "cell_type": "code",
   "execution_count": 20,
   "metadata": {},
   "outputs": [],
   "source": [
    "last_access = data.groupby([\"user_id\"])[\"date\"].max()\n",
    "user_df = user_df.merge(last_access, how=\"outer\", on=\"user_id\")\n",
    "user_df = user_df.rename(columns={\"date\": \"last_access\"})"
   ]
  },
  {
   "cell_type": "markdown",
   "metadata": {},
   "source": [
    "### 9th free feature : Average click duration on weekdays"
   ]
  },
  {
   "cell_type": "code",
   "execution_count": 21,
   "metadata": {},
   "outputs": [],
   "source": [
    "data['is_weekend'] = data['datetime'].dt.weekday >= 4\n",
    "filtered_data_day = data[data[\"is_weekend\"] == False]\n",
    "movie_duration_weekdays = pd.DataFrame(filtered_data_day.groupby([\"user_id\", \"is_weekend\"])[\"duration\"].mean().reset_index(name=\"duration_weekdays\"))\n",
    "user_df = user_df.merge(movie_duration_weekdays[[\"user_id\",\"duration_weekdays\"]], on=\"user_id\", how=\"left\").fillna(0)"
   ]
  },
  {
   "cell_type": "markdown",
   "metadata": {},
   "source": [
    "### 10th free feature: Average click duration on weekends"
   ]
  },
  {
   "cell_type": "code",
   "execution_count": 22,
   "metadata": {},
   "outputs": [],
   "source": [
    "filtered_data_day_2 = data[data[\"is_weekend\"] == True]\n",
    "movie_duration_weekend = pd.DataFrame(filtered_data_day_2.groupby([\"user_id\", \"is_weekend\"])[\"duration\"].mean().reset_index(name=\"duration_weekends\"))\n",
    "user_df = user_df.merge(movie_duration_weekend[[\"user_id\",\"duration_weekends\"]], on=\"user_id\", how=\"left\").fillna(0)"
   ]
  },
  {
   "cell_type": "markdown",
   "metadata": {},
   "source": [
    "Let's now see the final dataframe user_df"
   ]
  },
  {
   "cell_type": "code",
   "execution_count": 23,
   "metadata": {},
   "outputs": [
    {
     "data": {
      "text/html": [
       "<div>\n",
       "<style scoped>\n",
       "    .dataframe tbody tr th:only-of-type {\n",
       "        vertical-align: middle;\n",
       "    }\n",
       "\n",
       "    .dataframe tbody tr th {\n",
       "        vertical-align: top;\n",
       "    }\n",
       "\n",
       "    .dataframe thead th {\n",
       "        text-align: right;\n",
       "    }\n",
       "</style>\n",
       "<table border=\"1\" class=\"dataframe\">\n",
       "  <thead>\n",
       "    <tr style=\"text-align: right;\">\n",
       "      <th></th>\n",
       "      <th>user_id</th>\n",
       "      <th>genre</th>\n",
       "      <th>average_click_duration</th>\n",
       "      <th>hour_of_day_categorial</th>\n",
       "      <th>oldmovie</th>\n",
       "      <th>average_duration_per_day</th>\n",
       "      <th>days_logged_in</th>\n",
       "      <th>firts_access</th>\n",
       "      <th>old_movie_duration</th>\n",
       "      <th>new_movie_duration</th>\n",
       "      <th>active_day</th>\n",
       "      <th>genres_clicked</th>\n",
       "      <th>longest_consecutive_days</th>\n",
       "      <th>last_access</th>\n",
       "      <th>duration_weekdays</th>\n",
       "      <th>duration_weekends</th>\n",
       "    </tr>\n",
       "  </thead>\n",
       "  <tbody>\n",
       "    <tr>\n",
       "      <th>0</th>\n",
       "      <td>00004e2862</td>\n",
       "      <td>Crime</td>\n",
       "      <td>0.000000</td>\n",
       "      <td>Afternoon</td>\n",
       "      <td>True</td>\n",
       "      <td>0.0</td>\n",
       "      <td>1</td>\n",
       "      <td>2017-12-05</td>\n",
       "      <td>0.000000</td>\n",
       "      <td>0.0</td>\n",
       "      <td>Tuesday</td>\n",
       "      <td>1</td>\n",
       "      <td>0</td>\n",
       "      <td>2017-12-05</td>\n",
       "      <td>0.0</td>\n",
       "      <td>0.000000</td>\n",
       "    </tr>\n",
       "    <tr>\n",
       "      <th>1</th>\n",
       "      <td>000052a0a0</td>\n",
       "      <td>Action</td>\n",
       "      <td>2024.166667</td>\n",
       "      <td>Night</td>\n",
       "      <td>False</td>\n",
       "      <td>4858.0</td>\n",
       "      <td>10</td>\n",
       "      <td>2017-05-23</td>\n",
       "      <td>1732.111111</td>\n",
       "      <td>2199.4</td>\n",
       "      <td>Sunday</td>\n",
       "      <td>11</td>\n",
       "      <td>1</td>\n",
       "      <td>2017-06-26</td>\n",
       "      <td>2197.5</td>\n",
       "      <td>1900.357143</td>\n",
       "    </tr>\n",
       "    <tr>\n",
       "      <th>2</th>\n",
       "      <td>000090e7c8</td>\n",
       "      <td>Mystery</td>\n",
       "      <td>0.000000</td>\n",
       "      <td>Afternoon</td>\n",
       "      <td>False</td>\n",
       "      <td>0.0</td>\n",
       "      <td>1</td>\n",
       "      <td>2018-03-09</td>\n",
       "      <td>0.000000</td>\n",
       "      <td>0.0</td>\n",
       "      <td>Friday</td>\n",
       "      <td>1</td>\n",
       "      <td>0</td>\n",
       "      <td>2018-03-09</td>\n",
       "      <td>0.0</td>\n",
       "      <td>0.000000</td>\n",
       "    </tr>\n",
       "    <tr>\n",
       "      <th>3</th>\n",
       "      <td>000118a755</td>\n",
       "      <td>Horror</td>\n",
       "      <td>0.000000</td>\n",
       "      <td>Night</td>\n",
       "      <td>False</td>\n",
       "      <td>0.0</td>\n",
       "      <td>2</td>\n",
       "      <td>2018-06-14</td>\n",
       "      <td>0.000000</td>\n",
       "      <td>0.0</td>\n",
       "      <td>Friday</td>\n",
       "      <td>2</td>\n",
       "      <td>0</td>\n",
       "      <td>2018-06-15</td>\n",
       "      <td>0.0</td>\n",
       "      <td>0.000000</td>\n",
       "    </tr>\n",
       "    <tr>\n",
       "      <th>4</th>\n",
       "      <td>000296842d</td>\n",
       "      <td>Drama</td>\n",
       "      <td>11044.000000</td>\n",
       "      <td>Night</td>\n",
       "      <td>False</td>\n",
       "      <td>38654.0</td>\n",
       "      <td>2</td>\n",
       "      <td>2018-12-30</td>\n",
       "      <td>0.000000</td>\n",
       "      <td>11044.0</td>\n",
       "      <td>Monday</td>\n",
       "      <td>1</td>\n",
       "      <td>0</td>\n",
       "      <td>2018-12-31</td>\n",
       "      <td>12873.4</td>\n",
       "      <td>6470.500000</td>\n",
       "    </tr>\n",
       "  </tbody>\n",
       "</table>\n",
       "</div>"
      ],
      "text/plain": [
       "      user_id    genre  average_click_duration hour_of_day_categorial  \\\n",
       "0  00004e2862    Crime                0.000000              Afternoon   \n",
       "1  000052a0a0   Action             2024.166667                  Night   \n",
       "2  000090e7c8  Mystery                0.000000              Afternoon   \n",
       "3  000118a755   Horror                0.000000                  Night   \n",
       "4  000296842d    Drama            11044.000000                  Night   \n",
       "\n",
       "   oldmovie  average_duration_per_day  days_logged_in firts_access  \\\n",
       "0      True                       0.0               1   2017-12-05   \n",
       "1     False                    4858.0              10   2017-05-23   \n",
       "2     False                       0.0               1   2018-03-09   \n",
       "3     False                       0.0               2   2018-06-14   \n",
       "4     False                   38654.0               2   2018-12-30   \n",
       "\n",
       "   old_movie_duration  new_movie_duration active_day  genres_clicked  \\\n",
       "0            0.000000                 0.0    Tuesday               1   \n",
       "1         1732.111111              2199.4     Sunday              11   \n",
       "2            0.000000                 0.0     Friday               1   \n",
       "3            0.000000                 0.0     Friday               2   \n",
       "4            0.000000             11044.0     Monday               1   \n",
       "\n",
       "   longest_consecutive_days last_access  duration_weekdays  duration_weekends  \n",
       "0                         0  2017-12-05                0.0           0.000000  \n",
       "1                         1  2017-06-26             2197.5        1900.357143  \n",
       "2                         0  2018-03-09                0.0           0.000000  \n",
       "3                         0  2018-06-15                0.0           0.000000  \n",
       "4                         0  2018-12-31            12873.4        6470.500000  "
      ]
     },
     "execution_count": 23,
     "metadata": {},
     "output_type": "execute_result"
    }
   ],
   "source": [
    "user_df.head(5)"
   ]
  },
  {
   "cell_type": "code",
   "execution_count": 24,
   "metadata": {},
   "outputs": [],
   "source": [
    "# we can also save this new dataframe to not always run everything\n",
    "user_df.to_csv(\"user.csv\", index=False)"
   ]
  },
  {
   "cell_type": "markdown",
   "metadata": {},
   "source": [
    "# 2.2 Choose your features (variables)!"
   ]
  },
  {
   "cell_type": "markdown",
   "metadata": {},
   "source": [
    "## 2.2.1 Normalization"
   ]
  },
  {
   "cell_type": "markdown",
   "metadata": {},
   "source": [
    "Many learning algorithms assume that all featured are centered around zero and have a variance of the same order.\n",
    "So, we want to normalise our varibales.\n",
    "Of course, not all variables need to be normalised.\n",
    "For example, we will not normalise date-columns or categorial variables. \n",
    "But we need to pay attention at the variances of real-valued variables, because they can confound our analysis"
   ]
  },
  {
   "cell_type": "code",
   "execution_count": 4,
   "metadata": {},
   "outputs": [],
   "source": [
    "user_df = pd.read_csv(\"user.csv\")"
   ]
  },
  {
   "cell_type": "code",
   "execution_count": 5,
   "metadata": {},
   "outputs": [
    {
     "data": {
      "text/html": [
       "<div>\n",
       "<style scoped>\n",
       "    .dataframe tbody tr th:only-of-type {\n",
       "        vertical-align: middle;\n",
       "    }\n",
       "\n",
       "    .dataframe tbody tr th {\n",
       "        vertical-align: top;\n",
       "    }\n",
       "\n",
       "    .dataframe thead th {\n",
       "        text-align: right;\n",
       "    }\n",
       "</style>\n",
       "<table border=\"1\" class=\"dataframe\">\n",
       "  <thead>\n",
       "    <tr style=\"text-align: right;\">\n",
       "      <th></th>\n",
       "      <th>average_click_duration</th>\n",
       "      <th>average_duration_per_day</th>\n",
       "      <th>days_logged_in</th>\n",
       "      <th>old_movie_duration</th>\n",
       "      <th>new_movie_duration</th>\n",
       "      <th>genres_clicked</th>\n",
       "      <th>longest_consecutive_days</th>\n",
       "      <th>duration_weekdays</th>\n",
       "      <th>duration_weekends</th>\n",
       "    </tr>\n",
       "  </thead>\n",
       "  <tbody>\n",
       "    <tr>\n",
       "      <th>count</th>\n",
       "      <td>1.543880e+05</td>\n",
       "      <td>1.543880e+05</td>\n",
       "      <td>1.543880e+05</td>\n",
       "      <td>1.543880e+05</td>\n",
       "      <td>1.543880e+05</td>\n",
       "      <td>1.543880e+05</td>\n",
       "      <td>1.543880e+05</td>\n",
       "      <td>1.543880e+05</td>\n",
       "      <td>1.543880e+05</td>\n",
       "    </tr>\n",
       "    <tr>\n",
       "      <th>mean</th>\n",
       "      <td>-2.798210e-17</td>\n",
       "      <td>6.751601e-17</td>\n",
       "      <td>1.145517e-16</td>\n",
       "      <td>-1.426719e-17</td>\n",
       "      <td>2.924773e-17</td>\n",
       "      <td>5.154597e-18</td>\n",
       "      <td>5.396218e-18</td>\n",
       "      <td>-2.262040e-17</td>\n",
       "      <td>9.618845e-18</td>\n",
       "    </tr>\n",
       "    <tr>\n",
       "      <th>std</th>\n",
       "      <td>1.000003e+00</td>\n",
       "      <td>1.000003e+00</td>\n",
       "      <td>1.000003e+00</td>\n",
       "      <td>1.000003e+00</td>\n",
       "      <td>1.000003e+00</td>\n",
       "      <td>1.000003e+00</td>\n",
       "      <td>1.000003e+00</td>\n",
       "      <td>1.000003e+00</td>\n",
       "      <td>1.000003e+00</td>\n",
       "    </tr>\n",
       "    <tr>\n",
       "      <th>min</th>\n",
       "      <td>-2.712040e-01</td>\n",
       "      <td>-2.977969e-01</td>\n",
       "      <td>-5.442600e-01</td>\n",
       "      <td>-1.492598e-01</td>\n",
       "      <td>-2.463530e-01</td>\n",
       "      <td>-5.481465e-01</td>\n",
       "      <td>-3.743935e-01</td>\n",
       "      <td>-2.183727e-01</td>\n",
       "      <td>-2.181328e-01</td>\n",
       "    </tr>\n",
       "    <tr>\n",
       "      <th>25%</th>\n",
       "      <td>-2.712040e-01</td>\n",
       "      <td>-2.977969e-01</td>\n",
       "      <td>-5.442600e-01</td>\n",
       "      <td>-1.492598e-01</td>\n",
       "      <td>-2.463530e-01</td>\n",
       "      <td>-5.481465e-01</td>\n",
       "      <td>-3.743935e-01</td>\n",
       "      <td>-2.183727e-01</td>\n",
       "      <td>-2.181328e-01</td>\n",
       "    </tr>\n",
       "    <tr>\n",
       "      <th>50%</th>\n",
       "      <td>-2.513756e-01</td>\n",
       "      <td>-2.713028e-01</td>\n",
       "      <td>-1.927199e-01</td>\n",
       "      <td>-1.492598e-01</td>\n",
       "      <td>-2.376377e-01</td>\n",
       "      <td>-2.517403e-01</td>\n",
       "      <td>-3.743935e-01</td>\n",
       "      <td>-2.183727e-01</td>\n",
       "      <td>-2.181328e-01</td>\n",
       "    </tr>\n",
       "    <tr>\n",
       "      <th>75%</th>\n",
       "      <td>-1.132558e-01</td>\n",
       "      <td>-9.221127e-02</td>\n",
       "      <td>1.588201e-01</td>\n",
       "      <td>-1.483778e-01</td>\n",
       "      <td>-1.302131e-01</td>\n",
       "      <td>4.466598e-02</td>\n",
       "      <td>-3.743935e-01</td>\n",
       "      <td>-1.589080e-01</td>\n",
       "      <td>-1.632953e-01</td>\n",
       "    </tr>\n",
       "    <tr>\n",
       "      <th>max</th>\n",
       "      <td>6.600016e+01</td>\n",
       "      <td>6.842756e+01</td>\n",
       "      <td>3.074280e+01</td>\n",
       "      <td>1.508879e+02</td>\n",
       "      <td>7.000681e+01</td>\n",
       "      <td>2.879607e+01</td>\n",
       "      <td>3.236261e+01</td>\n",
       "      <td>7.768819e+01</td>\n",
       "      <td>6.377235e+01</td>\n",
       "    </tr>\n",
       "  </tbody>\n",
       "</table>\n",
       "</div>"
      ],
      "text/plain": [
       "       average_click_duration  average_duration_per_day  days_logged_in  \\\n",
       "count            1.543880e+05              1.543880e+05    1.543880e+05   \n",
       "mean            -2.798210e-17              6.751601e-17    1.145517e-16   \n",
       "std              1.000003e+00              1.000003e+00    1.000003e+00   \n",
       "min             -2.712040e-01             -2.977969e-01   -5.442600e-01   \n",
       "25%             -2.712040e-01             -2.977969e-01   -5.442600e-01   \n",
       "50%             -2.513756e-01             -2.713028e-01   -1.927199e-01   \n",
       "75%             -1.132558e-01             -9.221127e-02    1.588201e-01   \n",
       "max              6.600016e+01              6.842756e+01    3.074280e+01   \n",
       "\n",
       "       old_movie_duration  new_movie_duration  genres_clicked  \\\n",
       "count        1.543880e+05        1.543880e+05    1.543880e+05   \n",
       "mean        -1.426719e-17        2.924773e-17    5.154597e-18   \n",
       "std          1.000003e+00        1.000003e+00    1.000003e+00   \n",
       "min         -1.492598e-01       -2.463530e-01   -5.481465e-01   \n",
       "25%         -1.492598e-01       -2.463530e-01   -5.481465e-01   \n",
       "50%         -1.492598e-01       -2.376377e-01   -2.517403e-01   \n",
       "75%         -1.483778e-01       -1.302131e-01    4.466598e-02   \n",
       "max          1.508879e+02        7.000681e+01    2.879607e+01   \n",
       "\n",
       "       longest_consecutive_days  duration_weekdays  duration_weekends  \n",
       "count              1.543880e+05       1.543880e+05       1.543880e+05  \n",
       "mean               5.396218e-18      -2.262040e-17       9.618845e-18  \n",
       "std                1.000003e+00       1.000003e+00       1.000003e+00  \n",
       "min               -3.743935e-01      -2.183727e-01      -2.181328e-01  \n",
       "25%               -3.743935e-01      -2.183727e-01      -2.181328e-01  \n",
       "50%               -3.743935e-01      -2.183727e-01      -2.181328e-01  \n",
       "75%               -3.743935e-01      -1.589080e-01      -1.632953e-01  \n",
       "max                3.236261e+01       7.768819e+01       6.377235e+01  "
      ]
     },
     "execution_count": 5,
     "metadata": {},
     "output_type": "execute_result"
    }
   ],
   "source": [
    "# We need to fisrt check our data because we do not want infinite values or any other errors, it seems that our data is ok so we can go on\n",
    "# Coping the dataframe created for the users\n",
    "user_df_normalized = user_df.copy()\n",
    "to_norm = user_df_normalized.select_dtypes(include=[\"int64\",\"float64\"]).keys()\n",
    "variables = user_df_normalized[to_norm]\n",
    "scaler = StandardScaler().fit(variables.values)\n",
    "variables = scaler.transform(variables.values)\n",
    "user_df_normalized[to_norm] = variables\n",
    "user_df_normalized.describe()\n",
    "# All the means are equal to 0 (they are very low) and the standard deviation is 1 (almost 1)"
   ]
  },
  {
   "cell_type": "code",
   "execution_count": 6,
   "metadata": {},
   "outputs": [
    {
     "data": {
      "text/html": [
       "<div>\n",
       "<style scoped>\n",
       "    .dataframe tbody tr th:only-of-type {\n",
       "        vertical-align: middle;\n",
       "    }\n",
       "\n",
       "    .dataframe tbody tr th {\n",
       "        vertical-align: top;\n",
       "    }\n",
       "\n",
       "    .dataframe thead th {\n",
       "        text-align: right;\n",
       "    }\n",
       "</style>\n",
       "<table border=\"1\" class=\"dataframe\">\n",
       "  <thead>\n",
       "    <tr style=\"text-align: right;\">\n",
       "      <th></th>\n",
       "      <th>user_id</th>\n",
       "      <th>genre</th>\n",
       "      <th>average_click_duration</th>\n",
       "      <th>hour_of_day_categorial</th>\n",
       "      <th>oldmovie</th>\n",
       "      <th>average_duration_per_day</th>\n",
       "      <th>days_logged_in</th>\n",
       "      <th>firts_access</th>\n",
       "      <th>old_movie_duration</th>\n",
       "      <th>new_movie_duration</th>\n",
       "      <th>active_day</th>\n",
       "      <th>genres_clicked</th>\n",
       "      <th>longest_consecutive_days</th>\n",
       "      <th>last_access</th>\n",
       "      <th>duration_weekdays</th>\n",
       "      <th>duration_weekends</th>\n",
       "    </tr>\n",
       "  </thead>\n",
       "  <tbody>\n",
       "    <tr>\n",
       "      <th>0</th>\n",
       "      <td>00004e2862</td>\n",
       "      <td>Crime</td>\n",
       "      <td>-0.271204</td>\n",
       "      <td>Afternoon</td>\n",
       "      <td>True</td>\n",
       "      <td>-0.297797</td>\n",
       "      <td>-0.54426</td>\n",
       "      <td>2017-12-05</td>\n",
       "      <td>-0.149260</td>\n",
       "      <td>-0.246353</td>\n",
       "      <td>Tuesday</td>\n",
       "      <td>-0.548147</td>\n",
       "      <td>-0.374394</td>\n",
       "      <td>2017-12-05</td>\n",
       "      <td>-0.218373</td>\n",
       "      <td>-0.218133</td>\n",
       "    </tr>\n",
       "    <tr>\n",
       "      <th>1</th>\n",
       "      <td>000052a0a0</td>\n",
       "      <td>Action</td>\n",
       "      <td>-0.259511</td>\n",
       "      <td>Night</td>\n",
       "      <td>False</td>\n",
       "      <td>-0.273962</td>\n",
       "      <td>2.61960</td>\n",
       "      <td>2017-05-23</td>\n",
       "      <td>-0.134915</td>\n",
       "      <td>-0.232884</td>\n",
       "      <td>Sunday</td>\n",
       "      <td>2.415916</td>\n",
       "      <td>0.794785</td>\n",
       "      <td>2017-06-26</td>\n",
       "      <td>-0.203449</td>\n",
       "      <td>-0.204779</td>\n",
       "    </tr>\n",
       "    <tr>\n",
       "      <th>2</th>\n",
       "      <td>000090e7c8</td>\n",
       "      <td>Mystery</td>\n",
       "      <td>-0.271204</td>\n",
       "      <td>Afternoon</td>\n",
       "      <td>False</td>\n",
       "      <td>-0.297797</td>\n",
       "      <td>-0.54426</td>\n",
       "      <td>2018-03-09</td>\n",
       "      <td>-0.149260</td>\n",
       "      <td>-0.246353</td>\n",
       "      <td>Friday</td>\n",
       "      <td>-0.548147</td>\n",
       "      <td>-0.374394</td>\n",
       "      <td>2018-03-09</td>\n",
       "      <td>-0.218373</td>\n",
       "      <td>-0.218133</td>\n",
       "    </tr>\n",
       "    <tr>\n",
       "      <th>3</th>\n",
       "      <td>000118a755</td>\n",
       "      <td>Horror</td>\n",
       "      <td>-0.271204</td>\n",
       "      <td>Night</td>\n",
       "      <td>False</td>\n",
       "      <td>-0.297797</td>\n",
       "      <td>-0.19272</td>\n",
       "      <td>2018-06-14</td>\n",
       "      <td>-0.149260</td>\n",
       "      <td>-0.246353</td>\n",
       "      <td>Friday</td>\n",
       "      <td>-0.251740</td>\n",
       "      <td>-0.374394</td>\n",
       "      <td>2018-06-15</td>\n",
       "      <td>-0.218373</td>\n",
       "      <td>-0.218133</td>\n",
       "    </tr>\n",
       "    <tr>\n",
       "      <th>4</th>\n",
       "      <td>000296842d</td>\n",
       "      <td>Drama</td>\n",
       "      <td>-0.207405</td>\n",
       "      <td>Night</td>\n",
       "      <td>False</td>\n",
       "      <td>-0.108148</td>\n",
       "      <td>-0.19272</td>\n",
       "      <td>2018-12-30</td>\n",
       "      <td>-0.149260</td>\n",
       "      <td>-0.178720</td>\n",
       "      <td>Monday</td>\n",
       "      <td>-0.548147</td>\n",
       "      <td>-0.374394</td>\n",
       "      <td>2018-12-31</td>\n",
       "      <td>-0.130949</td>\n",
       "      <td>-0.172663</td>\n",
       "    </tr>\n",
       "  </tbody>\n",
       "</table>\n",
       "</div>"
      ],
      "text/plain": [
       "      user_id    genre  average_click_duration hour_of_day_categorial  \\\n",
       "0  00004e2862    Crime               -0.271204              Afternoon   \n",
       "1  000052a0a0   Action               -0.259511                  Night   \n",
       "2  000090e7c8  Mystery               -0.271204              Afternoon   \n",
       "3  000118a755   Horror               -0.271204                  Night   \n",
       "4  000296842d    Drama               -0.207405                  Night   \n",
       "\n",
       "   oldmovie  average_duration_per_day  days_logged_in firts_access  \\\n",
       "0      True                 -0.297797        -0.54426   2017-12-05   \n",
       "1     False                 -0.273962         2.61960   2017-05-23   \n",
       "2     False                 -0.297797        -0.54426   2018-03-09   \n",
       "3     False                 -0.297797        -0.19272   2018-06-14   \n",
       "4     False                 -0.108148        -0.19272   2018-12-30   \n",
       "\n",
       "   old_movie_duration  new_movie_duration active_day  genres_clicked  \\\n",
       "0           -0.149260           -0.246353    Tuesday       -0.548147   \n",
       "1           -0.134915           -0.232884     Sunday        2.415916   \n",
       "2           -0.149260           -0.246353     Friday       -0.548147   \n",
       "3           -0.149260           -0.246353     Friday       -0.251740   \n",
       "4           -0.149260           -0.178720     Monday       -0.548147   \n",
       "\n",
       "   longest_consecutive_days last_access  duration_weekdays  duration_weekends  \n",
       "0                 -0.374394  2017-12-05          -0.218373          -0.218133  \n",
       "1                  0.794785  2017-06-26          -0.203449          -0.204779  \n",
       "2                 -0.374394  2018-03-09          -0.218373          -0.218133  \n",
       "3                 -0.374394  2018-06-15          -0.218373          -0.218133  \n",
       "4                 -0.374394  2018-12-31          -0.130949          -0.172663  "
      ]
     },
     "execution_count": 6,
     "metadata": {},
     "output_type": "execute_result"
    }
   ],
   "source": [
    "user_df_normalized.head(5)"
   ]
  },
  {
   "cell_type": "markdown",
   "metadata": {},
   "source": [
    "## 2.2.2 PCA"
   ]
  },
  {
   "cell_type": "markdown",
   "metadata": {},
   "source": [
    "First, notice we have both numerical and categorical variables.\n",
    "But on closer analysis, we find that categorical variables are often obtained from numerical ones. Think for example of \"hour_of_day\" or \"active_day\" they are directly obtained from \"Duration\"!\n",
    "We can then think of focusing our attention exclusively on numerical variables, and this allows us to be able to perform dimensionality reduction with PCA (which does not support qualitative variables)."
   ]
  },
  {
   "cell_type": "code",
   "execution_count": 7,
   "metadata": {},
   "outputs": [
    {
     "data": {
      "text/html": [
       "<div>\n",
       "<style scoped>\n",
       "    .dataframe tbody tr th:only-of-type {\n",
       "        vertical-align: middle;\n",
       "    }\n",
       "\n",
       "    .dataframe tbody tr th {\n",
       "        vertical-align: top;\n",
       "    }\n",
       "\n",
       "    .dataframe thead th {\n",
       "        text-align: right;\n",
       "    }\n",
       "</style>\n",
       "<table border=\"1\" class=\"dataframe\">\n",
       "  <thead>\n",
       "    <tr style=\"text-align: right;\">\n",
       "      <th></th>\n",
       "      <th>average_click_duration</th>\n",
       "      <th>average_duration_per_day</th>\n",
       "      <th>days_logged_in</th>\n",
       "      <th>old_movie_duration</th>\n",
       "      <th>new_movie_duration</th>\n",
       "      <th>genres_clicked</th>\n",
       "      <th>longest_consecutive_days</th>\n",
       "      <th>duration_weekdays</th>\n",
       "      <th>duration_weekends</th>\n",
       "    </tr>\n",
       "  </thead>\n",
       "  <tbody>\n",
       "    <tr>\n",
       "      <th>0</th>\n",
       "      <td>-0.271204</td>\n",
       "      <td>-0.297797</td>\n",
       "      <td>-0.54426</td>\n",
       "      <td>-0.149260</td>\n",
       "      <td>-0.246353</td>\n",
       "      <td>-0.548147</td>\n",
       "      <td>-0.374394</td>\n",
       "      <td>-0.218373</td>\n",
       "      <td>-0.218133</td>\n",
       "    </tr>\n",
       "    <tr>\n",
       "      <th>1</th>\n",
       "      <td>-0.259511</td>\n",
       "      <td>-0.273962</td>\n",
       "      <td>2.61960</td>\n",
       "      <td>-0.134915</td>\n",
       "      <td>-0.232884</td>\n",
       "      <td>2.415916</td>\n",
       "      <td>0.794785</td>\n",
       "      <td>-0.203449</td>\n",
       "      <td>-0.204779</td>\n",
       "    </tr>\n",
       "    <tr>\n",
       "      <th>2</th>\n",
       "      <td>-0.271204</td>\n",
       "      <td>-0.297797</td>\n",
       "      <td>-0.54426</td>\n",
       "      <td>-0.149260</td>\n",
       "      <td>-0.246353</td>\n",
       "      <td>-0.548147</td>\n",
       "      <td>-0.374394</td>\n",
       "      <td>-0.218373</td>\n",
       "      <td>-0.218133</td>\n",
       "    </tr>\n",
       "    <tr>\n",
       "      <th>3</th>\n",
       "      <td>-0.271204</td>\n",
       "      <td>-0.297797</td>\n",
       "      <td>-0.19272</td>\n",
       "      <td>-0.149260</td>\n",
       "      <td>-0.246353</td>\n",
       "      <td>-0.251740</td>\n",
       "      <td>-0.374394</td>\n",
       "      <td>-0.218373</td>\n",
       "      <td>-0.218133</td>\n",
       "    </tr>\n",
       "    <tr>\n",
       "      <th>4</th>\n",
       "      <td>-0.207405</td>\n",
       "      <td>-0.108148</td>\n",
       "      <td>-0.19272</td>\n",
       "      <td>-0.149260</td>\n",
       "      <td>-0.178720</td>\n",
       "      <td>-0.548147</td>\n",
       "      <td>-0.374394</td>\n",
       "      <td>-0.130949</td>\n",
       "      <td>-0.172663</td>\n",
       "    </tr>\n",
       "    <tr>\n",
       "      <th>...</th>\n",
       "      <td>...</td>\n",
       "      <td>...</td>\n",
       "      <td>...</td>\n",
       "      <td>...</td>\n",
       "      <td>...</td>\n",
       "      <td>...</td>\n",
       "      <td>...</td>\n",
       "      <td>...</td>\n",
       "      <td>...</td>\n",
       "    </tr>\n",
       "    <tr>\n",
       "      <th>154383</th>\n",
       "      <td>-0.222130</td>\n",
       "      <td>-0.256118</td>\n",
       "      <td>-0.54426</td>\n",
       "      <td>-0.149260</td>\n",
       "      <td>-0.194330</td>\n",
       "      <td>-0.548147</td>\n",
       "      <td>-0.374394</td>\n",
       "      <td>-0.160683</td>\n",
       "      <td>-0.218133</td>\n",
       "    </tr>\n",
       "    <tr>\n",
       "      <th>154384</th>\n",
       "      <td>-0.260892</td>\n",
       "      <td>-0.289039</td>\n",
       "      <td>-0.54426</td>\n",
       "      <td>-0.149260</td>\n",
       "      <td>-0.235422</td>\n",
       "      <td>-0.548147</td>\n",
       "      <td>-0.374394</td>\n",
       "      <td>-0.218373</td>\n",
       "      <td>-0.205589</td>\n",
       "    </tr>\n",
       "    <tr>\n",
       "      <th>154385</th>\n",
       "      <td>-0.036629</td>\n",
       "      <td>-0.023859</td>\n",
       "      <td>1.91652</td>\n",
       "      <td>0.773647</td>\n",
       "      <td>-0.094076</td>\n",
       "      <td>1.823104</td>\n",
       "      <td>0.794785</td>\n",
       "      <td>0.155062</td>\n",
       "      <td>-0.202307</td>\n",
       "    </tr>\n",
       "    <tr>\n",
       "      <th>154386</th>\n",
       "      <td>-0.271204</td>\n",
       "      <td>-0.297797</td>\n",
       "      <td>-0.54426</td>\n",
       "      <td>-0.149260</td>\n",
       "      <td>-0.246353</td>\n",
       "      <td>-0.251740</td>\n",
       "      <td>-0.374394</td>\n",
       "      <td>-0.218373</td>\n",
       "      <td>-0.218133</td>\n",
       "    </tr>\n",
       "    <tr>\n",
       "      <th>154387</th>\n",
       "      <td>-0.271204</td>\n",
       "      <td>-0.297797</td>\n",
       "      <td>-0.54426</td>\n",
       "      <td>-0.149260</td>\n",
       "      <td>-0.246353</td>\n",
       "      <td>-0.548147</td>\n",
       "      <td>-0.374394</td>\n",
       "      <td>-0.218373</td>\n",
       "      <td>-0.218133</td>\n",
       "    </tr>\n",
       "  </tbody>\n",
       "</table>\n",
       "<p>154388 rows × 9 columns</p>\n",
       "</div>"
      ],
      "text/plain": [
       "        average_click_duration  average_duration_per_day  days_logged_in  \\\n",
       "0                    -0.271204                 -0.297797        -0.54426   \n",
       "1                    -0.259511                 -0.273962         2.61960   \n",
       "2                    -0.271204                 -0.297797        -0.54426   \n",
       "3                    -0.271204                 -0.297797        -0.19272   \n",
       "4                    -0.207405                 -0.108148        -0.19272   \n",
       "...                        ...                       ...             ...   \n",
       "154383               -0.222130                 -0.256118        -0.54426   \n",
       "154384               -0.260892                 -0.289039        -0.54426   \n",
       "154385               -0.036629                 -0.023859         1.91652   \n",
       "154386               -0.271204                 -0.297797        -0.54426   \n",
       "154387               -0.271204                 -0.297797        -0.54426   \n",
       "\n",
       "        old_movie_duration  new_movie_duration  genres_clicked  \\\n",
       "0                -0.149260           -0.246353       -0.548147   \n",
       "1                -0.134915           -0.232884        2.415916   \n",
       "2                -0.149260           -0.246353       -0.548147   \n",
       "3                -0.149260           -0.246353       -0.251740   \n",
       "4                -0.149260           -0.178720       -0.548147   \n",
       "...                    ...                 ...             ...   \n",
       "154383           -0.149260           -0.194330       -0.548147   \n",
       "154384           -0.149260           -0.235422       -0.548147   \n",
       "154385            0.773647           -0.094076        1.823104   \n",
       "154386           -0.149260           -0.246353       -0.251740   \n",
       "154387           -0.149260           -0.246353       -0.548147   \n",
       "\n",
       "        longest_consecutive_days  duration_weekdays  duration_weekends  \n",
       "0                      -0.374394          -0.218373          -0.218133  \n",
       "1                       0.794785          -0.203449          -0.204779  \n",
       "2                      -0.374394          -0.218373          -0.218133  \n",
       "3                      -0.374394          -0.218373          -0.218133  \n",
       "4                      -0.374394          -0.130949          -0.172663  \n",
       "...                          ...                ...                ...  \n",
       "154383                 -0.374394          -0.160683          -0.218133  \n",
       "154384                 -0.374394          -0.218373          -0.205589  \n",
       "154385                  0.794785           0.155062          -0.202307  \n",
       "154386                 -0.374394          -0.218373          -0.218133  \n",
       "154387                 -0.374394          -0.218373          -0.218133  \n",
       "\n",
       "[154388 rows x 9 columns]"
      ]
     },
     "execution_count": 7,
     "metadata": {},
     "output_type": "execute_result"
    }
   ],
   "source": [
    "X = user_df_normalized.copy() # we create a copy of the dataset\n",
    "# We drop non-numerical columns:\n",
    "numeric_cols = X.select_dtypes(include = 'number' ).columns.tolist()\n",
    "X = X[numeric_cols]\n",
    "X"
   ]
  },
  {
   "cell_type": "markdown",
   "metadata": {},
   "source": [
    "Let's see what Principal Component Analysis is and why it is usefull for us.   \n",
    "In principal component analysis, we start with the data matrix $X$ that consists of $NxD$ variables and obtain a matrix with $N$ rows but the columns are a smaller number.                              \n",
    "Principal components are summaries of the information (variance) that is contained in the original variables.                  \n",
    "The main purpose for which it is used in data analysis is for **dimensionality reduction**. \n",
    "\n",
    "\n",
    "You get to have a number of principal components that are _uncorrelated_ with each other and each of the components summarizes a part of the _variance_; the first component summarizes as much variance as possible and the other components will summarize a smaller amount of variance.                     \n",
    "Principal components are not observable, they represent latent concepts i.e., a summary of variables that are observable and are correlated with each other.\n",
    "\n",
    "\n",
    "**Geometrically**, the PCA produces an _orthogonal projection_ of the datapoints \"cloud\" representing the $n$ statistical units in the $D$-dimensional space of variables into a subspace of lower dimensions.                          \n",
    "The objective of this projection that is made by the PCA is to distort the point cloud as little as possible by minimizing the sum of the squares of the differences between the Euclidean distances between pairs of points and their projections in the reduced space.                                   \n",
    "The first component is placed where the range of variation of the datapoints is largest, and the second component is orthogonal to the first and is placed where there is most variance that has not yet been explained."
   ]
  },
  {
   "cell_type": "code",
   "execution_count": 18,
   "metadata": {},
   "outputs": [
    {
     "data": {
      "image/png": "[encoded data removed]",
      "text/plain": [
       "<Figure size 1100x650 with 1 Axes>"
      ]
     },
     "metadata": {},
     "output_type": "display_data"
    },
    {
     "name": "stdout",
     "output_type": "stream",
     "text": [
      "**************************************************************************************************************\n",
      "\n",
      "Our 4 principal components:\n"
     ]
    },
    {
     "data": {
      "text/plain": [
       "array([[-5.42706645e-01, -8.76951238e-01, -9.53061426e-03,\n",
       "         5.05860885e-03],\n",
       "       [-6.94620576e-01,  3.37693692e+00, -9.87110152e-02,\n",
       "        -8.44614763e-02],\n",
       "       [-5.42706645e-01, -8.76951238e-01, -9.53061426e-03,\n",
       "         5.05860883e-03],\n",
       "       ...,\n",
       "       [-4.36479467e-02,  2.67104995e+00,  3.24277595e-01,\n",
       "         6.22613931e-01],\n",
       "       [-5.51412151e-01, -7.06649958e-01, -1.27360779e-02,\n",
       "         1.49891256e-03],\n",
       "       [-5.42706645e-01, -8.76951238e-01, -9.53061426e-03,\n",
       "         5.05860885e-03]])"
      ]
     },
     "execution_count": 18,
     "metadata": {},
     "output_type": "execute_result"
    }
   ],
   "source": [
    "# Now that we have our new dataset ready, we search the optimal number of principal components:\n",
    "\n",
    "def pca_hw4(X, treshold):\n",
    "    \n",
    "    # Part 1: We find the optimal number of components ------------------------------------\n",
    "    n = len(X.axes[1]) # number of columns of X\n",
    "    covar_matrix = PCA(n_components = n).fit(X) \n",
    "  \n",
    "    ## Variance explained for each of the principal components\n",
    "    variance = covar_matrix.explained_variance_ratio_\n",
    "    cumulative_var = np.cumsum( np.round(variance, decimals = 3) * 100 )\n",
    "\n",
    "    ## Find the number of components you need to go over your treshold:\n",
    "    num_components = len(cumulative_var) # default value\n",
    "    for i in range(len(cumulative_var)):\n",
    "        if cumulative_var[i] >= treshold:\n",
    "            num_components = i+1\n",
    "            break     \n",
    "\n",
    "    # Part 2: Plot to find the number of principal components you need ---------------------\n",
    "\n",
    "    tot_num_components = len(cumulative_var)\n",
    "    \n",
    "    x = [x for x in range(1, tot_num_components + 1)] # numbers from 1 to maximum number of components\n",
    "    y = [var for var in cumulative_var] # value of the cumulative variance\n",
    "\n",
    "    # We will color the component that reaches to explain the desired level of variance with a different color\n",
    "    customized_col = [\"#FFB703\" if c <= num_components else \"#219EBC\" for c in x] \n",
    "\n",
    "    fig, ax = plt.subplots(figsize=(11, 6.5))\n",
    "\n",
    "    ax.set_title('Principal Components Cum. Variance', fontsize = 20)\n",
    "    ax.set_ylabel('Cumulative Variance % Explained', fontsize = 15)\n",
    "    ax.set_xlabel('Principal Components', fontsize = 15)\n",
    "\n",
    "    ax.axhline(treshold, color = '#FB8500', linewidth = 1.75, linestyle = \"--\")\n",
    "\n",
    "    sns.barplot(x = x,y = y, palette = customized_col) \n",
    "    ax.bar_label(ax.containers[0])\n",
    "    plt.show()\n",
    "\n",
    "    # Part 3: we perform the PCA with the chosen number of principal components ------------------\n",
    "\n",
    "    pca = PCA(n_components = num_components)\n",
    "    principal_components = pca.fit_transform(X)\n",
    "\n",
    "    # Part 4: Just the print of the dataframe containing the principal components -------------------\n",
    "\n",
    "    print('*' * 110) # only to divide the output...\n",
    "    print('')\n",
    "    print('Our', num_components, 'principal components:')\n",
    "\n",
    "    return principal_components\n",
    "    \n",
    "\n",
    "pca_analysis = pca_hw4(X, treshold = 90)\n",
    "pca_analysis"
   ]
  },
  {
   "cell_type": "markdown",
   "metadata": {},
   "source": [
    "As we can see with only 3 principal components we can summarize 82% of the total variance, with 4 components we would have 92.6%                     \n",
    "We can also try to see the combination of variables that created each principal component with an heatmap.                \n",
    "_pca.components_**2_ Square the elements of the principal component matrix. This represents the percentage of variance explained by each variable for each principal component.              \n",
    "\n",
    "The first principal component explains 26% of __average_click_duration__, 25% of __average_duration_per_day__, 4% of __old_movie_duration__, 21% of __new_movie_duration__, 13% of __duration_weekdays__, and 12% of __duration_weekends__.               \n",
    "The second principal component explains 36% of __days_logged_in__ variable, 33% of __genres_clicked__ and 30% of __longest_consecutive_days__.  \n",
    "\n",
    "It can be seen that there are no variables in common between the first two principal components.             \n",
    "\n",
    "The first component refers mainly to variables extracted from the _\"duration\"_ column of the original dataframe, while the second main component summarizes variables that were constructed from other columns of the original dataframe.     \n",
    "      \n",
    "To complete our analysis, we can also see that the third principal component explains 46% of the variance of __old_movie_duration__, 10% of __new_movie_duration__, 20% of __duration_weekdays__, and 24% of __duration_weekends__."
   ]
  },
  {
   "cell_type": "code",
   "execution_count": 63,
   "metadata": {},
   "outputs": [
    {
     "data": {
      "text/plain": [
       "<Axes: >"
      ]
     },
     "execution_count": 63,
     "metadata": {},
     "output_type": "execute_result"
    },
    {
     "data": {
      "image/png": "[encoded data removed]",
      "text/plain": [
       "<Figure size 640x480 with 2 Axes>"
      ]
     },
     "metadata": {},
     "output_type": "display_data"
    }
   ],
   "source": [
    "n = len(X.axes[1]) # number of columns of X\n",
    "pca = PCA(n_components = n).fit(X) \n",
    "sns.heatmap(pca.components_**2,\n",
    "                 yticklabels=[\"PC\"+str(x) for x in range(1, pca.n_components_+1)],\n",
    "                 xticklabels=to_norm,\n",
    "                 annot=True,\n",
    "                 fmt='.2f',\n",
    "                 square=True,\n",
    "                 linewidths=0.1,\n",
    "                 cmap= \"crest\")"
   ]
  },
  {
   "cell_type": "code",
   "execution_count": null,
   "metadata": {},
   "outputs": [],
   "source": [
    "############ for 2.3 the results of the PCA is in pca_analysis"
   ]
  }
 ],
 "metadata": {
  "kernelspec": {
   "display_name": "Python 3",
   "language": "python",
   "name": "python3"
  },
  "language_info": {
   "codemirror_mode": {
    "name": "ipython",
    "version": 3
   },
   "file_extension": ".py",
   "mimetype": "text/x-python",
   "name": "python",
   "nbconvert_exporter": "python",
   "pygments_lexer": "ipython3",
   "version": "3.11.3"
  }
 },
 "nbformat": 4,
 "nbformat_minor": 2
}
