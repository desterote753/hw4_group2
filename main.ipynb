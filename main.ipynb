{
 "cells": [
  {
   "cell_type": "markdown",
   "metadata": {},
   "source": [
    "# Homework 4 - Recommendation systems and clustering everywhere"
   ]
  },
  {
   "cell_type": "markdown",
   "metadata": {},
   "source": [
    "## 1. Recommendation sytem"
   ]
  },
  {
   "cell_type": "markdown",
   "metadata": {},
   "source": [
    "### 1.1 Gather the title and genre of the maximum top 10 movies that each user clicked on regarding the number of clicks."
   ]
  },
  {
   "cell_type": "code",
   "execution_count": null,
   "metadata": {},
   "outputs": [],
   "source": [
    "#from google.colab import drive\n",
    "#drive.mount('/content/drive')"
   ]
  },
  {
   "cell_type": "code",
   "execution_count": null,
   "metadata": {},
   "outputs": [
    {
     "data": {
      "text/html": [
       "<div>\n",
       "<style scoped>\n",
       "    .dataframe tbody tr th:only-of-type {\n",
       "        vertical-align: middle;\n",
       "    }\n",
       "\n",
       "    .dataframe tbody tr th {\n",
       "        vertical-align: top;\n",
       "    }\n",
       "\n",
       "    .dataframe thead th {\n",
       "        text-align: right;\n",
       "    }\n",
       "</style>\n",
       "<table border=\"1\" class=\"dataframe\">\n",
       "  <thead>\n",
       "    <tr style=\"text-align: right;\">\n",
       "      <th></th>\n",
       "      <th>Unnamed: 0</th>\n",
       "      <th>datetime</th>\n",
       "      <th>duration</th>\n",
       "      <th>title</th>\n",
       "      <th>genres</th>\n",
       "      <th>release_date</th>\n",
       "      <th>movie_id</th>\n",
       "      <th>user_id</th>\n",
       "    </tr>\n",
       "  </thead>\n",
       "  <tbody>\n",
       "    <tr>\n",
       "      <th>0</th>\n",
       "      <td>58773</td>\n",
       "      <td>2017-01-01 01:15:09</td>\n",
       "      <td>0.0</td>\n",
       "      <td>Angus, Thongs and Perfect Snogging</td>\n",
       "      <td>Comedy, Drama, Romance</td>\n",
       "      <td>2008-07-25</td>\n",
       "      <td>26bd5987e8</td>\n",
       "      <td>1dea19f6fe</td>\n",
       "    </tr>\n",
       "    <tr>\n",
       "      <th>1</th>\n",
       "      <td>58774</td>\n",
       "      <td>2017-01-01 13:56:02</td>\n",
       "      <td>0.0</td>\n",
       "      <td>The Curse of Sleeping Beauty</td>\n",
       "      <td>Fantasy, Horror, Mystery, Thriller</td>\n",
       "      <td>2016-06-02</td>\n",
       "      <td>f26ed2675e</td>\n",
       "      <td>544dcbc510</td>\n",
       "    </tr>\n",
       "    <tr>\n",
       "      <th>2</th>\n",
       "      <td>58775</td>\n",
       "      <td>2017-01-01 15:17:47</td>\n",
       "      <td>10530.0</td>\n",
       "      <td>London Has Fallen</td>\n",
       "      <td>Action, Thriller</td>\n",
       "      <td>2016-03-04</td>\n",
       "      <td>f77e500e7a</td>\n",
       "      <td>7cbcc791bf</td>\n",
       "    </tr>\n",
       "    <tr>\n",
       "      <th>3</th>\n",
       "      <td>58776</td>\n",
       "      <td>2017-01-01 16:04:13</td>\n",
       "      <td>49.0</td>\n",
       "      <td>Vendetta</td>\n",
       "      <td>Action, Drama</td>\n",
       "      <td>2015-06-12</td>\n",
       "      <td>c74aec7673</td>\n",
       "      <td>ebf43c36b6</td>\n",
       "    </tr>\n",
       "    <tr>\n",
       "      <th>4</th>\n",
       "      <td>58777</td>\n",
       "      <td>2017-01-01 19:16:37</td>\n",
       "      <td>0.0</td>\n",
       "      <td>The SpongeBob SquarePants Movie</td>\n",
       "      <td>Animation, Action, Adventure, Comedy, Family, ...</td>\n",
       "      <td>2004-11-19</td>\n",
       "      <td>a80d6fc2aa</td>\n",
       "      <td>a57c992287</td>\n",
       "    </tr>\n",
       "  </tbody>\n",
       "</table>\n",
       "</div>"
      ],
      "text/plain": [
       "   Unnamed: 0             datetime  duration  \\\n",
       "0       58773  2017-01-01 01:15:09       0.0   \n",
       "1       58774  2017-01-01 13:56:02       0.0   \n",
       "2       58775  2017-01-01 15:17:47   10530.0   \n",
       "3       58776  2017-01-01 16:04:13      49.0   \n",
       "4       58777  2017-01-01 19:16:37       0.0   \n",
       "\n",
       "                                title  \\\n",
       "0  Angus, Thongs and Perfect Snogging   \n",
       "1        The Curse of Sleeping Beauty   \n",
       "2                   London Has Fallen   \n",
       "3                            Vendetta   \n",
       "4     The SpongeBob SquarePants Movie   \n",
       "\n",
       "                                              genres release_date    movie_id  \\\n",
       "0                             Comedy, Drama, Romance   2008-07-25  26bd5987e8   \n",
       "1                 Fantasy, Horror, Mystery, Thriller   2016-06-02  f26ed2675e   \n",
       "2                                   Action, Thriller   2016-03-04  f77e500e7a   \n",
       "3                                      Action, Drama   2015-06-12  c74aec7673   \n",
       "4  Animation, Action, Adventure, Comedy, Family, ...   2004-11-19  a80d6fc2aa   \n",
       "\n",
       "      user_id  \n",
       "0  1dea19f6fe  \n",
       "1  544dcbc510  \n",
       "2  7cbcc791bf  \n",
       "3  ebf43c36b6  \n",
       "4  a57c992287  "
      ]
     },
     "metadata": {},
     "output_type": "display_data"
    }
   ],
   "source": [
    "import pandas as pd\n",
    "import numpy as np\n",
    "import time\n",
    "import itertools\n",
    "from collections import defaultdict \n",
    "import numpy as np\n",
    "import matplotlib.pyplot as plt\n",
    "import random\n",
    "import warnings\n",
    "warnings.filterwarnings(\"ignore\", category=FutureWarning)\n",
    "dataset = pd.read_csv(\"vodclickstream_uk_movies_03.csv\")\n",
    "dataset.head()"
   ]
  },
  {
   "cell_type": "markdown",
   "metadata": {},
   "source": [
    "After reading the data, I will change the data type for the following columns: [datetime and release_date] to a pandas date time object. Also, I will check how many null values are present in my dataset. Lastly, I will replace the name of the column \"Unnamed: 0\" with \"session\", as the name makes more sense. "
   ]
  },
  {
   "cell_type": "code",
   "execution_count": null,
   "metadata": {},
   "outputs": [
    {
     "name": "stdout",
     "output_type": "stream",
     "text": [
      "Unnamed: 0          0\n",
      "datetime            0\n",
      "duration            0\n",
      "title               0\n",
      "genres              0\n",
      "release_date    30304\n",
      "movie_id            0\n",
      "user_id             0\n",
      "dtype: int64\n"
     ]
    }
   ],
   "source": [
    "dataset.datetime = pd.to_datetime(dataset.datetime)\n",
    "dataset.release_date = pd.to_datetime(dataset.release_date, errors='coerce')\n",
    "print(dataset.isnull().sum())\n",
    "dataset.rename(columns={'Unnamed: 0': 'session'}, inplace=True)"
   ]
  },
  {
   "cell_type": "markdown",
   "metadata": {},
   "source": [
    "We have 30304 missing values for release_date column. But for our purpose, this won't be an issue."
   ]
  },
  {
   "cell_type": "markdown",
   "metadata": {},
   "source": [
    "Now, we have to gather the **title and genre** of the **top 10** movies, with regards to the **number of clicks** per user. To be able to break down the dataset into a form where I can access the top ten movie titles and genres for each user, I will use `groupby()` and `sort_values()` repetitively on the dataframe."
   ]
  },
  {
   "cell_type": "code",
   "execution_count": null,
   "metadata": {},
   "outputs": [],
   "source": [
    "user_click_counts = dataset.groupby(['user_id', 'title', 'genres']).size().reset_index(name='click_count')\n",
    "\n",
    "# Sort the movies for each user based on click counts\n",
    "user_click_counts = user_click_counts.sort_values(['user_id', 'click_count'], ascending=[True, False])\n",
    "\n",
    "# Get the top 10 movies for each user\n",
    "top_10_movies_per_user = user_click_counts.groupby('user_id').head(10)\n",
    "\n",
    "# Extract title and genre of the top 10 movies\n",
    "df = top_10_movies_per_user[['user_id', 'title', 'genres', 'click_count']]"
   ]
  },
  {
   "cell_type": "code",
   "execution_count": null,
   "metadata": {},
   "outputs": [
    {
     "data": {
      "text/html": [
       "<div>\n",
       "<style scoped>\n",
       "    .dataframe tbody tr th:only-of-type {\n",
       "        vertical-align: middle;\n",
       "    }\n",
       "\n",
       "    .dataframe tbody tr th {\n",
       "        vertical-align: top;\n",
       "    }\n",
       "\n",
       "    .dataframe thead th {\n",
       "        text-align: right;\n",
       "    }\n",
       "</style>\n",
       "<table border=\"1\" class=\"dataframe\">\n",
       "  <thead>\n",
       "    <tr style=\"text-align: right;\">\n",
       "      <th></th>\n",
       "      <th>user_id</th>\n",
       "      <th>title</th>\n",
       "      <th>genres</th>\n",
       "      <th>click_count</th>\n",
       "    </tr>\n",
       "  </thead>\n",
       "  <tbody>\n",
       "    <tr>\n",
       "      <th>0</th>\n",
       "      <td>00004e2862</td>\n",
       "      <td>Hannibal</td>\n",
       "      <td>Crime, Drama, Thriller</td>\n",
       "      <td>1</td>\n",
       "    </tr>\n",
       "    <tr>\n",
       "      <th>6</th>\n",
       "      <td>000052a0a0</td>\n",
       "      <td>Looper</td>\n",
       "      <td>Action, Drama, Sci-Fi, Thriller</td>\n",
       "      <td>9</td>\n",
       "    </tr>\n",
       "    <tr>\n",
       "      <th>3</th>\n",
       "      <td>000052a0a0</td>\n",
       "      <td>Frailty</td>\n",
       "      <td>Crime, Drama, Thriller</td>\n",
       "      <td>3</td>\n",
       "    </tr>\n",
       "    <tr>\n",
       "      <th>5</th>\n",
       "      <td>000052a0a0</td>\n",
       "      <td>Jumanji</td>\n",
       "      <td>Adventure, Comedy, Family, Fantasy</td>\n",
       "      <td>3</td>\n",
       "    </tr>\n",
       "    <tr>\n",
       "      <th>7</th>\n",
       "      <td>000052a0a0</td>\n",
       "      <td>Resident Evil</td>\n",
       "      <td>Action, Horror, Sci-Fi</td>\n",
       "      <td>2</td>\n",
       "    </tr>\n",
       "  </tbody>\n",
       "</table>\n",
       "</div>"
      ],
      "text/plain": [
       "      user_id          title                              genres  click_count\n",
       "0  00004e2862       Hannibal              Crime, Drama, Thriller            1\n",
       "6  000052a0a0         Looper     Action, Drama, Sci-Fi, Thriller            9\n",
       "3  000052a0a0        Frailty              Crime, Drama, Thriller            3\n",
       "5  000052a0a0        Jumanji  Adventure, Comedy, Family, Fantasy            3\n",
       "7  000052a0a0  Resident Evil              Action, Horror, Sci-Fi            2"
      ]
     },
     "metadata": {},
     "output_type": "display_data"
    }
   ],
   "source": [
    "df.head()"
   ]
  },
  {
   "cell_type": "markdown",
   "metadata": {},
   "source": [
    "### 1.2\n",
    "\n",
    "#### Using the movie genre and user_ids, try to implement your min-hash signatures so that users with similar interests in a genre appear in the same bucket.\n",
    "\n",
    "---\n",
    "\n",
    "##### Important note: You must write your minhash function from scratch. You are not permitted to use any already implemented hash functions. Read the class materials and, if necessary, conduct an internet search. The description of hash functions in the book may be helpful as a reference."
   ]
  },
  {
   "cell_type": "markdown",
   "metadata": {},
   "source": [
    "---\n",
    "Now, I will define a funtion, name as `get_unique_genres_for_user()`, which will aid in storing **storing** unique genres for each user in the `df` dataframe. I will, again, `groupby()` the `df` dataframe by `user_id` column, select the `genres` column and apply our `get_unique_genres_for_user()` function across the `genres` column. This will output a dataframe, that I have named `user_genres`, which contains two columns: `user_id` and `genres`. `user_id` is a column with, as you will see, unique users and `genres` is a column which has a string of unique genres - concatenated together by commas. "
   ]
  },
  {
   "cell_type": "code",
   "execution_count": null,
   "metadata": {},
   "outputs": [],
   "source": [
    "def get_unique_genres_for_user(group):\n",
    "    # Combine all genres for a user into a single list\n",
    "    all_genres = [genre.split(', ') for genre in group]\n",
    "    # Flatten the list of lists and create a set of unique genres\n",
    "    unique_genres = set([item for sublist in all_genres for item in sublist])\n",
    "    return ', '.join(unique_genres)"
   ]
  },
  {
   "cell_type": "code",
   "execution_count": null,
   "metadata": {},
   "outputs": [
    {
     "name": "stdout",
     "output_type": "stream",
     "text": [
      "(161918, 2)\n"
     ]
    },
    {
     "data": {
      "text/html": [
       "<div>\n",
       "<style scoped>\n",
       "    .dataframe tbody tr th:only-of-type {\n",
       "        vertical-align: middle;\n",
       "    }\n",
       "\n",
       "    .dataframe tbody tr th {\n",
       "        vertical-align: top;\n",
       "    }\n",
       "\n",
       "    .dataframe thead th {\n",
       "        text-align: right;\n",
       "    }\n",
       "</style>\n",
       "<table border=\"1\" class=\"dataframe\">\n",
       "  <thead>\n",
       "    <tr style=\"text-align: right;\">\n",
       "      <th></th>\n",
       "      <th>user_id</th>\n",
       "      <th>genres</th>\n",
       "    </tr>\n",
       "  </thead>\n",
       "  <tbody>\n",
       "    <tr>\n",
       "      <th>0</th>\n",
       "      <td>00004e2862</td>\n",
       "      <td>Crime, Drama, Thriller</td>\n",
       "    </tr>\n",
       "    <tr>\n",
       "      <th>1</th>\n",
       "      <td>000052a0a0</td>\n",
       "      <td>Action, Comedy, Mystery, Thriller, Horror, Adv...</td>\n",
       "    </tr>\n",
       "    <tr>\n",
       "      <th>2</th>\n",
       "      <td>000090e7c8</td>\n",
       "      <td>Mystery, Thriller, Sci-Fi</td>\n",
       "    </tr>\n",
       "  </tbody>\n",
       "</table>\n",
       "</div>"
      ],
      "text/plain": [
       "      user_id                                             genres\n",
       "0  00004e2862                             Crime, Drama, Thriller\n",
       "1  000052a0a0  Action, Comedy, Mystery, Thriller, Horror, Adv...\n",
       "2  000090e7c8                          Mystery, Thriller, Sci-Fi"
      ]
     },
     "metadata": {},
     "output_type": "display_data"
    }
   ],
   "source": [
    "# grouping on user_id, then selection the genres column and applying our function!\n",
    "user_genres = df.groupby('user_id')['genres'].apply(lambda x: get_unique_genres_for_user(x)).reset_index()\n",
    "print(user_genres.shape)\n",
    "user_genres.head(3)"
   ]
  },
  {
   "cell_type": "markdown",
   "metadata": {},
   "source": [
    "I will now check to verify if all the values are unique:"
   ]
  },
  {
   "cell_type": "code",
   "execution_count": null,
   "metadata": {},
   "outputs": [
    {
     "data": {
      "text/plain": [
       "161918"
      ]
     },
     "metadata": {},
     "output_type": "display_data"
    }
   ],
   "source": [
    "user_genres.user_id.nunique()"
   ]
  },
  {
   "cell_type": "markdown",
   "metadata": {},
   "source": [
    "Indeed the number of unique user_ids matches the size of the dataframe. Lastly, I will just explore one random entry of the genres column."
   ]
  },
  {
   "cell_type": "code",
   "execution_count": null,
   "metadata": {},
   "outputs": [
    {
     "data": {
      "text/plain": [
       "'Action, Comedy, Mystery, Thriller, Horror, Adventure, Fantasy, Family, Sci-Fi, Crime, Drama, Sport, Music'"
      ]
     },
     "metadata": {},
     "output_type": "display_data"
    }
   ],
   "source": [
    "user_genres.genres[1]"
   ]
  },
  {
   "cell_type": "markdown",
   "metadata": {},
   "source": [
    "First stop in our Locality Sensitive Hashing process is: **k-Shingling**, or simply **Shingling**. It is the process of converting a string of text into a set of ‘shingles’. The process is similar to moving a window of length k down our string of text and taking a picture at each step. We collate all of those pictures to create our set of shingles. But for our purpose, we will intake the complete word from the genre column."
   ]
  },
  {
   "cell_type": "code",
   "execution_count": null,
   "metadata": {},
   "outputs": [],
   "source": [
    "# Convert genre string to list ~ Shingle for each user.\n",
    "user_genres['genres'] = user_genres['genres'].apply(lambda x: x.split(', '))\n",
    "\n",
    "# Get all unique genres\n",
    "unique_genres = set()\n",
    "for genres in user_genres['genres']:\n",
    "    unique_genres.update(genres)\n",
    "\n",
    "unique_genres = list(unique_genres)\n",
    "unique_genres.sort()\n",
    "\n",
    "# Create a dictionary to map genres to column indices - it will help in one hot encoding later.\n",
    "genre_to_index = {genre: i for i, genre in enumerate(unique_genres)}"
   ]
  },
  {
   "cell_type": "markdown",
   "metadata": {},
   "source": [
    "Now, I will build a sparse (one hot encoding matrix), also know as characteristics matrix for our data. Rows are the elements (shingles) and columns will be the User_ids in which they appeared. The entry will be 1 if the element (shingle) is in the column (user_id).\n",
    "\n",
    "I will follow the procedure of the book.\n",
    "\n",
    "<img src = \"https://drive.google.com/uc?id=1n752VizpcQaPKajZNjjfuQHd9MQy5e0W\">"
   ]
  },
  {
   "cell_type": "code",
   "execution_count": null,
   "metadata": {},
   "outputs": [
    {
     "name": "stdout",
     "output_type": "stream",
     "text": [
      "(27, 161918)\n"
     ]
    },
    {
     "data": {
      "text/html": [
       "<div>\n",
       "<style scoped>\n",
       "    .dataframe tbody tr th:only-of-type {\n",
       "        vertical-align: middle;\n",
       "    }\n",
       "\n",
       "    .dataframe tbody tr th {\n",
       "        vertical-align: top;\n",
       "    }\n",
       "\n",
       "    .dataframe thead th {\n",
       "        text-align: right;\n",
       "    }\n",
       "</style>\n",
       "<table border=\"1\" class=\"dataframe\">\n",
       "  <thead>\n",
       "    <tr style=\"text-align: right;\">\n",
       "      <th></th>\n",
       "      <th>00004e2862</th>\n",
       "      <th>000052a0a0</th>\n",
       "      <th>000090e7c8</th>\n",
       "      <th>000118a755</th>\n",
       "      <th>000296842d</th>\n",
       "      <th>0002aab109</th>\n",
       "      <th>0002abf14f</th>\n",
       "      <th>0002d1c4b1</th>\n",
       "      <th>000499c2b6</th>\n",
       "      <th>00051f0e1f</th>\n",
       "    </tr>\n",
       "  </thead>\n",
       "  <tbody>\n",
       "    <tr>\n",
       "      <th>Action</th>\n",
       "      <td>0</td>\n",
       "      <td>1</td>\n",
       "      <td>0</td>\n",
       "      <td>0</td>\n",
       "      <td>0</td>\n",
       "      <td>0</td>\n",
       "      <td>0</td>\n",
       "      <td>0</td>\n",
       "      <td>0</td>\n",
       "      <td>1</td>\n",
       "    </tr>\n",
       "    <tr>\n",
       "      <th>Adventure</th>\n",
       "      <td>0</td>\n",
       "      <td>1</td>\n",
       "      <td>0</td>\n",
       "      <td>0</td>\n",
       "      <td>0</td>\n",
       "      <td>0</td>\n",
       "      <td>0</td>\n",
       "      <td>0</td>\n",
       "      <td>1</td>\n",
       "      <td>1</td>\n",
       "    </tr>\n",
       "    <tr>\n",
       "      <th>Animation</th>\n",
       "      <td>0</td>\n",
       "      <td>0</td>\n",
       "      <td>0</td>\n",
       "      <td>0</td>\n",
       "      <td>0</td>\n",
       "      <td>0</td>\n",
       "      <td>0</td>\n",
       "      <td>0</td>\n",
       "      <td>1</td>\n",
       "      <td>0</td>\n",
       "    </tr>\n",
       "    <tr>\n",
       "      <th>Biography</th>\n",
       "      <td>0</td>\n",
       "      <td>0</td>\n",
       "      <td>0</td>\n",
       "      <td>0</td>\n",
       "      <td>0</td>\n",
       "      <td>1</td>\n",
       "      <td>0</td>\n",
       "      <td>0</td>\n",
       "      <td>0</td>\n",
       "      <td>0</td>\n",
       "    </tr>\n",
       "    <tr>\n",
       "      <th>Comedy</th>\n",
       "      <td>0</td>\n",
       "      <td>1</td>\n",
       "      <td>0</td>\n",
       "      <td>0</td>\n",
       "      <td>0</td>\n",
       "      <td>1</td>\n",
       "      <td>0</td>\n",
       "      <td>1</td>\n",
       "      <td>1</td>\n",
       "      <td>1</td>\n",
       "    </tr>\n",
       "    <tr>\n",
       "      <th>Crime</th>\n",
       "      <td>1</td>\n",
       "      <td>1</td>\n",
       "      <td>0</td>\n",
       "      <td>0</td>\n",
       "      <td>0</td>\n",
       "      <td>1</td>\n",
       "      <td>0</td>\n",
       "      <td>0</td>\n",
       "      <td>0</td>\n",
       "      <td>0</td>\n",
       "    </tr>\n",
       "    <tr>\n",
       "      <th>Documentary</th>\n",
       "      <td>0</td>\n",
       "      <td>0</td>\n",
       "      <td>0</td>\n",
       "      <td>0</td>\n",
       "      <td>0</td>\n",
       "      <td>0</td>\n",
       "      <td>0</td>\n",
       "      <td>0</td>\n",
       "      <td>0</td>\n",
       "      <td>0</td>\n",
       "    </tr>\n",
       "    <tr>\n",
       "      <th>Drama</th>\n",
       "      <td>1</td>\n",
       "      <td>1</td>\n",
       "      <td>0</td>\n",
       "      <td>0</td>\n",
       "      <td>1</td>\n",
       "      <td>1</td>\n",
       "      <td>1</td>\n",
       "      <td>0</td>\n",
       "      <td>0</td>\n",
       "      <td>0</td>\n",
       "    </tr>\n",
       "    <tr>\n",
       "      <th>Family</th>\n",
       "      <td>0</td>\n",
       "      <td>1</td>\n",
       "      <td>0</td>\n",
       "      <td>0</td>\n",
       "      <td>0</td>\n",
       "      <td>0</td>\n",
       "      <td>0</td>\n",
       "      <td>0</td>\n",
       "      <td>1</td>\n",
       "      <td>0</td>\n",
       "    </tr>\n",
       "    <tr>\n",
       "      <th>Fantasy</th>\n",
       "      <td>0</td>\n",
       "      <td>1</td>\n",
       "      <td>0</td>\n",
       "      <td>0</td>\n",
       "      <td>0</td>\n",
       "      <td>0</td>\n",
       "      <td>0</td>\n",
       "      <td>0</td>\n",
       "      <td>1</td>\n",
       "      <td>0</td>\n",
       "    </tr>\n",
       "    <tr>\n",
       "      <th>Film-Noir</th>\n",
       "      <td>0</td>\n",
       "      <td>0</td>\n",
       "      <td>0</td>\n",
       "      <td>0</td>\n",
       "      <td>0</td>\n",
       "      <td>0</td>\n",
       "      <td>0</td>\n",
       "      <td>0</td>\n",
       "      <td>0</td>\n",
       "      <td>0</td>\n",
       "    </tr>\n",
       "    <tr>\n",
       "      <th>History</th>\n",
       "      <td>0</td>\n",
       "      <td>0</td>\n",
       "      <td>0</td>\n",
       "      <td>0</td>\n",
       "      <td>0</td>\n",
       "      <td>0</td>\n",
       "      <td>0</td>\n",
       "      <td>0</td>\n",
       "      <td>0</td>\n",
       "      <td>0</td>\n",
       "    </tr>\n",
       "    <tr>\n",
       "      <th>Horror</th>\n",
       "      <td>0</td>\n",
       "      <td>1</td>\n",
       "      <td>0</td>\n",
       "      <td>1</td>\n",
       "      <td>0</td>\n",
       "      <td>0</td>\n",
       "      <td>0</td>\n",
       "      <td>0</td>\n",
       "      <td>0</td>\n",
       "      <td>0</td>\n",
       "    </tr>\n",
       "    <tr>\n",
       "      <th>Music</th>\n",
       "      <td>0</td>\n",
       "      <td>1</td>\n",
       "      <td>0</td>\n",
       "      <td>0</td>\n",
       "      <td>0</td>\n",
       "      <td>0</td>\n",
       "      <td>0</td>\n",
       "      <td>0</td>\n",
       "      <td>0</td>\n",
       "      <td>0</td>\n",
       "    </tr>\n",
       "    <tr>\n",
       "      <th>Musical</th>\n",
       "      <td>0</td>\n",
       "      <td>0</td>\n",
       "      <td>0</td>\n",
       "      <td>0</td>\n",
       "      <td>0</td>\n",
       "      <td>0</td>\n",
       "      <td>0</td>\n",
       "      <td>0</td>\n",
       "      <td>0</td>\n",
       "      <td>0</td>\n",
       "    </tr>\n",
       "    <tr>\n",
       "      <th>Mystery</th>\n",
       "      <td>0</td>\n",
       "      <td>1</td>\n",
       "      <td>1</td>\n",
       "      <td>0</td>\n",
       "      <td>1</td>\n",
       "      <td>0</td>\n",
       "      <td>0</td>\n",
       "      <td>0</td>\n",
       "      <td>0</td>\n",
       "      <td>0</td>\n",
       "    </tr>\n",
       "    <tr>\n",
       "      <th>NOT AVAILABLE</th>\n",
       "      <td>0</td>\n",
       "      <td>0</td>\n",
       "      <td>0</td>\n",
       "      <td>1</td>\n",
       "      <td>0</td>\n",
       "      <td>0</td>\n",
       "      <td>0</td>\n",
       "      <td>0</td>\n",
       "      <td>0</td>\n",
       "      <td>0</td>\n",
       "    </tr>\n",
       "    <tr>\n",
       "      <th>News</th>\n",
       "      <td>0</td>\n",
       "      <td>0</td>\n",
       "      <td>0</td>\n",
       "      <td>0</td>\n",
       "      <td>0</td>\n",
       "      <td>0</td>\n",
       "      <td>0</td>\n",
       "      <td>0</td>\n",
       "      <td>0</td>\n",
       "      <td>0</td>\n",
       "    </tr>\n",
       "    <tr>\n",
       "      <th>Reality-TV</th>\n",
       "      <td>0</td>\n",
       "      <td>0</td>\n",
       "      <td>0</td>\n",
       "      <td>0</td>\n",
       "      <td>0</td>\n",
       "      <td>0</td>\n",
       "      <td>0</td>\n",
       "      <td>0</td>\n",
       "      <td>0</td>\n",
       "      <td>0</td>\n",
       "    </tr>\n",
       "    <tr>\n",
       "      <th>Romance</th>\n",
       "      <td>0</td>\n",
       "      <td>0</td>\n",
       "      <td>0</td>\n",
       "      <td>0</td>\n",
       "      <td>0</td>\n",
       "      <td>0</td>\n",
       "      <td>1</td>\n",
       "      <td>0</td>\n",
       "      <td>0</td>\n",
       "      <td>0</td>\n",
       "    </tr>\n",
       "    <tr>\n",
       "      <th>Sci-Fi</th>\n",
       "      <td>0</td>\n",
       "      <td>1</td>\n",
       "      <td>1</td>\n",
       "      <td>0</td>\n",
       "      <td>1</td>\n",
       "      <td>0</td>\n",
       "      <td>0</td>\n",
       "      <td>1</td>\n",
       "      <td>0</td>\n",
       "      <td>1</td>\n",
       "    </tr>\n",
       "    <tr>\n",
       "      <th>Short</th>\n",
       "      <td>0</td>\n",
       "      <td>0</td>\n",
       "      <td>0</td>\n",
       "      <td>0</td>\n",
       "      <td>0</td>\n",
       "      <td>0</td>\n",
       "      <td>0</td>\n",
       "      <td>0</td>\n",
       "      <td>0</td>\n",
       "      <td>0</td>\n",
       "    </tr>\n",
       "    <tr>\n",
       "      <th>Sport</th>\n",
       "      <td>0</td>\n",
       "      <td>1</td>\n",
       "      <td>0</td>\n",
       "      <td>0</td>\n",
       "      <td>0</td>\n",
       "      <td>0</td>\n",
       "      <td>0</td>\n",
       "      <td>0</td>\n",
       "      <td>0</td>\n",
       "      <td>0</td>\n",
       "    </tr>\n",
       "    <tr>\n",
       "      <th>Talk-Show</th>\n",
       "      <td>0</td>\n",
       "      <td>0</td>\n",
       "      <td>0</td>\n",
       "      <td>0</td>\n",
       "      <td>0</td>\n",
       "      <td>0</td>\n",
       "      <td>0</td>\n",
       "      <td>0</td>\n",
       "      <td>0</td>\n",
       "      <td>0</td>\n",
       "    </tr>\n",
       "    <tr>\n",
       "      <th>Thriller</th>\n",
       "      <td>1</td>\n",
       "      <td>1</td>\n",
       "      <td>1</td>\n",
       "      <td>0</td>\n",
       "      <td>1</td>\n",
       "      <td>0</td>\n",
       "      <td>0</td>\n",
       "      <td>0</td>\n",
       "      <td>0</td>\n",
       "      <td>0</td>\n",
       "    </tr>\n",
       "    <tr>\n",
       "      <th>War</th>\n",
       "      <td>0</td>\n",
       "      <td>0</td>\n",
       "      <td>0</td>\n",
       "      <td>0</td>\n",
       "      <td>0</td>\n",
       "      <td>0</td>\n",
       "      <td>0</td>\n",
       "      <td>0</td>\n",
       "      <td>0</td>\n",
       "      <td>0</td>\n",
       "    </tr>\n",
       "    <tr>\n",
       "      <th>Western</th>\n",
       "      <td>0</td>\n",
       "      <td>0</td>\n",
       "      <td>0</td>\n",
       "      <td>0</td>\n",
       "      <td>0</td>\n",
       "      <td>0</td>\n",
       "      <td>0</td>\n",
       "      <td>0</td>\n",
       "      <td>0</td>\n",
       "      <td>0</td>\n",
       "    </tr>\n",
       "  </tbody>\n",
       "</table>\n",
       "</div>"
      ],
      "text/plain": [
       "               00004e2862  000052a0a0  000090e7c8  000118a755  000296842d  \\\n",
       "Action                  0           1           0           0           0   \n",
       "Adventure               0           1           0           0           0   \n",
       "Animation               0           0           0           0           0   \n",
       "Biography               0           0           0           0           0   \n",
       "Comedy                  0           1           0           0           0   \n",
       "Crime                   1           1           0           0           0   \n",
       "Documentary             0           0           0           0           0   \n",
       "Drama                   1           1           0           0           1   \n",
       "Family                  0           1           0           0           0   \n",
       "Fantasy                 0           1           0           0           0   \n",
       "Film-Noir               0           0           0           0           0   \n",
       "History                 0           0           0           0           0   \n",
       "Horror                  0           1           0           1           0   \n",
       "Music                   0           1           0           0           0   \n",
       "Musical                 0           0           0           0           0   \n",
       "Mystery                 0           1           1           0           1   \n",
       "NOT AVAILABLE           0           0           0           1           0   \n",
       "News                    0           0           0           0           0   \n",
       "Reality-TV              0           0           0           0           0   \n",
       "Romance                 0           0           0           0           0   \n",
       "Sci-Fi                  0           1           1           0           1   \n",
       "Short                   0           0           0           0           0   \n",
       "Sport                   0           1           0           0           0   \n",
       "Talk-Show               0           0           0           0           0   \n",
       "Thriller                1           1           1           0           1   \n",
       "War                     0           0           0           0           0   \n",
       "Western                 0           0           0           0           0   \n",
       "\n",
       "               0002aab109  0002abf14f  0002d1c4b1  000499c2b6  00051f0e1f  \n",
       "Action                  0           0           0           0           1  \n",
       "Adventure               0           0           0           1           1  \n",
       "Animation               0           0           0           1           0  \n",
       "Biography               1           0           0           0           0  \n",
       "Comedy                  1           0           1           1           1  \n",
       "Crime                   1           0           0           0           0  \n",
       "Documentary             0           0           0           0           0  \n",
       "Drama                   1           1           0           0           0  \n",
       "Family                  0           0           0           1           0  \n",
       "Fantasy                 0           0           0           1           0  \n",
       "Film-Noir               0           0           0           0           0  \n",
       "History                 0           0           0           0           0  \n",
       "Horror                  0           0           0           0           0  \n",
       "Music                   0           0           0           0           0  \n",
       "Musical                 0           0           0           0           0  \n",
       "Mystery                 0           0           0           0           0  \n",
       "NOT AVAILABLE           0           0           0           0           0  \n",
       "News                    0           0           0           0           0  \n",
       "Reality-TV              0           0           0           0           0  \n",
       "Romance                 0           1           0           0           0  \n",
       "Sci-Fi                  0           0           1           0           1  \n",
       "Short                   0           0           0           0           0  \n",
       "Sport                   0           0           0           0           0  \n",
       "Talk-Show               0           0           0           0           0  \n",
       "Thriller                0           0           0           0           0  \n",
       "War                     0           0           0           0           0  \n",
       "Western                 0           0           0           0           0  "
      ]
     },
     "metadata": {},
     "output_type": "display_data"
    }
   ],
   "source": [
    "# Create a matrix representation (one-hot encoding) for users' genres\n",
    "matrix_representation = [] # matrix initialisation \n",
    "for genres in user_genres['genres']: # for each genre_list in user_genres['genres'] column\n",
    "    # Create a row filled with zeros equal to the number of unique genres\n",
    "    row = [0] * len(unique_genres)\n",
    "    for genre in genres: # for each genre in the genres (list)\n",
    "        # Set the index in the row to 1 for genre index is present in genre_to_index dict\n",
    "        row[genre_to_index[genre]] = 1\n",
    "    matrix_representation.append(row)\n",
    "\n",
    "matrix_df = pd.DataFrame(matrix_representation, columns=unique_genres) # initialisation of empty df\n",
    "matrix_df.set_index(user_genres['user_id'], inplace=True) # setting index to the user_id column of our original dataframe\n",
    "matrix_df.index.name = None # to get rid of name when transpose will be applied\n",
    "matrix_df = matrix_df.T # transposing to get the format, as in the book\n",
    "print(matrix_df.shape)\n",
    "matrix_df.iloc[:,:10] # all rows (genres) and first 10 columns."
   ]
  },
  {
   "cell_type": "markdown",
   "metadata": {},
   "source": [
    "Minhashing is the next step in our LSH process, allowing us to convert our sparse vectors into dense vectors. But before we can perform minhashing on our sparse vectors, what we do is generate some carefully chosen hash functions that simulate the effect of permuting the entire rows uniquely. Also, the number of hash functions we chose here would reflect the number of rows we want to create in our dense vector/signature. For example, If we want 8 rows in our signature matrix (dense representation), we would use 8 hash functions. At the end of this, we produce our minhash signature — or dense vector.\n",
    "\n",
    "Again, I will be following the algorith provided by the author of the book:\n",
    "\n",
    "---\n",
    "<img src = \"https://drive.google.com/uc?id=1P48autheVmPblZ3k2RrJ97cS_URD0Thu\" width=\"600\" height=\"100\">"
   ]
  },
  {
   "cell_type": "code",
   "execution_count": null,
   "metadata": {},
   "outputs": [],
   "source": [
    "# Define the number of: hash functions, unique genres, and hash functions with specific 'a' and 'b' values\n",
    "num_hash_functions = 8\n",
    "num_genres = len(unique_genres)\n",
    "# the values of a and b here are chosen carefully, after much trial and error. they simulate a true permuation.\n",
    "hash_functions = [(82, 15), (4, 95), (1, 3), (29, 18), (95, 14), (7, 7), (70, 12), (76, 55)]\n",
    "\n",
    "# Convert the DataFrame to a NumPy array for faster computations\n",
    "matrix_array = matrix_df.values.astype(int)\n",
    "\n",
    "# Initialize the signature matrix with infinity values\n",
    "# of dimension num_hash_functions * num_of_users\n",
    "signature_matrix = np.full((num_hash_functions, matrix_array.shape[1]), np.inf) \n",
    "\n",
    "for r in range(matrix_array.shape[0]):  # Iterate through rows\n",
    "    for c in range(matrix_array.shape[1]):  # Iterate through columns\n",
    "        if matrix_array[r, c] != 0: # for all non zero value\n",
    "            for i, (a, b) in enumerate(hash_functions):  # Iterate through hash functions\n",
    "                hash_val = ((a * r + b) % num_genres)  # Calculate the hash value\n",
    "                signature_matrix[i, c] = min(signature_matrix[i, c], hash_val) # take the min and plug it in sig matrix"
   ]
  },
  {
   "cell_type": "code",
   "execution_count": null,
   "metadata": {},
   "outputs": [
    {
     "data": {
      "text/html": [
       "<div>\n",
       "<style scoped>\n",
       "    .dataframe tbody tr th:only-of-type {\n",
       "        vertical-align: middle;\n",
       "    }\n",
       "\n",
       "    .dataframe tbody tr th {\n",
       "        vertical-align: top;\n",
       "    }\n",
       "\n",
       "    .dataframe thead th {\n",
       "        text-align: right;\n",
       "    }\n",
       "</style>\n",
       "<table border=\"1\" class=\"dataframe\">\n",
       "  <thead>\n",
       "    <tr style=\"text-align: right;\">\n",
       "      <th></th>\n",
       "      <th>00004e2862</th>\n",
       "      <th>000052a0a0</th>\n",
       "      <th>000090e7c8</th>\n",
       "      <th>000118a755</th>\n",
       "      <th>000296842d</th>\n",
       "      <th>0002aab109</th>\n",
       "      <th>0002abf14f</th>\n",
       "      <th>0002d1c4b1</th>\n",
       "      <th>000499c2b6</th>\n",
       "      <th>00051f0e1f</th>\n",
       "      <th>...</th>\n",
       "      <th>fffb9ecb47</th>\n",
       "      <th>fffc1d209b</th>\n",
       "      <th>fffd345213</th>\n",
       "      <th>fffd4d1888</th>\n",
       "      <th>fffd6433d2</th>\n",
       "      <th>fffd9bf758</th>\n",
       "      <th>fffe7b777b</th>\n",
       "      <th>fffeac83be</th>\n",
       "      <th>ffff2c5f9e</th>\n",
       "      <th>ffffd36adf</th>\n",
       "    </tr>\n",
       "  </thead>\n",
       "  <tbody>\n",
       "    <tr>\n",
       "      <th>0</th>\n",
       "      <td>12.0</td>\n",
       "      <td>0.0</td>\n",
       "      <td>3.0</td>\n",
       "      <td>0.0</td>\n",
       "      <td>3.0</td>\n",
       "      <td>18.0</td>\n",
       "      <td>7.0</td>\n",
       "      <td>8.0</td>\n",
       "      <td>16.0</td>\n",
       "      <td>8.0</td>\n",
       "      <td>...</td>\n",
       "      <td>3.0</td>\n",
       "      <td>8.0</td>\n",
       "      <td>16.0</td>\n",
       "      <td>7.0</td>\n",
       "      <td>6.0</td>\n",
       "      <td>3.0</td>\n",
       "      <td>8.0</td>\n",
       "      <td>3.0</td>\n",
       "      <td>3.0</td>\n",
       "      <td>20.0</td>\n",
       "    </tr>\n",
       "    <tr>\n",
       "      <th>1</th>\n",
       "      <td>2.0</td>\n",
       "      <td>2.0</td>\n",
       "      <td>2.0</td>\n",
       "      <td>8.0</td>\n",
       "      <td>2.0</td>\n",
       "      <td>3.0</td>\n",
       "      <td>9.0</td>\n",
       "      <td>3.0</td>\n",
       "      <td>3.0</td>\n",
       "      <td>3.0</td>\n",
       "      <td>...</td>\n",
       "      <td>3.0</td>\n",
       "      <td>3.0</td>\n",
       "      <td>3.0</td>\n",
       "      <td>2.0</td>\n",
       "      <td>5.0</td>\n",
       "      <td>7.0</td>\n",
       "      <td>2.0</td>\n",
       "      <td>3.0</td>\n",
       "      <td>2.0</td>\n",
       "      <td>7.0</td>\n",
       "    </tr>\n",
       "    <tr>\n",
       "      <th>2</th>\n",
       "      <td>0.0</td>\n",
       "      <td>0.0</td>\n",
       "      <td>0.0</td>\n",
       "      <td>15.0</td>\n",
       "      <td>0.0</td>\n",
       "      <td>6.0</td>\n",
       "      <td>10.0</td>\n",
       "      <td>7.0</td>\n",
       "      <td>4.0</td>\n",
       "      <td>3.0</td>\n",
       "      <td>...</td>\n",
       "      <td>6.0</td>\n",
       "      <td>2.0</td>\n",
       "      <td>4.0</td>\n",
       "      <td>0.0</td>\n",
       "      <td>21.0</td>\n",
       "      <td>8.0</td>\n",
       "      <td>0.0</td>\n",
       "      <td>1.0</td>\n",
       "      <td>0.0</td>\n",
       "      <td>8.0</td>\n",
       "    </tr>\n",
       "    <tr>\n",
       "      <th>3</th>\n",
       "      <td>1.0</td>\n",
       "      <td>1.0</td>\n",
       "      <td>4.0</td>\n",
       "      <td>15.0</td>\n",
       "      <td>4.0</td>\n",
       "      <td>1.0</td>\n",
       "      <td>2.0</td>\n",
       "      <td>4.0</td>\n",
       "      <td>7.0</td>\n",
       "      <td>4.0</td>\n",
       "      <td>...</td>\n",
       "      <td>1.0</td>\n",
       "      <td>1.0</td>\n",
       "      <td>7.0</td>\n",
       "      <td>2.0</td>\n",
       "      <td>0.0</td>\n",
       "      <td>1.0</td>\n",
       "      <td>4.0</td>\n",
       "      <td>1.0</td>\n",
       "      <td>3.0</td>\n",
       "      <td>1.0</td>\n",
       "    </tr>\n",
       "    <tr>\n",
       "      <th>4</th>\n",
       "      <td>3.0</td>\n",
       "      <td>1.0</td>\n",
       "      <td>8.0</td>\n",
       "      <td>20.0</td>\n",
       "      <td>4.0</td>\n",
       "      <td>2.0</td>\n",
       "      <td>4.0</td>\n",
       "      <td>16.0</td>\n",
       "      <td>1.0</td>\n",
       "      <td>1.0</td>\n",
       "      <td>...</td>\n",
       "      <td>2.0</td>\n",
       "      <td>0.0</td>\n",
       "      <td>1.0</td>\n",
       "      <td>4.0</td>\n",
       "      <td>23.0</td>\n",
       "      <td>3.0</td>\n",
       "      <td>4.0</td>\n",
       "      <td>2.0</td>\n",
       "      <td>8.0</td>\n",
       "      <td>3.0</td>\n",
       "    </tr>\n",
       "    <tr>\n",
       "      <th>5</th>\n",
       "      <td>2.0</td>\n",
       "      <td>2.0</td>\n",
       "      <td>4.0</td>\n",
       "      <td>10.0</td>\n",
       "      <td>2.0</td>\n",
       "      <td>1.0</td>\n",
       "      <td>2.0</td>\n",
       "      <td>8.0</td>\n",
       "      <td>8.0</td>\n",
       "      <td>7.0</td>\n",
       "      <td>...</td>\n",
       "      <td>1.0</td>\n",
       "      <td>0.0</td>\n",
       "      <td>8.0</td>\n",
       "      <td>2.0</td>\n",
       "      <td>25.0</td>\n",
       "      <td>4.0</td>\n",
       "      <td>2.0</td>\n",
       "      <td>1.0</td>\n",
       "      <td>4.0</td>\n",
       "      <td>2.0</td>\n",
       "    </tr>\n",
       "    <tr>\n",
       "      <th>6</th>\n",
       "      <td>11.0</td>\n",
       "      <td>1.0</td>\n",
       "      <td>8.0</td>\n",
       "      <td>15.0</td>\n",
       "      <td>8.0</td>\n",
       "      <td>6.0</td>\n",
       "      <td>16.0</td>\n",
       "      <td>8.0</td>\n",
       "      <td>1.0</td>\n",
       "      <td>1.0</td>\n",
       "      <td>...</td>\n",
       "      <td>0.0</td>\n",
       "      <td>1.0</td>\n",
       "      <td>1.0</td>\n",
       "      <td>12.0</td>\n",
       "      <td>3.0</td>\n",
       "      <td>0.0</td>\n",
       "      <td>8.0</td>\n",
       "      <td>0.0</td>\n",
       "      <td>0.0</td>\n",
       "      <td>11.0</td>\n",
       "    </tr>\n",
       "    <tr>\n",
       "      <th>7</th>\n",
       "      <td>3.0</td>\n",
       "      <td>1.0</td>\n",
       "      <td>7.0</td>\n",
       "      <td>2.0</td>\n",
       "      <td>7.0</td>\n",
       "      <td>3.0</td>\n",
       "      <td>14.0</td>\n",
       "      <td>8.0</td>\n",
       "      <td>8.0</td>\n",
       "      <td>1.0</td>\n",
       "      <td>...</td>\n",
       "      <td>3.0</td>\n",
       "      <td>1.0</td>\n",
       "      <td>8.0</td>\n",
       "      <td>1.0</td>\n",
       "      <td>19.0</td>\n",
       "      <td>3.0</td>\n",
       "      <td>9.0</td>\n",
       "      <td>0.0</td>\n",
       "      <td>1.0</td>\n",
       "      <td>3.0</td>\n",
       "    </tr>\n",
       "  </tbody>\n",
       "</table>\n",
       "<p>8 rows × 161918 columns</p>\n",
       "</div>"
      ],
      "text/plain": [
       "   00004e2862  000052a0a0  000090e7c8  000118a755  000296842d  0002aab109  \\\n",
       "0        12.0         0.0         3.0         0.0         3.0        18.0   \n",
       "1         2.0         2.0         2.0         8.0         2.0         3.0   \n",
       "2         0.0         0.0         0.0        15.0         0.0         6.0   \n",
       "3         1.0         1.0         4.0        15.0         4.0         1.0   \n",
       "4         3.0         1.0         8.0        20.0         4.0         2.0   \n",
       "5         2.0         2.0         4.0        10.0         2.0         1.0   \n",
       "6        11.0         1.0         8.0        15.0         8.0         6.0   \n",
       "7         3.0         1.0         7.0         2.0         7.0         3.0   \n",
       "\n",
       "   0002abf14f  0002d1c4b1  000499c2b6  00051f0e1f  ...  fffb9ecb47  \\\n",
       "0         7.0         8.0        16.0         8.0  ...         3.0   \n",
       "1         9.0         3.0         3.0         3.0  ...         3.0   \n",
       "2        10.0         7.0         4.0         3.0  ...         6.0   \n",
       "3         2.0         4.0         7.0         4.0  ...         1.0   \n",
       "4         4.0        16.0         1.0         1.0  ...         2.0   \n",
       "5         2.0         8.0         8.0         7.0  ...         1.0   \n",
       "6        16.0         8.0         1.0         1.0  ...         0.0   \n",
       "7        14.0         8.0         8.0         1.0  ...         3.0   \n",
       "\n",
       "   fffc1d209b  fffd345213  fffd4d1888  fffd6433d2  fffd9bf758  fffe7b777b  \\\n",
       "0         8.0        16.0         7.0         6.0         3.0         8.0   \n",
       "1         3.0         3.0         2.0         5.0         7.0         2.0   \n",
       "2         2.0         4.0         0.0        21.0         8.0         0.0   \n",
       "3         1.0         7.0         2.0         0.0         1.0         4.0   \n",
       "4         0.0         1.0         4.0        23.0         3.0         4.0   \n",
       "5         0.0         8.0         2.0        25.0         4.0         2.0   \n",
       "6         1.0         1.0        12.0         3.0         0.0         8.0   \n",
       "7         1.0         8.0         1.0        19.0         3.0         9.0   \n",
       "\n",
       "   fffeac83be  ffff2c5f9e  ffffd36adf  \n",
       "0         3.0         3.0        20.0  \n",
       "1         3.0         2.0         7.0  \n",
       "2         1.0         0.0         8.0  \n",
       "3         1.0         3.0         1.0  \n",
       "4         2.0         8.0         3.0  \n",
       "5         1.0         4.0         2.0  \n",
       "6         0.0         0.0        11.0  \n",
       "7         0.0         1.0         3.0  \n",
       "\n",
       "[8 rows x 161918 columns]"
      ]
     },
     "metadata": {},
     "output_type": "display_data"
    }
   ],
   "source": [
    "signature_df = pd.DataFrame(data=signature_matrix, columns=matrix_df.columns)\n",
    "signature_df"
   ]
  },
  {
   "cell_type": "markdown",
   "metadata": {},
   "source": [
    "As can be analysed from the result, we have reduced the dimension of the rows from **27*161918** to **8*161918**. But one might ask, why even minhash? Would the similarity perspective be preserved?\n",
    "\n",
    "Surpirsingly, **YES**. There is a remarkable connection between minhashing and Jaccard similarity of the sets that are minhashed. The probability that the minhash function for a random permutation of rows produces the same value for two sets equals the Jaccard similarity of those sets.\n",
    "\n",
    "---"
   ]
  },
  {
   "cell_type": "markdown",
   "metadata": {},
   "source": [
    "The main idea behind LSH is to efficiently group similar items by hashing them multiple times to the same bucket, aiming to minimize dissimilar items ending up in the same bucket. By considering pairs that hash to the same bucket across various hashings as candidates for similarity comparison, LSH reduces computational load. \n",
    "\n",
    "The goal is to optimize true similar pairs hashing to the same bucket while limiting false positives. When using minhash signatures, LSH divides the signature matrix into **bands**. Each **band applies a hash function to vectors of integers, directing them to numerous buckets**. In other words, we want to maximize collisions — although ideally only for similar inputs.\n",
    "\n",
    "The number of bands must follow this equation: n = b x r. Here, n is the total number of rows, which in our case is 8, b is the number of bands one would like to use, and r would be the number of rows within each band. Let's deploy this concept."
   ]
  },
  {
   "cell_type": "code",
   "execution_count": null,
   "metadata": {},
   "outputs": [],
   "source": [
    "from collections import defaultdict\n",
    "#4 bands, 2 rows = 8 rows (total)\n",
    "num_bands = 4  # Define the number of bands\n",
    "rows_per_band = signature_matrix.shape[0] // num_bands  # Define the number of rows per band\n",
    "n_users = signature_matrix.shape[1]  # Number of users/customers\n",
    "\n",
    "# Initialize a dictionary to store buckets\n",
    "buckets = defaultdict(list)\n",
    "\n",
    "# Define a Hashing function based on our minhash value\n",
    "def minhash_based_hashing(signature_values):\n",
    "    # Convert the signature values to a string for hashing\n",
    "    signature_sum = sum(signature_values)\n",
    "    return ((23*signature_sum + 89) % 997) # return the string HASHED\n",
    "\n",
    "\n",
    "# Perform LSH by hashing users into buckets\n",
    "for idx_user, column in enumerate(signature_matrix.T):  # Iterate over columns (users)\n",
    "    for idx_band, band in enumerate(np.split(column, num_bands)):  # Split into bands\n",
    "        # Create keys for the buckets using a tuple of band index and band values\n",
    "        bucket_key = minhash_based_hashing(band.tolist())\n",
    "        buckets[bucket_key].append(idx_user)  # Append the user index to the corresponding bucket"
   ]
  },
  {
   "cell_type": "code",
   "execution_count": null,
   "metadata": {},
   "outputs": [
    {
     "data": {
      "text/plain": [
       "46"
      ]
     },
     "metadata": {},
     "output_type": "display_data"
    }
   ],
   "source": [
    "len(buckets) # we have 354 distinct buckets!!!\n",
    "\n",
    "# our bucket is a dict defined in a way that the key is the value of the hash function and value is the list \n",
    "# of user_ids that go (hash into) these buckets"
   ]
  },
  {
   "cell_type": "markdown",
   "metadata": {},
   "source": [
    "### 1.3 Locality-Sensitive Hashing (LSH)\n",
    "\n",
    "Now that your buckets are ready, it's time to ask a few queries. We will provide you with some user_ids and ask you to recommend at most five movies to the user to watch based on the movies clicked by similar users.\n",
    "\n",
    "To recommend at most five movies given a user_id, use the following procedure:\n",
    "\n",
    "1. Identify the two most similar users to this user.\n",
    "2. If these two users have any movies in common, recommend those movies based on the total number of clicks by these users.\n",
    "3. If there are no more common movies, try to propose the most clicked movies by the most similar user first, followed by the other user.\n",
    "\n",
    "**Example:** assume you've identified user **A** and **B** as the most similar users to a single user, and we have the following records on these users:\n",
    "\n",
    "- User A with 80% similarity\n",
    "- User B with 50% similarity\n",
    "\n",
    "| user | movie title | #clicks |\n",
    "|----------|----------|----------|\n",
    "| A | Wild Child | 20 |\n",
    "| A | Innocence | 10 |\n",
    "| A | Coin Heist | 2 |\n",
    "| B | Innocence | 30 |\n",
    "| B | Coin Heist | 15 |\n",
    "| B | Before I Fall | 30 |\n",
    "| B | Beyond Skyline | 8 |\n",
    "| B | The Amazing Spider-Man | 5 |\n",
    "\n",
    "**Recommended movies** in order:\n",
    "- Innocence\n",
    "- Coin Heist\n",
    "- Wild Child\n",
    "- Before I Fall\n",
    "- Beyond Skyline\n",
    "\n",
    "---"
   ]
  },
  {
   "cell_type": "code",
   "execution_count": null,
   "metadata": {},
   "outputs": [
    {
     "data": {
      "text/plain": [
       "1901"
      ]
     },
     "metadata": {},
     "output_type": "display_data"
    }
   ],
   "source": [
    "random_col = random.randint(1, signature_df.shape[1]) # a random column number\n",
    "query = signature_df.iloc[:,random_col].name # to get the name of the col (user_id)\n",
    "user_id_index = signature_df.columns.get_loc(query) # get the index of the user_id col\n",
    "user_id_index"
   ]
  },
  {
   "cell_type": "code",
   "execution_count": null,
   "metadata": {},
   "outputs": [],
   "source": [
    "def jaccard_similarity(set1, set2):\n",
    "    # Calculate Jaccard similarity between two sets\n",
    "    intersection = len(set1.intersection(set2))\n",
    "    union = len(set1.union(set2))\n",
    "    return intersection / union if union != 0 else 0\n",
    "\n",
    "def find_two_most_similar_users(user_id, buckets):\n",
    "    # Find the bucket containing the given user\n",
    "    user_buckets = set() # I assume there is a chance that a user is present in more than one bucket, tho it is rare.\n",
    "    for bucket_key, users in buckets.items():\n",
    "        if user_id in users: # if our user (the query) is in the list\n",
    "            user_buckets.update(users) # update the user_buckets with the list of similar users\n",
    "        \n",
    "    if not user_buckets:\n",
    "        return None  # User not found in any bucket\n",
    "\n",
    "    # Calculate similarity of the given user with users in the bucket\n",
    "    similarities = {}\n",
    "# calculate the jaccard_similarity between query and every other user in our bucket/list of similar users\n",
    "    for other_user_id in user_buckets:\n",
    "        if other_user_id != user_id:\n",
    "            user_set = set(signature_matrix[:, user_id])\n",
    "            other_user_set = set(signature_matrix[:, other_user_id])\n",
    "            similarities[other_user_id] = jaccard_similarity(user_set, other_user_set)\n",
    "\n",
    "    # Find the two most similar users\n",
    "    most_similar_users = sorted(similarities.items(), key=lambda x: x[1], reverse=True)[:2]\n",
    "    return most_similar_users\n"
   ]
  },
  {
   "cell_type": "code",
   "execution_count": null,
   "metadata": {},
   "outputs": [
    {
     "name": "stdout",
     "output_type": "stream",
     "text": [
      "[(131144, 1.0), (131333, 1.0)]\n"
     ]
    }
   ],
   "source": [
    "most_similar_users = find_two_most_similar_users(user_id_index, buckets)\n",
    "print(most_similar_users)"
   ]
  },
  {
   "cell_type": "markdown",
   "metadata": {},
   "source": [
    "How to interpret the result? the first value in the tuple is the user_id and the second value is the jaccard similarity"
   ]
  },
  {
   "cell_type": "code",
   "execution_count": null,
   "metadata": {},
   "outputs": [
    {
     "data": {
      "text/plain": [
       "['cf644231f2', 'cfb34b3a77']"
      ]
     },
     "metadata": {},
     "output_type": "display_data"
    }
   ],
   "source": [
    "list_of_users = [user for user, _ in most_similar_users]\n",
    "list_of_scores = [score for _, score in most_similar_users]\n",
    "user_ids = list()\n",
    "for user in list_of_users:\n",
    "    user_ids.append(signature_df.iloc[:,user].name)\n",
    "user_ids # this will help in making the movies dataframe of these users"
   ]
  },
  {
   "cell_type": "code",
   "execution_count": null,
   "metadata": {},
   "outputs": [
    {
     "data": {
      "text/html": [
       "<div>\n",
       "<style scoped>\n",
       "    .dataframe tbody tr th:only-of-type {\n",
       "        vertical-align: middle;\n",
       "    }\n",
       "\n",
       "    .dataframe tbody tr th {\n",
       "        vertical-align: top;\n",
       "    }\n",
       "\n",
       "    .dataframe thead th {\n",
       "        text-align: right;\n",
       "    }\n",
       "</style>\n",
       "<table border=\"1\" class=\"dataframe\">\n",
       "  <thead>\n",
       "    <tr style=\"text-align: right;\">\n",
       "      <th></th>\n",
       "      <th>user_id</th>\n",
       "      <th>title</th>\n",
       "      <th>genres</th>\n",
       "      <th>click_count</th>\n",
       "    </tr>\n",
       "  </thead>\n",
       "  <tbody>\n",
       "    <tr>\n",
       "      <th>0</th>\n",
       "      <td>cf644231f2</td>\n",
       "      <td>The Ballad of Buster Scruggs</td>\n",
       "      <td>Comedy, Drama, Musical, Mystery, Romance, Western</td>\n",
       "      <td>1</td>\n",
       "    </tr>\n",
       "    <tr>\n",
       "      <th>1</th>\n",
       "      <td>cfb34b3a77</td>\n",
       "      <td>The Ballad of Buster Scruggs</td>\n",
       "      <td>Comedy, Drama, Musical, Mystery, Romance, Western</td>\n",
       "      <td>1</td>\n",
       "    </tr>\n",
       "  </tbody>\n",
       "</table>\n",
       "</div>"
      ],
      "text/plain": [
       "      user_id                         title  \\\n",
       "0  cf644231f2  The Ballad of Buster Scruggs   \n",
       "1  cfb34b3a77  The Ballad of Buster Scruggs   \n",
       "\n",
       "                                              genres  click_count  \n",
       "0  Comedy, Drama, Musical, Mystery, Romance, Western            1  \n",
       "1  Comedy, Drama, Musical, Mystery, Romance, Western            1  "
      ]
     },
     "metadata": {},
     "output_type": "display_data"
    }
   ],
   "source": [
    "movies = df[df[\"user_id\"].isin(user_ids)].reset_index(drop=True)\n",
    "movies"
   ]
  },
  {
   "cell_type": "markdown",
   "metadata": {},
   "source": [
    "If these two users have any movies in common, recommend those movies based on the total number of clicks by these users."
   ]
  },
  {
   "cell_type": "code",
   "execution_count": null,
   "metadata": {},
   "outputs": [
    {
     "data": {
      "text/plain": [
       "[('cf644231f2', 1.0), ('cfb34b3a77', 1.0)]"
      ]
     },
     "metadata": {},
     "output_type": "display_data"
    }
   ],
   "source": [
    "two_similar_users = list()\n",
    "for x,y in zip(user_ids, list_of_scores):\n",
    "    two_similar_users.append((x,y))\n",
    "two_similar_users # simialr to most_similar_users, but with the original user_id and not the col_index"
   ]
  },
  {
   "cell_type": "code",
   "execution_count": null,
   "metadata": {},
   "outputs": [],
   "source": [
    "def recommend_movies(movies, two_similar_users):\n",
    "    \"\"\"\n",
    "    Given data of movies, I have to do the following:\n",
    "    initialise a list called: results\n",
    "    First, check if there are some common titles between two users:\n",
    "    for each common title, count the number of clicks by each user and sum it. then, sort the common titles by the sum of the number of clicks by each user and append the name of the title into the list: results.\n",
    "    Then, If there are no more common movies, try to propose the most clicked movies by the most similar user first, followed by the other user. add those result after the results already in the list: results.\n",
    "    then print the first 5 results of the list: result\n",
    "    \"\"\"\n",
    "    # Find common movies\n",
    "    user_ids = [user[0] for user in two_similar_users]\n",
    "    common_movies = set(movies[movies['user_id'] == user_ids[0]]['title']).intersection(\n",
    "        set(movies[movies['user_id'] == user_ids[1]]['title'])\n",
    "    )\n",
    "\n",
    "    # Initialize a set called 'results' to avoid duplicates\n",
    "    results = list()\n",
    "    common_movies_df = pd.DataFrame\n",
    "    if common_movies:\n",
    "        # If there are common movies, recommend those based on the total number of clicks by these users\n",
    "        common_movies_df = movies[movies['title'].isin(common_movies)].groupby('title')['click_count'].sum().reset_index()\n",
    "        common_movies_df = common_movies_df.sort_values(by='click_count', ascending=False)\n",
    "        results.extend(common_movies_df['title'].tolist())\n",
    "\n",
    "    # Propose the most clicked movies by each user\n",
    "    if not common_movies_df.empty:\n",
    "        movies = movies[~movies[\"title\"].isin(common_movies_df['title'].tolist())]\n",
    "    for user_id, _ in two_similar_users: # first user_id is automatically with the largest similarity score\n",
    "        user_movies = movies[movies['user_id'] == user_id].groupby('title')['click_count'].sum().reset_index()\n",
    "        user_movies = user_movies.sort_values(by='click_count', ascending=False)\n",
    "        results.extend(user_movies['title'].tolist())\n",
    "\n",
    "    # Return the recommended movie titles\n",
    "    return list(results)[:5]  # Return the first 5 unique results"
   ]
  },
  {
   "cell_type": "code",
   "execution_count": null,
   "metadata": {},
   "outputs": [
    {
     "data": {
      "text/plain": [
       "['The Ballad of Buster Scruggs']"
      ]
     },
     "metadata": {},
     "output_type": "display_data"
    }
   ],
   "source": [
    "recommend_movies(movies, two_similar_users)"
   ]
  },
  {
   "cell_type": "markdown",
   "metadata": {},
   "source": [
    "Credits: `https://www.pinecone.io/learn/series/faiss/locality-sensitive-hashing/`and Mining of Massive Datasets Book."
   ]
  },
  {
   "cell_type": "markdown",
   "metadata": {},
   "source": [
    "## 2."
   ]
  },
  {
   "cell_type": "markdown",
   "metadata": {},
   "source": [
    "### 2.1 Getting your data + feature engineering"
   ]
  },
  {
   "cell_type": "markdown",
   "metadata": {},
   "source": [
    "#### 2.1.1 Access to the data"
   ]
  },
  {
   "cell_type": "code",
   "execution_count": 1,
   "metadata": {},
   "outputs": [],
   "source": [
    "# Libraries that we need\n",
    "import pandas as pd\n",
    "import numpy as np\n",
    "import matplotlib.pyplot as plt\n",
    "import seaborn as sns\n",
    "from sklearn.preprocessing import StandardScaler # to normalize the data\n",
    "from sklearn.decomposition import PCA                                                                                                        "
   ]
  },
  {
   "cell_type": "markdown",
   "metadata": {},
   "source": [
    "Let's import and see the dataframe we need to work on looks like. \n",
    "There are 671736 rows × 8 columns, with *data.info()* we can figure out what they are and what types of data they contain.\n",
    "We realize that both the _\"datetime\"_ column and the _\"release_date\"_ column should be of type datetime, so we proceed to convert them."
   ]
  },
  {
   "cell_type": "code",
   "execution_count": 2,
   "metadata": {},
   "outputs": [],
   "source": [
    "data = pd.read_csv(\"vodclickstream_uk_movies_03.csv\")\n",
    "data.datetime = pd.to_datetime(data.datetime)\n",
    "data.release_date = pd.to_datetime(data.release_date, errors='coerce')"
   ]
  },
  {
   "cell_type": "code",
   "execution_count": 3,
   "metadata": {},
   "outputs": [
    {
     "data": {
      "text/plain": [
       "Unnamed: 0          0\n",
       "datetime            0\n",
       "duration            0\n",
       "title               0\n",
       "genres              0\n",
       "release_date    30304\n",
       "movie_id            0\n",
       "user_id             0\n",
       "dtype: int64"
      ]
     },
     "execution_count": 3,
     "metadata": {},
     "output_type": "execute_result"
    }
   ],
   "source": [
    "data.isna().sum() # only release_data has 30304 na values and they were the \"NOT AVAILABLE\", also genres has 26561 \"NOT AVAILABLE\" rows but we are not going to remove them because we do not want to loose data"
   ]
  },
  {
   "cell_type": "code",
   "execution_count": 4,
   "metadata": {},
   "outputs": [],
   "source": [
    "to_drop = data[data[\"duration\"] < 0].index # 21734 \n",
    "# We can see that there are 21734 where duration is -1, we can drop them or convert this to 0 but 0 here has a different meaning so it's better to drop them\n",
    "data = data.drop(to_drop).reset_index()"
   ]
  },
  {
   "cell_type": "code",
   "execution_count": 5,
   "metadata": {},
   "outputs": [
    {
     "data": {
      "text/plain": [
       "<Axes: title={'center': 'Duration distribution'}, ylabel='Frequency'>"
      ]
     },
     "execution_count": 5,
     "metadata": {},
     "output_type": "execute_result"
    },
    {
     "data": {
      "image/png": "[encoded data removed]",
      "text/plain": [
       "<Figure size 400x400 with 1 Axes>"
      ]
     },
     "metadata": {},
     "output_type": "display_data"
    }
   ],
   "source": [
    "# Our only numeric variable is duration, let's see how it is distributed\n",
    "data.duration.describe() # We can see that the duration assumes values from 0 to 1.823725e+07 but the median is 43 and the 3rd quartile is 7059\n",
    "# the duration is very often 0, but we can do an histogram exluding 0 and to big numbers to see how the other values are\n",
    "data[(data[\"duration\"] <= np.quantile(data[\"duration\"],0.9)) & (data[\"duration\"] > 0)].duration.plot(kind=\"hist\",bins=50, figsize=(4,4), title = \"Duration distribution\") # we have lot of small numbers"
   ]
  },
  {
   "cell_type": "markdown",
   "metadata": {},
   "source": [
    "#### 2.1.2 feature engeneering of the 5 mandatory variables"
   ]
  },
  {
   "cell_type": "markdown",
   "metadata": {},
   "source": [
    "##### 1st feature, favorite genre\n",
    "Here we have to create a new column for the genre the user spends most time."
   ]
  },
  {
   "cell_type": "code",
   "execution_count": 6,
   "metadata": {},
   "outputs": [
    {
     "data": {
      "text/plain": [
       "{'Action',\n",
       " 'Adventure',\n",
       " 'Animation',\n",
       " 'Biography',\n",
       " 'Comedy',\n",
       " 'Crime',\n",
       " 'Documentary',\n",
       " 'Drama',\n",
       " 'Family',\n",
       " 'Fantasy',\n",
       " 'Film-Noir',\n",
       " 'History',\n",
       " 'Horror',\n",
       " 'Music',\n",
       " 'Musical',\n",
       " 'Mystery',\n",
       " 'NOT AVAILABLE',\n",
       " 'News',\n",
       " 'Reality-TV',\n",
       " 'Romance',\n",
       " 'Sci-Fi',\n",
       " 'Short',\n",
       " 'Sport',\n",
       " 'Talk-Show',\n",
       " 'Thriller',\n",
       " 'War',\n",
       " 'Western'}"
      ]
     },
     "execution_count": 6,
     "metadata": {},
     "output_type": "execute_result"
    }
   ],
   "source": [
    "# how many different genres we have? Let's count them\n",
    "data.genres.apply(lambda row: row.split(\",\"))\n",
    "data[\"genres_list\"] = \"\"\n",
    "data[\"genres_list\"] = data.genres.apply(lambda row: [word.strip() for word in row.split(\",\")])\n",
    "data[\"genres_list\"]\n",
    "unique_genres = set()\n",
    "data[\"genres_list\"].apply(lambda row: [unique_genres.add(value) for value in row])\n",
    "unique_genres"
   ]
  },
  {
   "cell_type": "code",
   "execution_count": 7,
   "metadata": {},
   "outputs": [],
   "source": [
    "# Now we can create our new first feature\n",
    "# First we need to divide the column with the list of the genres in rows cointaining only one genre\n",
    "df_genres = data[\"genres_list\"].apply(pd.Series).stack().reset_index(level=1, drop=True).to_frame(\"genre\")\n",
    "# Merging with the original data\n",
    "data2 = pd.merge(data, df_genres, left_index=True, right_index=True)\n",
    "# Grouping in only the user_id and the genre column and this column contains only one genre.\n",
    "grouped_df = data2.groupby([\"user_id\", \"genre\"])\n",
    "# From the grouped_df we need to calculates the durations for each user for each genre he saw.\n",
    "genre_duration = grouped_df[\"duration\"].sum().reset_index()\n",
    "# Searching for the indexes with the max duration grouping by user_id so every user will have only one genre.\n",
    "idx = genre_duration.groupby(\"user_id\")[\"duration\"].idxmax()\n",
    "\n",
    "# Creating a new dataframe where we put this new column \n",
    "user_df = genre_duration.loc[idx, [\"user_id\", \"genre\"]]"
   ]
  },
  {
   "cell_type": "markdown",
   "metadata": {},
   "source": [
    "##### 2nd feature, average click duration"
   ]
  },
  {
   "cell_type": "code",
   "execution_count": 8,
   "metadata": {},
   "outputs": [],
   "source": [
    "# This is only the means of the duration grouped by each user_id\n",
    "average_click_duration = pd.DataFrame(data.groupby(\"user_id\").duration.mean())\n",
    "user_df = user_df.merge(average_click_duration, how = \"outer\", on = \"user_id\")\n",
    "user_df = user_df.rename(columns={\"duration\": \"average_click_duration\"})"
   ]
  },
  {
   "cell_type": "markdown",
   "metadata": {},
   "source": [
    "##### 3rd feature, time of the day"
   ]
  },
  {
   "cell_type": "code",
   "execution_count": 9,
   "metadata": {},
   "outputs": [],
   "source": [
    "# We define a function to convert the numbers to part of the day\n",
    "def map_time_period(value):\n",
    "    if 6 <= value < 14:\n",
    "        return \"Morning\"\n",
    "    elif 14 <= value < 22:\n",
    "        return \"Afternoon\"\n",
    "    else:\n",
    "        return \"Night\""
   ]
  },
  {
   "cell_type": "code",
   "execution_count": 10,
   "metadata": {},
   "outputs": [],
   "source": [
    "# Creating a column with all zero and then we will fill it\n",
    "data[\"hour_of_day\"] = 0\n",
    "# Now istead of the zeros there are the time of the day of the access\n",
    "data[\"hour_of_day\"] = data.datetime.dt.hour\n",
    "# Let's see how many minutes in mean were spent in each hour for every user \n",
    "df = data.groupby(by=['user_id','hour_of_day']).duration.mean().reset_index()\n",
    "# Ordering only for the Hour in order to pick the most used \n",
    "df_first = df.sort_values([\"user_id\",\"hour_of_day\"], ascending=[True, False]).groupby('user_id', as_index=False).first()\n",
    "\n",
    "# Now that we have the hour we need to change it in \"morning\",\"afternoon\" and \"night\"\n",
    "df_first[\"hour_of_day_categorial\"] = df_first[\"hour_of_day\"]\n",
    "df_first[\"hour_of_day_categorial\"] = df_first[\"hour_of_day_categorial\"].apply(map_time_period)\n",
    "\n",
    "# Now we merge the categorial variable in the dataframe with the new features\n",
    "user_df = user_df.merge(df_first[[\"user_id\",\"hour_of_day_categorial\"]], how=\"outer\", on=\"user_id\")"
   ]
  },
  {
   "cell_type": "markdown",
   "metadata": {},
   "source": [
    "##### 4th feature, old movie lover"
   ]
  },
  {
   "cell_type": "code",
   "execution_count": 11,
   "metadata": {},
   "outputs": [],
   "source": [
    "# Column with all False values\n",
    "data['oldmovie'] = False\n",
    "# Changing to True if the film is old\n",
    "data['oldmovie'] = data.release_date.dt.year < 2010\n",
    "# Counting how many oldmovie and how many newmovie the user saw\n",
    "df2 = data.groupby(['user_id', 'oldmovie'])['movie_id'].count().reset_index()\n",
    "# Ordering and selecting the first row for every user so the the ones with the highest count\n",
    "df_oldnew = df2.sort_values(['user_id', 'oldmovie']).groupby('user_id', as_index=False).first()\n",
    "# Merging again\n",
    "user_df = user_df.merge(df_oldnew[[\"user_id\",\"oldmovie\"]], how=\"outer\", on=\"user_id\")"
   ]
  },
  {
   "cell_type": "markdown",
   "metadata": {},
   "source": [
    "##### 5th feature, average time spent a day by the user"
   ]
  },
  {
   "cell_type": "code",
   "execution_count": 12,
   "metadata": {},
   "outputs": [],
   "source": [
    "# We convert the datetime column to a column containing only the day and not also the time, we need it to create the denominator to calculate our new feature\n",
    "data[\"date\"] = data[\"datetime\"].dt.date\n",
    "# Here we create a dataframe such that it contains the sum of the total duration for each user\n",
    "sum_df = data.groupby([\"user_id\"])[\"duration\"].sum().reset_index()\n",
    "# Here we count the days each user logged in\n",
    "days_logged_in = data.groupby(\"user_id\")[\"date\"].nunique().reset_index()\n",
    "# In \"grouped_df\" we merge the 2 dataframe created always on the user_id\n",
    "grouped_df = pd.merge(sum_df, days_logged_in, on=\"user_id\", suffixes=(\"\", \"_total_days\"))\n",
    "# Let's calculate our new feature\n",
    "grouped_df[\"average_duration_per_day\"] = grouped_df[\"duration\"] / grouped_df[\"date\"]\n",
    "# Merging the new feature to the new dataset for the users\n",
    "user_df = user_df.merge(grouped_df[[\"user_id\",\"average_duration_per_day\"]], how = \"outer\", on=\"user_id\")"
   ]
  },
  {
   "cell_type": "markdown",
   "metadata": {},
   "source": [
    "#### 2.1.3 feature engeneering of 10 other variables"
   ]
  },
  {
   "cell_type": "markdown",
   "metadata": {},
   "source": [
    "##### 1st free feature: total number of acces per User, column name \"days_logged_in\"\n",
    "This feature counts the total number of accesses for each user. We already have this feature because we used it in the computation of the mandotary column number 5, the average time spent a day by the user so we just have to merge the feature to our new dataframe."
   ]
  },
  {
   "cell_type": "code",
   "execution_count": 13,
   "metadata": {},
   "outputs": [],
   "source": [
    "user_df = user_df.merge(days_logged_in, how=\"outer\", on=\"user_id\")\n",
    "user_df = user_df.rename(columns={\"date\": \"days_logged_in\"})"
   ]
  },
  {
   "cell_type": "markdown",
   "metadata": {},
   "source": [
    "##### 2nd free feature: First access date of the user, column name \"first access\"\n",
    "Here we want to know the date of the first access for each user"
   ]
  },
  {
   "cell_type": "code",
   "execution_count": 14,
   "metadata": {},
   "outputs": [],
   "source": [
    "first_access = data.groupby([\"user_id\"])[\"date\"].min()\n",
    "user_df = user_df.merge(first_access, how=\"outer\", on=\"user_id\")\n",
    "user_df = user_df.rename(columns={\"date\": \"firts_access\"})"
   ]
  },
  {
   "cell_type": "markdown",
   "metadata": {},
   "source": [
    "##### 3rd free feature: Total duration on old movies, column name \"old_movie_duration\"\n",
    "Here we count the mean of minutes spent watching old movies for each user"
   ]
  },
  {
   "cell_type": "code",
   "execution_count": 15,
   "metadata": {},
   "outputs": [],
   "source": [
    "# Selecting only old movies\n",
    "filtered_data = data[data[\"oldmovie\"] == True]\n",
    "# Calculating the mean for each user\n",
    "movie_duration = pd.DataFrame(filtered_data.groupby([\"user_id\", \"oldmovie\"])[\"duration\"].mean().reset_index())\n",
    "# Merging with the dataframe and fill with 0 the NA\n",
    "user_df = user_df.merge(movie_duration[[\"user_id\",\"duration\"]], on=\"user_id\", how=\"left\")\n",
    "user_df = user_df.rename(columns={\"duration\": \"old_movie_duration\"})\n",
    "user_df[\"old_movie_duration\"] = user_df[\"old_movie_duration\"].fillna(0)"
   ]
  },
  {
   "cell_type": "markdown",
   "metadata": {},
   "source": [
    "##### 4th free feature: Total duration on new movies, column name \"new_movie_duration\"\n",
    "Here we count the mean of minutes spent watching new movies for each user"
   ]
  },
  {
   "cell_type": "code",
   "execution_count": 16,
   "metadata": {},
   "outputs": [],
   "source": [
    "# Selecting only new movies\n",
    "filtered_data = data[data[\"oldmovie\"] == False]\n",
    "# Calculating the mean for each user\n",
    "movie_duration = pd.DataFrame(filtered_data.groupby([\"user_id\", \"oldmovie\"])[\"duration\"].mean().reset_index())\n",
    "# Merging with the dataframe and fill with 0 the NA\n",
    "user_df = user_df.merge(movie_duration[[\"user_id\",\"duration\"]], on=\"user_id\", how=\"left\")\n",
    "user_df = user_df.rename(columns={\"duration\": \"new_movie_duration\"})\n",
    "user_df[\"new_movie_duration\"] = user_df[\"new_movie_duration\"].fillna(0)"
   ]
  },
  {
   "cell_type": "markdown",
   "metadata": {},
   "source": [
    "##### 5th free feature : most active day of the week, column name \"active_day\""
   ]
  },
  {
   "cell_type": "code",
   "execution_count": 17,
   "metadata": {},
   "outputs": [],
   "source": [
    "# Picking the day from daytime\n",
    "data['day_of_week'] = data['datetime'].dt.day_name()\n",
    "\n",
    "# Counting the number of acceses\n",
    "user_most_active_day = data.groupby(['user_id', 'day_of_week'])['day_of_week'].count().reset_index(name='count')\n",
    "\n",
    "# Finding the idmax for each user \n",
    "idx = user_most_active_day.groupby('user_id')['count'].idxmax()\n",
    "\n",
    "# Picking the rows with the idmax and then merge\n",
    "most_active_day_per_user = user_most_active_day.loc[idx, ['user_id', 'day_of_week', 'count']]\n",
    "user_df = user_df.merge(most_active_day_per_user[[\"user_id\",\"day_of_week\"]], how = \"outer\", on = \"user_id\")\n",
    "user_df = user_df.rename(columns={\"day_of_week\": \"active_day\"})"
   ]
  },
  {
   "cell_type": "markdown",
   "metadata": {},
   "source": [
    "##### 6th free feature : Number of genres cliked, column name = \"genres_clicked\""
   ]
  },
  {
   "cell_type": "markdown",
   "metadata": {},
   "source": [
    "Here we count how many genres an user has clicked, we use the 'data2' dataframe that we have created in the 2nd column where each row has only one genre."
   ]
  },
  {
   "cell_type": "code",
   "execution_count": 18,
   "metadata": {},
   "outputs": [],
   "source": [
    "# Counting the unique genres\n",
    "number_of_genres_clicked = data2.groupby('user_id')['genres'].nunique().reset_index(name='genres_clicked')\n",
    "# Merging\n",
    "user_df = user_df.merge(number_of_genres_clicked, how = \"outer\", on = \"user_id\")"
   ]
  },
  {
   "cell_type": "markdown",
   "metadata": {},
   "source": [
    "##### 7th free feature : Longest consecutive active days, column name \"longest_consecutive_days\""
   ]
  },
  {
   "cell_type": "markdown",
   "metadata": {},
   "source": [
    "Using the datetime column we want to know how many consecutives days the user logged in"
   ]
  },
  {
   "cell_type": "code",
   "execution_count": 19,
   "metadata": {},
   "outputs": [],
   "source": [
    "# Ordering the data\n",
    "data = data.sort_values(by=['user_id', 'datetime'])\n",
    "# Counting the differences (in days) grouping by every user\n",
    "data['date_diff'] = data.groupby('user_id')['datetime'].diff().dt.days.fillna(0)\n",
    "# Mask to identify the consecutives days for each user\n",
    "consecutive_days_mask = (data['date_diff'] == 1)\n",
    "# Counting the comulative number of consecutives days using cumsum\n",
    "data['consecutive_days_count'] = consecutive_days_mask.groupby(data['user_id']).cumsum()\n",
    "# Finding the longest sequence for each user\n",
    "longest_sequence = data.groupby('user_id')['consecutive_days_count'].max().reset_index(name='longest_consecutive_days')\n",
    "# Merging \n",
    "user_df = user_df.merge(longest_sequence, how = \"outer\", on = \"user_id\")"
   ]
  },
  {
   "cell_type": "markdown",
   "metadata": {},
   "source": [
    "##### 8th free feature : Last access date, column name \"last_access\""
   ]
  },
  {
   "cell_type": "markdown",
   "metadata": {},
   "source": [
    "Similar to \"first access\" column here we want to know the last access of each user"
   ]
  },
  {
   "cell_type": "code",
   "execution_count": 20,
   "metadata": {},
   "outputs": [],
   "source": [
    "# Picking the max for each user, we use date and not datetime because we create date when we were creating column in feature mandatory 5 \n",
    "last_access = data.groupby([\"user_id\"])[\"date\"].max()\n",
    "user_df = user_df.merge(last_access, how=\"outer\", on=\"user_id\")\n",
    "user_df = user_df.rename(columns={\"date\": \"last_access\"})"
   ]
  },
  {
   "cell_type": "markdown",
   "metadata": {},
   "source": [
    "##### 9th free feature : Average click duration on weekdays"
   ]
  },
  {
   "cell_type": "markdown",
   "metadata": {},
   "source": [
    "From friday to sunday is weekend, does user watch more netflix? Let's see it creating this column where we calculate the duration mean for each user only in the weekdays and then in the weekends"
   ]
  },
  {
   "cell_type": "code",
   "execution_count": 21,
   "metadata": {},
   "outputs": [],
   "source": [
    "data['is_weekend'] = data['datetime'].dt.weekday >= 4\n",
    "filtered_data_day = data[data[\"is_weekend\"] == False]\n",
    "movie_duration_weekdays = pd.DataFrame(filtered_data_day.groupby([\"user_id\", \"is_weekend\"])[\"duration\"].mean().reset_index(name=\"duration_weekdays\"))\n",
    "user_df = user_df.merge(movie_duration_weekdays[[\"user_id\",\"duration_weekdays\"]], on=\"user_id\", how=\"left\").fillna(0)"
   ]
  },
  {
   "cell_type": "markdown",
   "metadata": {},
   "source": [
    "##### 10th free feature: Average click duration on weekends"
   ]
  },
  {
   "cell_type": "markdown",
   "metadata": {},
   "source": [
    "Here we want to know the average duration on the weekends"
   ]
  },
  {
   "cell_type": "code",
   "execution_count": 22,
   "metadata": {},
   "outputs": [],
   "source": [
    "filtered_data_day_2 = data[data[\"is_weekend\"] == True]\n",
    "movie_duration_weekend = pd.DataFrame(filtered_data_day_2.groupby([\"user_id\", \"is_weekend\"])[\"duration\"].mean().reset_index(name=\"duration_weekends\"))\n",
    "user_df = user_df.merge(movie_duration_weekend[[\"user_id\",\"duration_weekends\"]], on=\"user_id\", how=\"left\").fillna(0)"
   ]
  },
  {
   "cell_type": "markdown",
   "metadata": {},
   "source": [
    "Let's now see the final dataframe user_df"
   ]
  },
  {
   "cell_type": "code",
   "execution_count": 23,
   "metadata": {},
   "outputs": [
    {
     "data": {
      "text/html": [
       "<div>\n",
       "<style scoped>\n",
       "    .dataframe tbody tr th:only-of-type {\n",
       "        vertical-align: middle;\n",
       "    }\n",
       "\n",
       "    .dataframe tbody tr th {\n",
       "        vertical-align: top;\n",
       "    }\n",
       "\n",
       "    .dataframe thead th {\n",
       "        text-align: right;\n",
       "    }\n",
       "</style>\n",
       "<table border=\"1\" class=\"dataframe\">\n",
       "  <thead>\n",
       "    <tr style=\"text-align: right;\">\n",
       "      <th></th>\n",
       "      <th>user_id</th>\n",
       "      <th>genre</th>\n",
       "      <th>average_click_duration</th>\n",
       "      <th>hour_of_day_categorial</th>\n",
       "      <th>oldmovie</th>\n",
       "      <th>average_duration_per_day</th>\n",
       "      <th>days_logged_in</th>\n",
       "      <th>firts_access</th>\n",
       "      <th>old_movie_duration</th>\n",
       "      <th>new_movie_duration</th>\n",
       "      <th>active_day</th>\n",
       "      <th>genres_clicked</th>\n",
       "      <th>longest_consecutive_days</th>\n",
       "      <th>last_access</th>\n",
       "      <th>duration_weekdays</th>\n",
       "      <th>duration_weekends</th>\n",
       "    </tr>\n",
       "  </thead>\n",
       "  <tbody>\n",
       "    <tr>\n",
       "      <th>0</th>\n",
       "      <td>00004e2862</td>\n",
       "      <td>Crime</td>\n",
       "      <td>0.000000</td>\n",
       "      <td>Afternoon</td>\n",
       "      <td>True</td>\n",
       "      <td>0.0</td>\n",
       "      <td>1</td>\n",
       "      <td>2017-12-05</td>\n",
       "      <td>0.000000</td>\n",
       "      <td>0.0</td>\n",
       "      <td>Tuesday</td>\n",
       "      <td>1</td>\n",
       "      <td>0</td>\n",
       "      <td>2017-12-05</td>\n",
       "      <td>0.0</td>\n",
       "      <td>0.000000</td>\n",
       "    </tr>\n",
       "    <tr>\n",
       "      <th>1</th>\n",
       "      <td>000052a0a0</td>\n",
       "      <td>Action</td>\n",
       "      <td>2024.166667</td>\n",
       "      <td>Night</td>\n",
       "      <td>False</td>\n",
       "      <td>4858.0</td>\n",
       "      <td>10</td>\n",
       "      <td>2017-05-23</td>\n",
       "      <td>1732.111111</td>\n",
       "      <td>2199.4</td>\n",
       "      <td>Sunday</td>\n",
       "      <td>11</td>\n",
       "      <td>1</td>\n",
       "      <td>2017-06-26</td>\n",
       "      <td>2197.5</td>\n",
       "      <td>1900.357143</td>\n",
       "    </tr>\n",
       "    <tr>\n",
       "      <th>2</th>\n",
       "      <td>000090e7c8</td>\n",
       "      <td>Mystery</td>\n",
       "      <td>0.000000</td>\n",
       "      <td>Afternoon</td>\n",
       "      <td>False</td>\n",
       "      <td>0.0</td>\n",
       "      <td>1</td>\n",
       "      <td>2018-03-09</td>\n",
       "      <td>0.000000</td>\n",
       "      <td>0.0</td>\n",
       "      <td>Friday</td>\n",
       "      <td>1</td>\n",
       "      <td>0</td>\n",
       "      <td>2018-03-09</td>\n",
       "      <td>0.0</td>\n",
       "      <td>0.000000</td>\n",
       "    </tr>\n",
       "    <tr>\n",
       "      <th>3</th>\n",
       "      <td>000118a755</td>\n",
       "      <td>Horror</td>\n",
       "      <td>0.000000</td>\n",
       "      <td>Night</td>\n",
       "      <td>False</td>\n",
       "      <td>0.0</td>\n",
       "      <td>2</td>\n",
       "      <td>2018-06-14</td>\n",
       "      <td>0.000000</td>\n",
       "      <td>0.0</td>\n",
       "      <td>Friday</td>\n",
       "      <td>2</td>\n",
       "      <td>0</td>\n",
       "      <td>2018-06-15</td>\n",
       "      <td>0.0</td>\n",
       "      <td>0.000000</td>\n",
       "    </tr>\n",
       "    <tr>\n",
       "      <th>4</th>\n",
       "      <td>000296842d</td>\n",
       "      <td>Drama</td>\n",
       "      <td>11044.000000</td>\n",
       "      <td>Night</td>\n",
       "      <td>False</td>\n",
       "      <td>38654.0</td>\n",
       "      <td>2</td>\n",
       "      <td>2018-12-30</td>\n",
       "      <td>0.000000</td>\n",
       "      <td>11044.0</td>\n",
       "      <td>Monday</td>\n",
       "      <td>1</td>\n",
       "      <td>0</td>\n",
       "      <td>2018-12-31</td>\n",
       "      <td>12873.4</td>\n",
       "      <td>6470.500000</td>\n",
       "    </tr>\n",
       "  </tbody>\n",
       "</table>\n",
       "</div>"
      ],
      "text/plain": [
       "      user_id    genre  average_click_duration hour_of_day_categorial  \\\n",
       "0  00004e2862    Crime                0.000000              Afternoon   \n",
       "1  000052a0a0   Action             2024.166667                  Night   \n",
       "2  000090e7c8  Mystery                0.000000              Afternoon   \n",
       "3  000118a755   Horror                0.000000                  Night   \n",
       "4  000296842d    Drama            11044.000000                  Night   \n",
       "\n",
       "   oldmovie  average_duration_per_day  days_logged_in firts_access  \\\n",
       "0      True                       0.0               1   2017-12-05   \n",
       "1     False                    4858.0              10   2017-05-23   \n",
       "2     False                       0.0               1   2018-03-09   \n",
       "3     False                       0.0               2   2018-06-14   \n",
       "4     False                   38654.0               2   2018-12-30   \n",
       "\n",
       "   old_movie_duration  new_movie_duration active_day  genres_clicked  \\\n",
       "0            0.000000                 0.0    Tuesday               1   \n",
       "1         1732.111111              2199.4     Sunday              11   \n",
       "2            0.000000                 0.0     Friday               1   \n",
       "3            0.000000                 0.0     Friday               2   \n",
       "4            0.000000             11044.0     Monday               1   \n",
       "\n",
       "   longest_consecutive_days last_access  duration_weekdays  duration_weekends  \n",
       "0                         0  2017-12-05                0.0           0.000000  \n",
       "1                         1  2017-06-26             2197.5        1900.357143  \n",
       "2                         0  2018-03-09                0.0           0.000000  \n",
       "3                         0  2018-06-15                0.0           0.000000  \n",
       "4                         0  2018-12-31            12873.4        6470.500000  "
      ]
     },
     "execution_count": 23,
     "metadata": {},
     "output_type": "execute_result"
    }
   ],
   "source": [
    "user_df.head(5)"
   ]
  },
  {
   "cell_type": "code",
   "execution_count": 24,
   "metadata": {},
   "outputs": [],
   "source": [
    "# we can also save this new dataframe to not always run everything\n",
    "user_df.to_csv(\"user.csv\", index=False)"
   ]
  },
  {
   "cell_type": "markdown",
   "metadata": {},
   "source": [
    "### 2.2 Choose your features (variables)!"
   ]
  },
  {
   "cell_type": "markdown",
   "metadata": {},
   "source": [
    "#### 2.2.1 Normalization"
   ]
  },
  {
   "cell_type": "markdown",
   "metadata": {},
   "source": [
    "Many learning algorithms assume that all featured are centered around zero and have a variance of the same order.\n",
    "So, we want to normalise our varibales.\n",
    "Of course, not all variables need to be normalised.\n",
    "For example, we will not normalise date-columns or categorial variables. \n",
    "But we need to pay attention at the variances of real-valued variables, because they can confound our analysis"
   ]
  },
  {
   "cell_type": "code",
   "execution_count": 25,
   "metadata": {},
   "outputs": [],
   "source": [
    "user_df = pd.read_csv(\"user.csv\")"
   ]
  },
  {
   "cell_type": "code",
   "execution_count": 26,
   "metadata": {},
   "outputs": [
    {
     "data": {
      "text/html": [
       "<div>\n",
       "<style scoped>\n",
       "    .dataframe tbody tr th:only-of-type {\n",
       "        vertical-align: middle;\n",
       "    }\n",
       "\n",
       "    .dataframe tbody tr th {\n",
       "        vertical-align: top;\n",
       "    }\n",
       "\n",
       "    .dataframe thead th {\n",
       "        text-align: right;\n",
       "    }\n",
       "</style>\n",
       "<table border=\"1\" class=\"dataframe\">\n",
       "  <thead>\n",
       "    <tr style=\"text-align: right;\">\n",
       "      <th></th>\n",
       "      <th>average_click_duration</th>\n",
       "      <th>average_duration_per_day</th>\n",
       "      <th>days_logged_in</th>\n",
       "      <th>old_movie_duration</th>\n",
       "      <th>new_movie_duration</th>\n",
       "      <th>genres_clicked</th>\n",
       "      <th>longest_consecutive_days</th>\n",
       "      <th>duration_weekdays</th>\n",
       "      <th>duration_weekends</th>\n",
       "    </tr>\n",
       "  </thead>\n",
       "  <tbody>\n",
       "    <tr>\n",
       "      <th>count</th>\n",
       "      <td>1.543880e+05</td>\n",
       "      <td>1.543880e+05</td>\n",
       "      <td>1.543880e+05</td>\n",
       "      <td>1.543880e+05</td>\n",
       "      <td>1.543880e+05</td>\n",
       "      <td>1.543880e+05</td>\n",
       "      <td>1.543880e+05</td>\n",
       "      <td>1.543880e+05</td>\n",
       "      <td>1.543880e+05</td>\n",
       "    </tr>\n",
       "    <tr>\n",
       "      <th>mean</th>\n",
       "      <td>-2.798210e-17</td>\n",
       "      <td>6.751601e-17</td>\n",
       "      <td>1.145517e-16</td>\n",
       "      <td>-1.426719e-17</td>\n",
       "      <td>2.924773e-17</td>\n",
       "      <td>5.154597e-18</td>\n",
       "      <td>5.396218e-18</td>\n",
       "      <td>-2.262040e-17</td>\n",
       "      <td>9.618845e-18</td>\n",
       "    </tr>\n",
       "    <tr>\n",
       "      <th>std</th>\n",
       "      <td>1.000003e+00</td>\n",
       "      <td>1.000003e+00</td>\n",
       "      <td>1.000003e+00</td>\n",
       "      <td>1.000003e+00</td>\n",
       "      <td>1.000003e+00</td>\n",
       "      <td>1.000003e+00</td>\n",
       "      <td>1.000003e+00</td>\n",
       "      <td>1.000003e+00</td>\n",
       "      <td>1.000003e+00</td>\n",
       "    </tr>\n",
       "    <tr>\n",
       "      <th>min</th>\n",
       "      <td>-2.712040e-01</td>\n",
       "      <td>-2.977969e-01</td>\n",
       "      <td>-5.442600e-01</td>\n",
       "      <td>-1.492598e-01</td>\n",
       "      <td>-2.463530e-01</td>\n",
       "      <td>-5.481465e-01</td>\n",
       "      <td>-3.743935e-01</td>\n",
       "      <td>-2.183727e-01</td>\n",
       "      <td>-2.181328e-01</td>\n",
       "    </tr>\n",
       "    <tr>\n",
       "      <th>25%</th>\n",
       "      <td>-2.712040e-01</td>\n",
       "      <td>-2.977969e-01</td>\n",
       "      <td>-5.442600e-01</td>\n",
       "      <td>-1.492598e-01</td>\n",
       "      <td>-2.463530e-01</td>\n",
       "      <td>-5.481465e-01</td>\n",
       "      <td>-3.743935e-01</td>\n",
       "      <td>-2.183727e-01</td>\n",
       "      <td>-2.181328e-01</td>\n",
       "    </tr>\n",
       "    <tr>\n",
       "      <th>50%</th>\n",
       "      <td>-2.513756e-01</td>\n",
       "      <td>-2.713028e-01</td>\n",
       "      <td>-1.927199e-01</td>\n",
       "      <td>-1.492598e-01</td>\n",
       "      <td>-2.376377e-01</td>\n",
       "      <td>-2.517403e-01</td>\n",
       "      <td>-3.743935e-01</td>\n",
       "      <td>-2.183727e-01</td>\n",
       "      <td>-2.181328e-01</td>\n",
       "    </tr>\n",
       "    <tr>\n",
       "      <th>75%</th>\n",
       "      <td>-1.132558e-01</td>\n",
       "      <td>-9.221127e-02</td>\n",
       "      <td>1.588201e-01</td>\n",
       "      <td>-1.483778e-01</td>\n",
       "      <td>-1.302131e-01</td>\n",
       "      <td>4.466598e-02</td>\n",
       "      <td>-3.743935e-01</td>\n",
       "      <td>-1.589080e-01</td>\n",
       "      <td>-1.632953e-01</td>\n",
       "    </tr>\n",
       "    <tr>\n",
       "      <th>max</th>\n",
       "      <td>6.600016e+01</td>\n",
       "      <td>6.842756e+01</td>\n",
       "      <td>3.074280e+01</td>\n",
       "      <td>1.508879e+02</td>\n",
       "      <td>7.000681e+01</td>\n",
       "      <td>2.879607e+01</td>\n",
       "      <td>3.236261e+01</td>\n",
       "      <td>7.768819e+01</td>\n",
       "      <td>6.377235e+01</td>\n",
       "    </tr>\n",
       "  </tbody>\n",
       "</table>\n",
       "</div>"
      ],
      "text/plain": [
       "       average_click_duration  average_duration_per_day  days_logged_in  \\\n",
       "count            1.543880e+05              1.543880e+05    1.543880e+05   \n",
       "mean            -2.798210e-17              6.751601e-17    1.145517e-16   \n",
       "std              1.000003e+00              1.000003e+00    1.000003e+00   \n",
       "min             -2.712040e-01             -2.977969e-01   -5.442600e-01   \n",
       "25%             -2.712040e-01             -2.977969e-01   -5.442600e-01   \n",
       "50%             -2.513756e-01             -2.713028e-01   -1.927199e-01   \n",
       "75%             -1.132558e-01             -9.221127e-02    1.588201e-01   \n",
       "max              6.600016e+01              6.842756e+01    3.074280e+01   \n",
       "\n",
       "       old_movie_duration  new_movie_duration  genres_clicked  \\\n",
       "count        1.543880e+05        1.543880e+05    1.543880e+05   \n",
       "mean        -1.426719e-17        2.924773e-17    5.154597e-18   \n",
       "std          1.000003e+00        1.000003e+00    1.000003e+00   \n",
       "min         -1.492598e-01       -2.463530e-01   -5.481465e-01   \n",
       "25%         -1.492598e-01       -2.463530e-01   -5.481465e-01   \n",
       "50%         -1.492598e-01       -2.376377e-01   -2.517403e-01   \n",
       "75%         -1.483778e-01       -1.302131e-01    4.466598e-02   \n",
       "max          1.508879e+02        7.000681e+01    2.879607e+01   \n",
       "\n",
       "       longest_consecutive_days  duration_weekdays  duration_weekends  \n",
       "count              1.543880e+05       1.543880e+05       1.543880e+05  \n",
       "mean               5.396218e-18      -2.262040e-17       9.618845e-18  \n",
       "std                1.000003e+00       1.000003e+00       1.000003e+00  \n",
       "min               -3.743935e-01      -2.183727e-01      -2.181328e-01  \n",
       "25%               -3.743935e-01      -2.183727e-01      -2.181328e-01  \n",
       "50%               -3.743935e-01      -2.183727e-01      -2.181328e-01  \n",
       "75%               -3.743935e-01      -1.589080e-01      -1.632953e-01  \n",
       "max                3.236261e+01       7.768819e+01       6.377235e+01  "
      ]
     },
     "execution_count": 26,
     "metadata": {},
     "output_type": "execute_result"
    }
   ],
   "source": [
    "# We need to fisrt check our data because we do not want infinite values or any other errors, it seems that our data is ok so we can go on\n",
    "# Coping the dataframe created for the users\n",
    "user_df_normalized = user_df.copy()\n",
    "# Selecting the name of numerical columns\n",
    "to_norm = user_df_normalized.select_dtypes(include=[\"int64\",\"float64\"]).keys()\n",
    "# Extracting the numerical columns \n",
    "variables = user_df_normalized[to_norm]\n",
    "# Normalization \n",
    "scaler = StandardScaler().fit(variables.values)\n",
    "variables = scaler.transform(variables.values)\n",
    "# Inserting the normalized variables in the user_df_normalized\n",
    "user_df_normalized[to_norm] = variables\n",
    "# Let's see if it worked\n",
    "user_df_normalized.describe()\n",
    "# All the means are equal to 0 (they are very low) and the standard deviation is 1 (almost 1)"
   ]
  },
  {
   "cell_type": "code",
   "execution_count": 27,
   "metadata": {},
   "outputs": [
    {
     "data": {
      "text/html": [
       "<div>\n",
       "<style scoped>\n",
       "    .dataframe tbody tr th:only-of-type {\n",
       "        vertical-align: middle;\n",
       "    }\n",
       "\n",
       "    .dataframe tbody tr th {\n",
       "        vertical-align: top;\n",
       "    }\n",
       "\n",
       "    .dataframe thead th {\n",
       "        text-align: right;\n",
       "    }\n",
       "</style>\n",
       "<table border=\"1\" class=\"dataframe\">\n",
       "  <thead>\n",
       "    <tr style=\"text-align: right;\">\n",
       "      <th></th>\n",
       "      <th>user_id</th>\n",
       "      <th>genre</th>\n",
       "      <th>average_click_duration</th>\n",
       "      <th>hour_of_day_categorial</th>\n",
       "      <th>oldmovie</th>\n",
       "      <th>average_duration_per_day</th>\n",
       "      <th>days_logged_in</th>\n",
       "      <th>firts_access</th>\n",
       "      <th>old_movie_duration</th>\n",
       "      <th>new_movie_duration</th>\n",
       "      <th>active_day</th>\n",
       "      <th>genres_clicked</th>\n",
       "      <th>longest_consecutive_days</th>\n",
       "      <th>last_access</th>\n",
       "      <th>duration_weekdays</th>\n",
       "      <th>duration_weekends</th>\n",
       "    </tr>\n",
       "  </thead>\n",
       "  <tbody>\n",
       "    <tr>\n",
       "      <th>0</th>\n",
       "      <td>00004e2862</td>\n",
       "      <td>Crime</td>\n",
       "      <td>-0.271204</td>\n",
       "      <td>Afternoon</td>\n",
       "      <td>True</td>\n",
       "      <td>-0.297797</td>\n",
       "      <td>-0.54426</td>\n",
       "      <td>2017-12-05</td>\n",
       "      <td>-0.149260</td>\n",
       "      <td>-0.246353</td>\n",
       "      <td>Tuesday</td>\n",
       "      <td>-0.548147</td>\n",
       "      <td>-0.374394</td>\n",
       "      <td>2017-12-05</td>\n",
       "      <td>-0.218373</td>\n",
       "      <td>-0.218133</td>\n",
       "    </tr>\n",
       "    <tr>\n",
       "      <th>1</th>\n",
       "      <td>000052a0a0</td>\n",
       "      <td>Action</td>\n",
       "      <td>-0.259511</td>\n",
       "      <td>Night</td>\n",
       "      <td>False</td>\n",
       "      <td>-0.273962</td>\n",
       "      <td>2.61960</td>\n",
       "      <td>2017-05-23</td>\n",
       "      <td>-0.134915</td>\n",
       "      <td>-0.232884</td>\n",
       "      <td>Sunday</td>\n",
       "      <td>2.415916</td>\n",
       "      <td>0.794785</td>\n",
       "      <td>2017-06-26</td>\n",
       "      <td>-0.203449</td>\n",
       "      <td>-0.204779</td>\n",
       "    </tr>\n",
       "    <tr>\n",
       "      <th>2</th>\n",
       "      <td>000090e7c8</td>\n",
       "      <td>Mystery</td>\n",
       "      <td>-0.271204</td>\n",
       "      <td>Afternoon</td>\n",
       "      <td>False</td>\n",
       "      <td>-0.297797</td>\n",
       "      <td>-0.54426</td>\n",
       "      <td>2018-03-09</td>\n",
       "      <td>-0.149260</td>\n",
       "      <td>-0.246353</td>\n",
       "      <td>Friday</td>\n",
       "      <td>-0.548147</td>\n",
       "      <td>-0.374394</td>\n",
       "      <td>2018-03-09</td>\n",
       "      <td>-0.218373</td>\n",
       "      <td>-0.218133</td>\n",
       "    </tr>\n",
       "    <tr>\n",
       "      <th>3</th>\n",
       "      <td>000118a755</td>\n",
       "      <td>Horror</td>\n",
       "      <td>-0.271204</td>\n",
       "      <td>Night</td>\n",
       "      <td>False</td>\n",
       "      <td>-0.297797</td>\n",
       "      <td>-0.19272</td>\n",
       "      <td>2018-06-14</td>\n",
       "      <td>-0.149260</td>\n",
       "      <td>-0.246353</td>\n",
       "      <td>Friday</td>\n",
       "      <td>-0.251740</td>\n",
       "      <td>-0.374394</td>\n",
       "      <td>2018-06-15</td>\n",
       "      <td>-0.218373</td>\n",
       "      <td>-0.218133</td>\n",
       "    </tr>\n",
       "    <tr>\n",
       "      <th>4</th>\n",
       "      <td>000296842d</td>\n",
       "      <td>Drama</td>\n",
       "      <td>-0.207405</td>\n",
       "      <td>Night</td>\n",
       "      <td>False</td>\n",
       "      <td>-0.108148</td>\n",
       "      <td>-0.19272</td>\n",
       "      <td>2018-12-30</td>\n",
       "      <td>-0.149260</td>\n",
       "      <td>-0.178720</td>\n",
       "      <td>Monday</td>\n",
       "      <td>-0.548147</td>\n",
       "      <td>-0.374394</td>\n",
       "      <td>2018-12-31</td>\n",
       "      <td>-0.130949</td>\n",
       "      <td>-0.172663</td>\n",
       "    </tr>\n",
       "  </tbody>\n",
       "</table>\n",
       "</div>"
      ],
      "text/plain": [
       "      user_id    genre  average_click_duration hour_of_day_categorial  \\\n",
       "0  00004e2862    Crime               -0.271204              Afternoon   \n",
       "1  000052a0a0   Action               -0.259511                  Night   \n",
       "2  000090e7c8  Mystery               -0.271204              Afternoon   \n",
       "3  000118a755   Horror               -0.271204                  Night   \n",
       "4  000296842d    Drama               -0.207405                  Night   \n",
       "\n",
       "   oldmovie  average_duration_per_day  days_logged_in firts_access  \\\n",
       "0      True                 -0.297797        -0.54426   2017-12-05   \n",
       "1     False                 -0.273962         2.61960   2017-05-23   \n",
       "2     False                 -0.297797        -0.54426   2018-03-09   \n",
       "3     False                 -0.297797        -0.19272   2018-06-14   \n",
       "4     False                 -0.108148        -0.19272   2018-12-30   \n",
       "\n",
       "   old_movie_duration  new_movie_duration active_day  genres_clicked  \\\n",
       "0           -0.149260           -0.246353    Tuesday       -0.548147   \n",
       "1           -0.134915           -0.232884     Sunday        2.415916   \n",
       "2           -0.149260           -0.246353     Friday       -0.548147   \n",
       "3           -0.149260           -0.246353     Friday       -0.251740   \n",
       "4           -0.149260           -0.178720     Monday       -0.548147   \n",
       "\n",
       "   longest_consecutive_days last_access  duration_weekdays  duration_weekends  \n",
       "0                 -0.374394  2017-12-05          -0.218373          -0.218133  \n",
       "1                  0.794785  2017-06-26          -0.203449          -0.204779  \n",
       "2                 -0.374394  2018-03-09          -0.218373          -0.218133  \n",
       "3                 -0.374394  2018-06-15          -0.218373          -0.218133  \n",
       "4                 -0.374394  2018-12-31          -0.130949          -0.172663  "
      ]
     },
     "execution_count": 27,
     "metadata": {},
     "output_type": "execute_result"
    }
   ],
   "source": [
    "user_df_normalized.head(5)"
   ]
  },
  {
   "cell_type": "markdown",
   "metadata": {},
   "source": [
    "#### 2.2.2 PCA"
   ]
  },
  {
   "cell_type": "markdown",
   "metadata": {},
   "source": [
    "First, notice we have both numerical and categorical variables.\n",
    "But on closer analysis, we find that categorical variables are often obtained from numerical ones. Think for example of \"hour_of_day\" or \"active_day\" they are directly obtained from \"Duration\"!\n",
    "We can then think of focusing our attention exclusively on numerical variables, and this allows us to be able to perform dimensionality reduction with PCA (which does not support qualitative variables)."
   ]
  },
  {
   "cell_type": "code",
   "execution_count": 28,
   "metadata": {},
   "outputs": [
    {
     "data": {
      "text/html": [
       "<div>\n",
       "<style scoped>\n",
       "    .dataframe tbody tr th:only-of-type {\n",
       "        vertical-align: middle;\n",
       "    }\n",
       "\n",
       "    .dataframe tbody tr th {\n",
       "        vertical-align: top;\n",
       "    }\n",
       "\n",
       "    .dataframe thead th {\n",
       "        text-align: right;\n",
       "    }\n",
       "</style>\n",
       "<table border=\"1\" class=\"dataframe\">\n",
       "  <thead>\n",
       "    <tr style=\"text-align: right;\">\n",
       "      <th></th>\n",
       "      <th>average_click_duration</th>\n",
       "      <th>average_duration_per_day</th>\n",
       "      <th>days_logged_in</th>\n",
       "      <th>old_movie_duration</th>\n",
       "      <th>new_movie_duration</th>\n",
       "      <th>genres_clicked</th>\n",
       "      <th>longest_consecutive_days</th>\n",
       "      <th>duration_weekdays</th>\n",
       "      <th>duration_weekends</th>\n",
       "    </tr>\n",
       "  </thead>\n",
       "  <tbody>\n",
       "    <tr>\n",
       "      <th>0</th>\n",
       "      <td>-0.271204</td>\n",
       "      <td>-0.297797</td>\n",
       "      <td>-0.54426</td>\n",
       "      <td>-0.149260</td>\n",
       "      <td>-0.246353</td>\n",
       "      <td>-0.548147</td>\n",
       "      <td>-0.374394</td>\n",
       "      <td>-0.218373</td>\n",
       "      <td>-0.218133</td>\n",
       "    </tr>\n",
       "    <tr>\n",
       "      <th>1</th>\n",
       "      <td>-0.259511</td>\n",
       "      <td>-0.273962</td>\n",
       "      <td>2.61960</td>\n",
       "      <td>-0.134915</td>\n",
       "      <td>-0.232884</td>\n",
       "      <td>2.415916</td>\n",
       "      <td>0.794785</td>\n",
       "      <td>-0.203449</td>\n",
       "      <td>-0.204779</td>\n",
       "    </tr>\n",
       "    <tr>\n",
       "      <th>2</th>\n",
       "      <td>-0.271204</td>\n",
       "      <td>-0.297797</td>\n",
       "      <td>-0.54426</td>\n",
       "      <td>-0.149260</td>\n",
       "      <td>-0.246353</td>\n",
       "      <td>-0.548147</td>\n",
       "      <td>-0.374394</td>\n",
       "      <td>-0.218373</td>\n",
       "      <td>-0.218133</td>\n",
       "    </tr>\n",
       "    <tr>\n",
       "      <th>3</th>\n",
       "      <td>-0.271204</td>\n",
       "      <td>-0.297797</td>\n",
       "      <td>-0.19272</td>\n",
       "      <td>-0.149260</td>\n",
       "      <td>-0.246353</td>\n",
       "      <td>-0.251740</td>\n",
       "      <td>-0.374394</td>\n",
       "      <td>-0.218373</td>\n",
       "      <td>-0.218133</td>\n",
       "    </tr>\n",
       "    <tr>\n",
       "      <th>4</th>\n",
       "      <td>-0.207405</td>\n",
       "      <td>-0.108148</td>\n",
       "      <td>-0.19272</td>\n",
       "      <td>-0.149260</td>\n",
       "      <td>-0.178720</td>\n",
       "      <td>-0.548147</td>\n",
       "      <td>-0.374394</td>\n",
       "      <td>-0.130949</td>\n",
       "      <td>-0.172663</td>\n",
       "    </tr>\n",
       "    <tr>\n",
       "      <th>...</th>\n",
       "      <td>...</td>\n",
       "      <td>...</td>\n",
       "      <td>...</td>\n",
       "      <td>...</td>\n",
       "      <td>...</td>\n",
       "      <td>...</td>\n",
       "      <td>...</td>\n",
       "      <td>...</td>\n",
       "      <td>...</td>\n",
       "    </tr>\n",
       "    <tr>\n",
       "      <th>154383</th>\n",
       "      <td>-0.222130</td>\n",
       "      <td>-0.256118</td>\n",
       "      <td>-0.54426</td>\n",
       "      <td>-0.149260</td>\n",
       "      <td>-0.194330</td>\n",
       "      <td>-0.548147</td>\n",
       "      <td>-0.374394</td>\n",
       "      <td>-0.160683</td>\n",
       "      <td>-0.218133</td>\n",
       "    </tr>\n",
       "    <tr>\n",
       "      <th>154384</th>\n",
       "      <td>-0.260892</td>\n",
       "      <td>-0.289039</td>\n",
       "      <td>-0.54426</td>\n",
       "      <td>-0.149260</td>\n",
       "      <td>-0.235422</td>\n",
       "      <td>-0.548147</td>\n",
       "      <td>-0.374394</td>\n",
       "      <td>-0.218373</td>\n",
       "      <td>-0.205589</td>\n",
       "    </tr>\n",
       "    <tr>\n",
       "      <th>154385</th>\n",
       "      <td>-0.036629</td>\n",
       "      <td>-0.023859</td>\n",
       "      <td>1.91652</td>\n",
       "      <td>0.773647</td>\n",
       "      <td>-0.094076</td>\n",
       "      <td>1.823104</td>\n",
       "      <td>0.794785</td>\n",
       "      <td>0.155062</td>\n",
       "      <td>-0.202307</td>\n",
       "    </tr>\n",
       "    <tr>\n",
       "      <th>154386</th>\n",
       "      <td>-0.271204</td>\n",
       "      <td>-0.297797</td>\n",
       "      <td>-0.54426</td>\n",
       "      <td>-0.149260</td>\n",
       "      <td>-0.246353</td>\n",
       "      <td>-0.251740</td>\n",
       "      <td>-0.374394</td>\n",
       "      <td>-0.218373</td>\n",
       "      <td>-0.218133</td>\n",
       "    </tr>\n",
       "    <tr>\n",
       "      <th>154387</th>\n",
       "      <td>-0.271204</td>\n",
       "      <td>-0.297797</td>\n",
       "      <td>-0.54426</td>\n",
       "      <td>-0.149260</td>\n",
       "      <td>-0.246353</td>\n",
       "      <td>-0.548147</td>\n",
       "      <td>-0.374394</td>\n",
       "      <td>-0.218373</td>\n",
       "      <td>-0.218133</td>\n",
       "    </tr>\n",
       "  </tbody>\n",
       "</table>\n",
       "<p>154388 rows × 9 columns</p>\n",
       "</div>"
      ],
      "text/plain": [
       "        average_click_duration  average_duration_per_day  days_logged_in  \\\n",
       "0                    -0.271204                 -0.297797        -0.54426   \n",
       "1                    -0.259511                 -0.273962         2.61960   \n",
       "2                    -0.271204                 -0.297797        -0.54426   \n",
       "3                    -0.271204                 -0.297797        -0.19272   \n",
       "4                    -0.207405                 -0.108148        -0.19272   \n",
       "...                        ...                       ...             ...   \n",
       "154383               -0.222130                 -0.256118        -0.54426   \n",
       "154384               -0.260892                 -0.289039        -0.54426   \n",
       "154385               -0.036629                 -0.023859         1.91652   \n",
       "154386               -0.271204                 -0.297797        -0.54426   \n",
       "154387               -0.271204                 -0.297797        -0.54426   \n",
       "\n",
       "        old_movie_duration  new_movie_duration  genres_clicked  \\\n",
       "0                -0.149260           -0.246353       -0.548147   \n",
       "1                -0.134915           -0.232884        2.415916   \n",
       "2                -0.149260           -0.246353       -0.548147   \n",
       "3                -0.149260           -0.246353       -0.251740   \n",
       "4                -0.149260           -0.178720       -0.548147   \n",
       "...                    ...                 ...             ...   \n",
       "154383           -0.149260           -0.194330       -0.548147   \n",
       "154384           -0.149260           -0.235422       -0.548147   \n",
       "154385            0.773647           -0.094076        1.823104   \n",
       "154386           -0.149260           -0.246353       -0.251740   \n",
       "154387           -0.149260           -0.246353       -0.548147   \n",
       "\n",
       "        longest_consecutive_days  duration_weekdays  duration_weekends  \n",
       "0                      -0.374394          -0.218373          -0.218133  \n",
       "1                       0.794785          -0.203449          -0.204779  \n",
       "2                      -0.374394          -0.218373          -0.218133  \n",
       "3                      -0.374394          -0.218373          -0.218133  \n",
       "4                      -0.374394          -0.130949          -0.172663  \n",
       "...                          ...                ...                ...  \n",
       "154383                 -0.374394          -0.160683          -0.218133  \n",
       "154384                 -0.374394          -0.218373          -0.205589  \n",
       "154385                  0.794785           0.155062          -0.202307  \n",
       "154386                 -0.374394          -0.218373          -0.218133  \n",
       "154387                 -0.374394          -0.218373          -0.218133  \n",
       "\n",
       "[154388 rows x 9 columns]"
      ]
     },
     "execution_count": 28,
     "metadata": {},
     "output_type": "execute_result"
    }
   ],
   "source": [
    "X = user_df_normalized.copy() # we create a copy of the dataset\n",
    "# We drop non-numerical columns:\n",
    "numeric_cols = X.select_dtypes(include = 'number' ).columns.tolist()\n",
    "X = X[numeric_cols]\n",
    "X"
   ]
  },
  {
   "cell_type": "markdown",
   "metadata": {},
   "source": [
    "Let's see what Principal Component Analysis is and why it is usefull for us.   \n",
    "In principal component analysis, we start with the data matrix $X$ that consists of $NxD$ variables and obtain a matrix with $N$ rows but the columns are a smaller number.                              \n",
    "Principal components are summaries of the information (variance) that is contained in the original variables.                  \n",
    "The main purpose for which it is used in data analysis is for **dimensionality reduction**. \n",
    "\n",
    "\n",
    "You get to have a number of principal components that are _uncorrelated_ with each other and each of the components summarizes a part of the _variance_; the first component summarizes as much variance as possible and the other components will summarize a smaller amount of variance.                     \n",
    "Principal components are not observable, they represent latent concepts i.e., a summary of variables that are observable and are correlated with each other.\n",
    "\n",
    "\n",
    "**Geometrically**, the PCA produces an _orthogonal projection_ of the datapoints \"cloud\" representing the $n$ statistical units in the $D$-dimensional space of variables into a subspace of lower dimensions.                          \n",
    "The objective of this projection that is made by the PCA is to distort the point cloud as little as possible by minimizing the sum of the squares of the differences between the Euclidean distances between pairs of points and their projections in the reduced space.                                   \n",
    "The first component is placed where the range of variation of the datapoints is largest, and the second component is orthogonal to the first and is placed where there is most variance that has not yet been explained."
   ]
  },
  {
   "cell_type": "code",
   "execution_count": 29,
   "metadata": {},
   "outputs": [
    {
     "data": {
      "image/png": "[encoded data removed]",
      "text/plain": [
       "<Figure size 1100x650 with 1 Axes>"
      ]
     },
     "metadata": {},
     "output_type": "display_data"
    },
    {
     "name": "stdout",
     "output_type": "stream",
     "text": [
      "**************************************************************************************************************\n",
      "\n",
      "Our 3 principal components:\n"
     ]
    },
    {
     "data": {
      "text/plain": [
       "array([[-0.54270665, -0.87695124, -0.00953061],\n",
       "       [-0.69462058,  3.37693692, -0.09871102],\n",
       "       [-0.54270665, -0.87695124, -0.00953061],\n",
       "       ...,\n",
       "       [-0.04364795,  2.67104995,  0.3242776 ],\n",
       "       [-0.55141215, -0.70664996, -0.01273608],\n",
       "       [-0.54270665, -0.87695124, -0.00953061]])"
      ]
     },
     "execution_count": 29,
     "metadata": {},
     "output_type": "execute_result"
    }
   ],
   "source": [
    "# Now that we have our new dataset ready, we search the optimal number of principal components:\n",
    "\n",
    "def pca_hw4(X, treshold):\n",
    "    \n",
    "    # Part 1: We find the optimal number of components ------------------------------------\n",
    "    n = len(X.axes[1]) # number of columns of X\n",
    "    covar_matrix = PCA(n_components = n).fit(X) \n",
    "  \n",
    "    # Variance explained for each of the principal components\n",
    "    variance = covar_matrix.explained_variance_ratio_\n",
    "    cumulative_var = np.cumsum( np.round(variance, decimals = 3) * 100 )\n",
    "\n",
    "    # Find the number of components you need to go over your treshold:\n",
    "    num_components = len(cumulative_var) # default value\n",
    "    for i in range(len(cumulative_var)):\n",
    "        if cumulative_var[i] >= treshold:\n",
    "            num_components = i+1\n",
    "            break     \n",
    "\n",
    "    # Part 2: Plot to find the number of principal components you need ---------------------\n",
    "\n",
    "    tot_num_components = len(cumulative_var)\n",
    "    \n",
    "    x = [x for x in range(1, tot_num_components + 1)] # numbers from 1 to maximum number of components\n",
    "    y = [var for var in cumulative_var] # value of the cumulative variance\n",
    "\n",
    "    # We will color the component that reaches to explain the desired level of variance with a different color\n",
    "    customized_col = [\"#FFB703\" if c <= num_components else \"#219EBC\" for c in x] \n",
    "\n",
    "    fig, ax = plt.subplots(figsize=(11, 6.5))\n",
    "\n",
    "    ax.set_title('Principal Components Cum. Variance', fontsize = 20)\n",
    "    ax.set_ylabel('Cumulative Variance % Explained', fontsize = 15)\n",
    "    ax.set_xlabel('Principal Components', fontsize = 15)\n",
    "\n",
    "    ax.axhline(treshold, color = '#FB8500', linewidth = 1.75, linestyle = \"--\")\n",
    "\n",
    "    sns.barplot(x = x,y = y, palette = customized_col) \n",
    "    ax.bar_label(ax.containers[0])\n",
    "    plt.show()\n",
    "\n",
    "    # Part 3: we perform the PCA with the chosen number of principal components ------------------\n",
    "\n",
    "    pca = PCA(n_components = num_components)\n",
    "    principal_components = pca.fit_transform(X)\n",
    "\n",
    "    # Part 4: Just the print of the dataframe containing the principal components -------------------\n",
    "\n",
    "    print('*' * 110) # only to divide the output...\n",
    "    print('')\n",
    "    print('Our', num_components, 'principal components:')\n",
    "\n",
    "    return principal_components\n",
    "    \n",
    "\n",
    "pca_analysis = pca_hw4(X, treshold = 80)\n",
    "pca_analysis"
   ]
  },
  {
   "cell_type": "markdown",
   "metadata": {},
   "source": [
    "As we can see with only 3 principal components we can summarize 82% of the total variance, with 4 components we would have 92.6%                     \n",
    "We can also try to see the combination of variables that created each principal component with an heatmap.                \n",
    "_pca.components_**2_ Square the elements of the principal component matrix. This represents the percentage of variance explained by each variable for each principal component.              \n",
    "\n",
    "The first principal component explains 26% of __average_click_duration__, 25% of __average_duration_per_day__, 4% of __old_movie_duration__, 21% of __new_movie_duration__, 13% of __duration_weekdays__, and 12% of __duration_weekends__.               \n",
    "The second principal component explains 36% of __days_logged_in__ variable, 33% of __genres_clicked__ and 30% of __longest_consecutive_days__.  \n",
    "\n",
    "It can be seen that there are no variables in common between the first two principal components.             \n",
    "\n",
    "The first component refers mainly to variables extracted from the _\"duration\"_ column of the original dataframe, while the second main component summarizes variables that were constructed from other columns of the original dataframe.     \n",
    "      \n",
    "To complete our analysis, we can also see that the third principal component explains 46% of the variance of __old_movie_duration__, 10% of __new_movie_duration__, 20% of __duration_weekdays__, and 24% of __duration_weekends__."
   ]
  },
  {
   "cell_type": "code",
   "execution_count": 30,
   "metadata": {},
   "outputs": [
    {
     "data": {
      "text/plain": [
       "<Axes: >"
      ]
     },
     "execution_count": 30,
     "metadata": {},
     "output_type": "execute_result"
    },
    {
     "data": {
      "image/png": "[encoded data removed]",
      "text/plain": [
       "<Figure size 640x480 with 2 Axes>"
      ]
     },
     "metadata": {},
     "output_type": "display_data"
    }
   ],
   "source": [
    "n = len(X.axes[1]) # number of columns of X\n",
    "pca = PCA(n_components = n).fit(X) \n",
    "sns.heatmap(pca.components_**2,\n",
    "                 yticklabels=[\"PC\"+str(x) for x in range(1, pca.n_components_+1)],\n",
    "                 xticklabels=to_norm,\n",
    "                 annot=True,\n",
    "                 fmt='.2f',\n",
    "                 square=True,\n",
    "                 linewidths=0.1,\n",
    "                 cmap= \"crest\")"
   ]
  },
  {
   "cell_type": "markdown",
   "metadata": {},
   "source": [
    "### 2.3\n",
    "#### 2.3.1 & 2.3.4\n",
    "Using the features `['0', '1', '2']` and setting the number of clusters to `5` we get the following clustering by performing `our_k_means_standard` or `our_k_means_adv()` (i.e. k-means++), respectively.\n",
    "\n",
    "For the exact implementations we refer to the `functions.py`-file.\n",
    "\n",
    "Concerning \"map-reduce\":\n",
    "-   The so-called \"map\" is done by `functions.my_map()`.\n",
    "-   The so-called \"reduce\" is done by `functions.my_reduce()`.\n",
    "For a better understanding we will execute them on the first 90 entries of the dataset."
   ]
  },
  {
   "cell_type": "code",
   "execution_count": 1,
   "metadata": {},
   "outputs": [],
   "source": [
    "import functions\n",
    "import seaborn as sns"
   ]
  },
  {
   "cell_type": "code",
   "execution_count": 2,
   "metadata": {},
   "outputs": [],
   "source": [
    "k = 5\n",
    "data_path = 'pca.csv'\n",
    "essential_cols = ['0','1','2']\n",
    "chunksize = 10**4\n",
    "nrows = None"
   ]
  },
  {
   "cell_type": "markdown",
   "metadata": {},
   "source": [
    "First, we run our standard version of k-means. For the illustration we use the first two columns since these are the most important found by PCA."
   ]
  },
  {
   "cell_type": "code",
   "execution_count": 3,
   "metadata": {},
   "outputs": [
    {
     "data": {
      "text/plain": [
       "<Axes: xlabel='0', ylabel='1'>"
      ]
     },
     "execution_count": 3,
     "metadata": {},
     "output_type": "execute_result"
    },
    {
     "data": {
      "image/png": "[encoded data removed]",
      "text/plain": [
       "<Figure size 432x288 with 1 Axes>"
      ]
     },
     "metadata": {
      "needs_background": "light"
     },
     "output_type": "display_data"
    }
   ],
   "source": [
    "res = functions.our_k_means_standard(k, data_path, essential_cols, nrows=nrows, chunksize=chunksize, upper_bound_for_iterations=50 )\n",
    "sns.scatterplot(data=res, x='0', y=\"1\", hue=\"cluster\", alpha=0.1)"
   ]
  },
  {
   "cell_type": "markdown",
   "metadata": {},
   "source": [
    "Next, we run our ++version of k-means using the same columns for illustrations."
   ]
  },
  {
   "cell_type": "code",
   "execution_count": 4,
   "metadata": {},
   "outputs": [
    {
     "data": {
      "text/plain": [
       "<Axes: xlabel='0', ylabel='1'>"
      ]
     },
     "execution_count": 4,
     "metadata": {},
     "output_type": "execute_result"
    },
    {
     "data": {
      "image/png": "[encoded data removed]",
      "text/plain": [
       "<Figure size 432x288 with 1 Axes>"
      ]
     },
     "metadata": {
      "needs_background": "light"
     },
     "output_type": "display_data"
    }
   ],
   "source": [
    "res_adv = functions.our_k_means_adv(k, data_path, essential_cols, nrows=nrows, chunksize=chunksize, upper_bound_for_iterations=50 )\n",
    "sns.scatterplot(data=res_adv, x='0', y=\"1\", hue=\"cluster\", alpha=0.1)"
   ]
  },
  {
   "cell_type": "markdown",
   "metadata": {},
   "source": [
    "To also illustrate how our map-reduce works, first let us have a look at the map-function. \n",
    "We processed the data chunkwise and each chunk independently from the others. Then we concatenated the results. The result of this concatenation is shown below. We can still recognize the chunking by looking at the index. Each processed chunk starts with a 0.\n",
    "\n",
    "The columns 0, 1, 2 of this dataframe show the summed up values of each feature after grouping them by cluster inside a chunk."
   ]
  },
  {
   "cell_type": "code",
   "execution_count": 5,
   "metadata": {},
   "outputs": [
    {
     "data": {
      "text/html": [
       "<div>\n",
       "<style scoped>\n",
       "    .dataframe tbody tr th:only-of-type {\n",
       "        vertical-align: middle;\n",
       "    }\n",
       "\n",
       "    .dataframe tbody tr th {\n",
       "        vertical-align: top;\n",
       "    }\n",
       "\n",
       "    .dataframe thead th {\n",
       "        text-align: right;\n",
       "    }\n",
       "</style>\n",
       "<table border=\"1\" class=\"dataframe\">\n",
       "  <thead>\n",
       "    <tr style=\"text-align: right;\">\n",
       "      <th></th>\n",
       "      <th>cluster</th>\n",
       "      <th>0</th>\n",
       "      <th>1</th>\n",
       "      <th>2</th>\n",
       "      <th>count</th>\n",
       "    </tr>\n",
       "  </thead>\n",
       "  <tbody>\n",
       "    <tr>\n",
       "      <th>0</th>\n",
       "      <td>1</td>\n",
       "      <td>-0.694621</td>\n",
       "      <td>3.376937</td>\n",
       "      <td>-0.098711</td>\n",
       "      <td>1</td>\n",
       "    </tr>\n",
       "    <tr>\n",
       "      <th>1</th>\n",
       "      <td>7</td>\n",
       "      <td>-1.085413</td>\n",
       "      <td>-1.753902</td>\n",
       "      <td>-0.019061</td>\n",
       "      <td>2</td>\n",
       "    </tr>\n",
       "    <tr>\n",
       "      <th>0</th>\n",
       "      <td>5</td>\n",
       "      <td>-0.271540</td>\n",
       "      <td>0.373459</td>\n",
       "      <td>0.039834</td>\n",
       "      <td>1</td>\n",
       "    </tr>\n",
       "    <tr>\n",
       "      <th>1</th>\n",
       "      <td>6</td>\n",
       "      <td>-0.905480</td>\n",
       "      <td>-1.151973</td>\n",
       "      <td>-0.068187</td>\n",
       "      <td>2</td>\n",
       "    </tr>\n",
       "    <tr>\n",
       "      <th>0</th>\n",
       "      <td>6</td>\n",
       "      <td>-0.558273</td>\n",
       "      <td>-0.453741</td>\n",
       "      <td>-0.016773</td>\n",
       "      <td>1</td>\n",
       "    </tr>\n",
       "    <tr>\n",
       "      <th>1</th>\n",
       "      <td>7</td>\n",
       "      <td>-0.542707</td>\n",
       "      <td>-0.876951</td>\n",
       "      <td>-0.009531</td>\n",
       "      <td>1</td>\n",
       "    </tr>\n",
       "    <tr>\n",
       "      <th>2</th>\n",
       "      <td>8</td>\n",
       "      <td>3.305258</td>\n",
       "      <td>0.429662</td>\n",
       "      <td>0.534817</td>\n",
       "      <td>1</td>\n",
       "    </tr>\n",
       "  </tbody>\n",
       "</table>\n",
       "</div>"
      ],
      "text/plain": [
       "  cluster         0         1         2  count\n",
       "0       1 -0.694621  3.376937 -0.098711      1\n",
       "1       7 -1.085413 -1.753902 -0.019061      2\n",
       "0       5 -0.271540  0.373459  0.039834      1\n",
       "1       6 -0.905480 -1.151973 -0.068187      2\n",
       "0       6 -0.558273 -0.453741 -0.016773      1\n",
       "1       7 -0.542707 -0.876951 -0.009531      1\n",
       "2       8  3.305258  0.429662  0.534817      1"
      ]
     },
     "execution_count": 5,
     "metadata": {},
     "output_type": "execute_result"
    }
   ],
   "source": [
    "nrows = 9\n",
    "chunksize = 3\n",
    "centers = functions.init_centers_adv(k, data_path, essential_cols, nrows=nrows)\n",
    "map_res = functions.my_map(data_path, essential_cols, centers, chunksize, nrows)\n",
    "map_res"
   ]
  },
  {
   "cell_type": "markdown",
   "metadata": {},
   "source": [
    "Next, we look at the reduce-function. It basically just performs a `groupby('cluster')` on the `map_res` given above, sums again the values for 0,1,2 columnwise and divides by count. The result of the reduce-function hence are the new centers for the next iteration inside our k-means-algorithms."
   ]
  },
  {
   "cell_type": "code",
   "execution_count": 6,
   "metadata": {},
   "outputs": [
    {
     "data": {
      "text/html": [
       "<div>\n",
       "<style scoped>\n",
       "    .dataframe tbody tr th:only-of-type {\n",
       "        vertical-align: middle;\n",
       "    }\n",
       "\n",
       "    .dataframe tbody tr th {\n",
       "        vertical-align: top;\n",
       "    }\n",
       "\n",
       "    .dataframe thead th {\n",
       "        text-align: right;\n",
       "    }\n",
       "</style>\n",
       "<table border=\"1\" class=\"dataframe\">\n",
       "  <thead>\n",
       "    <tr style=\"text-align: right;\">\n",
       "      <th></th>\n",
       "      <th>0</th>\n",
       "      <th>1</th>\n",
       "      <th>2</th>\n",
       "    </tr>\n",
       "  </thead>\n",
       "  <tbody>\n",
       "    <tr>\n",
       "      <th>0</th>\n",
       "      <td>-0.694621</td>\n",
       "      <td>3.376937</td>\n",
       "      <td>-0.098711</td>\n",
       "    </tr>\n",
       "    <tr>\n",
       "      <th>1</th>\n",
       "      <td>-0.271540</td>\n",
       "      <td>0.373459</td>\n",
       "      <td>0.039834</td>\n",
       "    </tr>\n",
       "    <tr>\n",
       "      <th>2</th>\n",
       "      <td>-0.487918</td>\n",
       "      <td>-0.535238</td>\n",
       "      <td>-0.028320</td>\n",
       "    </tr>\n",
       "    <tr>\n",
       "      <th>3</th>\n",
       "      <td>-0.542707</td>\n",
       "      <td>-0.876951</td>\n",
       "      <td>-0.009531</td>\n",
       "    </tr>\n",
       "    <tr>\n",
       "      <th>4</th>\n",
       "      <td>3.305258</td>\n",
       "      <td>0.429662</td>\n",
       "      <td>0.534817</td>\n",
       "    </tr>\n",
       "  </tbody>\n",
       "</table>\n",
       "</div>"
      ],
      "text/plain": [
       "          0         1         2\n",
       "0 -0.694621  3.376937 -0.098711\n",
       "1 -0.271540  0.373459  0.039834\n",
       "2 -0.487918 -0.535238 -0.028320\n",
       "3 -0.542707 -0.876951 -0.009531\n",
       "4  3.305258  0.429662  0.534817"
      ]
     },
     "execution_count": 6,
     "metadata": {},
     "output_type": "execute_result"
    }
   ],
   "source": [
    "functions.my_reduce(map_res, essential_cols)"
   ]
  },
  {
   "cell_type": "code",
   "execution_count": 16,
   "metadata": {},
   "outputs": [],
   "source": [
    "import functions\n",
    "import pandas as pd\n",
    "import matplotlib.pyplot as plt\n",
    "from sklearn.metrics import silhouette_score"
   ]
  },
  {
   "cell_type": "markdown",
   "metadata": {},
   "source": [
    "#### 2.3.2\n",
    "\n",
    "The two most common methods for choosing the number of clusters in a clustering problem are : The elbow method and the silhouette score method. There are others but these are the most commonly used ones (and they have the advantage of being easier to implement and more easily interpretable). Due to the nature of our code, we'll implement the whole elbow method from scratch. We'll keep the same hyperparameters for the computation of the k-means clusters as before."
   ]
  },
  {
   "cell_type": "code",
   "execution_count": 8,
   "metadata": {},
   "outputs": [
    {
     "name": "stdout",
     "output_type": "stream",
     "text": [
      "[0    14.930606\n",
      "dtype: float64, 0    1.287009\n",
      "dtype: float64, 0    0.234169\n",
      "dtype: float64, 0    0.053985\n",
      "dtype: float64, 0    0.000854\n",
      "dtype: float64, 0    1.912619e-21\n",
      "dtype: float64, 0    4.959650e-25\n",
      "dtype: float64, 0    0.0\n",
      "dtype: float64]\n"
     ]
    },
    {
     "data": {
      "image/png": "[encoded data removed]",
      "text/plain": [
       "<Figure size 432x288 with 1 Axes>"
      ]
     },
     "metadata": {
      "needs_background": "light"
     },
     "output_type": "display_data"
    }
   ],
   "source": [
    "def elbow_method(k_range, n_iter, path):\n",
    "    \"\"\"\n",
    "    This takes the range of cluster values we want to experiment with and plot\n",
    "    the WCSS (total sum of squares for points relative to their center in each cluster)\n",
    "    The elbow method consists of choosing the number of cluster where the curve\n",
    "    shows an \"elbow\".\n",
    "    \"\"\"\n",
    "    wcss_values = []\n",
    "    \n",
    "    # We unpack the value of the interval we chose ((2,10) for our example) for our loop\n",
    "    for n_clusters in range(*k_range):\n",
    "        data_clustered_standard_elb = functions.our_k_means_adv(n_clusters, path, ['0', '1', '2'], nrows=nrows, chunksize=chunksize, upper_bound_for_iterations=n_iter)\n",
    "        wcss = functions.compute_wcss(n_clusters, data_clustered_standard_elb, ['0', '1', '2'])\n",
    "        wcss_values.append(wcss)\n",
    "        \n",
    "    print(wcss_values)\n",
    "    plt.plot(range(*k_range), wcss_values)\n",
    "    plt.title('Elbow Method')\n",
    "    plt.xlabel('Number of Clusters (k)')\n",
    "    plt.ylabel('WCSS')\n",
    "    plt.show()\n",
    "\n",
    "elbow_method((2,10), 50, data_path)"
   ]
  },
  {
   "cell_type": "markdown",
   "metadata": {},
   "source": [
    "When we look at the curve, we can see that for $k = 3$, the curve shows an elbow. Hence, when strictly looking at this, we could say that $k_{opt} = 3$. However, we have to consider that a small number of clusters like this may (or may not) cause under/overfitting and/or may not be suitable for the interpretation we have of the data. \n",
    "Anyways, it's always best to use another metric to test this hypothesis, here, we use the silhouette score."
   ]
  },
  {
   "cell_type": "code",
   "execution_count": 9,
   "metadata": {},
   "outputs": [
    {
     "data": {
      "image/png": "[encoded data removed]",
      "text/plain": [
       "<Figure size 432x288 with 1 Axes>"
      ]
     },
     "metadata": {
      "needs_background": "light"
     },
     "output_type": "display_data"
    }
   ],
   "source": [
    "def silhouette_method(path, essential_cols, k_range, n_iter):\n",
    "    \"\"\"\n",
    "    This function computes the silhouette score for the k-means++ implementation for every value of k we\n",
    "    choose in an interval, this then plots out the curve of each silhouette score.\n",
    "    \"\"\"\n",
    "    silhouette_avg_scores = []\n",
    "    data = functions.get_data_from_2_2(nrows)\n",
    "    \n",
    "    for n_clusters in range(*k_range):\n",
    "        data_clustered_standard_sil = functions.our_k_means_adv(n_clusters, path, ['0', '1', '2'], nrows=nrows, chunksize=chunksize, upper_bound_for_iterations=n_iter)\n",
    "        score = silhouette_score(data[essential_cols], data_clustered_standard_sil['cluster']) \n",
    "        silhouette_avg_scores.append(score)\n",
    "    \n",
    "    plt.plot(range(*k_range), silhouette_avg_scores)\n",
    "    plt.title('Silhouette Method')\n",
    "    plt.xlabel('Number of Clusters (k)')\n",
    "    plt.ylabel('Silhouette Score')\n",
    "    plt.show()\n",
    "    \n",
    "silhouette_method(data_path, ['0', '1', '2'], (2,9), 50)"
   ]
  },
  {
   "cell_type": "markdown",
   "metadata": {},
   "source": [
    "Using this method, we could say that 3 seems to be an optimal number of clusters, however, we can see that 5 has also a good average silhouette score and that it presented a slight elbow using the elbow method. As 3 is quite low and may not be suitable for a complex problem like this, one should also consider using larger values.\n",
    "This is really up to personal preference I think and depends on the inforamation we want to get out of the dataset."
   ]
  },
  {
   "cell_type": "markdown",
   "metadata": {},
   "source": [
    "#### 2.3.5\n",
    "\n",
    "In this question, I asked ChatGPT to provide me with another clustering algorithm. It wanted to implement DBSCAN first but I kept this implementation for the bonus question. On the second try, the LLM provided me with the implementation of a hierarchical clustering algorithm. This type of clustering algorithm is especially useful to get information on the structure of the data.\n",
    "The LLM talked about the Agglomerative clustering algorithm specifically."
   ]
  },
  {
   "cell_type": "code",
   "execution_count": 32,
   "metadata": {},
   "outputs": [
    {
     "data": {
      "text/plain": [
       "<Axes: xlabel='2', ylabel='1'>"
      ]
     },
     "execution_count": 32,
     "metadata": {},
     "output_type": "execute_result"
    },
    {
     "data": {
      "image/png": "[encoded data removed]",
      "text/plain": [
       "<Figure size 432x288 with 1 Axes>"
      ]
     },
     "metadata": {
      "needs_background": "light"
     },
     "output_type": "display_data"
    }
   ],
   "source": [
    "from sklearn.cluster import AgglomerativeClustering\n",
    "import matplotlib.pyplot as plt\n",
    "from mpl_toolkits.mplot3d import Axes3D\n",
    "\n",
    "# Load the data\n",
    "data = functions.get_data_from_2_2(1500)\n",
    "\n",
    "# Using Agglomerative Clustering and initially fitting the model without specifying the number of clusters\n",
    "ac = AgglomerativeClustering(metric='euclidean', linkage='ward', distance_threshold=0, n_clusters=None)\n",
    "clusters = ac.fit_predict(data)\n",
    "data['cluster'] = clusters\n",
    "\n",
    "sns.scatterplot(data, x='2', y='1', hue='cluster')"
   ]
  },
  {
   "cell_type": "markdown",
   "metadata": {},
   "source": [
    "The main difference between this and the K-means is that we don't provide the number of clusters, the algorithm figures it out automatically (the algorithm also seems to output a probability of a point being inside a cluster with the hue). However, because of that, there are a lot more parameters to give. I didn't change the parameters ChatGPT gave me and this gave me this result with 6 different cluster colors (which seems to be somewhat consistent with what we had earlier, as 5 - 6 was also a good choice but one should interpret these results differently than those from K-means). I think K-Means is a little bit limited in this day and age and the kind of algorithm I used here can have other uses."
   ]
  },
  {
   "cell_type": "markdown",
   "metadata": {},
   "source": [
    "#### 2.4.1\n",
    "\n",
    "I think the most important variable are related to watch time, so I choose average_click_duration and average_duration_per_day. These variable are somewhat correlated but we only examine them indepently here."
   ]
  },
  {
   "cell_type": "markdown",
   "metadata": {},
   "source": [
    "#### 2.4.2\n",
    "\n",
    "Creating categories is easy for categorical values but much harder for numerical values. To be meaningful, categories must capture an approximately equal part of the data (so we can't just divide the max number of one column into 4 equal pieces). "
   ]
  },
  {
   "cell_type": "code",
   "execution_count": 17,
   "metadata": {},
   "outputs": [
    {
     "name": "stdout",
     "output_type": "stream",
     "text": [
      "The bin edges of the data for the column average_click_duration are : 0.0 3432.4 27341.7 11471935.0\n"
     ]
    }
   ],
   "source": [
    "data_orig = pd.read_csv(\"user.csv\")\n",
    "_, categories = pd.qcut(data_orig['average_click_duration'], [0.25,0.5,0.75,1], labels=False, retbins = True)\n",
    "print(\"The bin edges of the data for the column average_click_duration are :\", *categories)"
   ]
  },
  {
   "cell_type": "markdown",
   "metadata": {},
   "source": [
    "What we can see also is that the 25th percentile (0) is equal to the minimum value of the dataset. We can then choose the first category as \"average_click_duration = 0\" and the other as the remaining intervals."
   ]
  },
  {
   "cell_type": "markdown",
   "metadata": {},
   "source": [
    "We do the same thing with our other variable (average_duration_per_day)"
   ]
  },
  {
   "cell_type": "code",
   "execution_count": 18,
   "metadata": {},
   "outputs": [
    {
     "name": "stdout",
     "output_type": "stream",
     "text": [
      "The bin edges of the data for the column average_duration_per_day are : 0.0 5400.0 41902.225000000006 14007524.0\n"
     ]
    }
   ],
   "source": [
    "data_orig = pd.read_csv(\"user.csv\")\n",
    "_, categories = pd.qcut(data_orig['average_duration_per_day'], [0.25,0.5,0.75,1], labels=False, retbins = True)\n",
    "print(\"The bin edges of the data for the column average_duration_per_day are :\", *categories)"
   ]
  },
  {
   "cell_type": "markdown",
   "metadata": {},
   "source": [
    "#### 2.4.3\n",
    "\n",
    "Now that we have the categories, we can create the pivot tables. We choose 3 as the optimal number of clusters, as was previously mentioned."
   ]
  },
  {
   "cell_type": "code",
   "execution_count": 29,
   "metadata": {},
   "outputs": [
    {
     "name": "stdout",
     "output_type": "stream",
     "text": [
      "click_duration_category      0  0-3432.4  3432.4-27341.7  27341.7-11471935\n",
      "cluster                                                                   \n",
      "0                            0         0               0              6307\n",
      "1                        44305     28759           25781             22539\n",
      "2                          322      3612           10813              8141\n",
      "3                            0         0               0               753\n",
      "4                            0       196            2003               857\n"
     ]
    }
   ],
   "source": [
    "# To ease our work later, we put the cluster values into the original dataframe\n",
    "data_orig['cluster'] = res_adv['cluster']\n",
    "\n",
    "# Bin edges \n",
    "bin_edges = [0.0, 0.00001, 3432.4, 27341.7, 11471935.0]\n",
    "\n",
    "# Categorizing data into bins (we need it for the pivot table)\n",
    "data_orig['click_duration_category'] = pd.cut(data_orig['average_click_duration'], bins=bin_edges, include_lowest=True, labels=['0', '0-3432.4', '3432.4-27341.7', '27341.7-11471935'])\n",
    "\n",
    "# Creating a pivot table\n",
    "pivot_table = pd.pivot_table(data_orig, values='average_click_duration', index='cluster', columns='click_duration_category', aggfunc='count')\n",
    "print(pivot_table)"
   ]
  },
  {
   "cell_type": "code",
   "execution_count": 21,
   "metadata": {},
   "outputs": [
    {
     "name": "stdout",
     "output_type": "stream",
     "text": [
      "average_duration_category      0  0-3432.4  3432.4-27341.7  27341.7-11471935\n",
      "cluster                                                                     \n",
      "0                              0         0               0              6307\n",
      "1                          44305     29165           26130             21784\n",
      "2                            322      3312           10673              8581\n",
      "3                              0         0               0               753\n",
      "4                              0       118            1766              1172\n"
     ]
    }
   ],
   "source": [
    "# We do the same thing as earlier with the other variable (average_duration_per_day), the bin edges are not the same\n",
    "bin_edges_day_duration = [0.0, 0.00001, 5400.0, 41902.225000000006, 14007524.0]\n",
    "\n",
    "data_orig['average_duration_category'] = pd.cut(data_orig['average_duration_per_day'], bins=bin_edges_day_duration, include_lowest=True, labels=['0', '0-3432.4', '3432.4-27341.7', '27341.7-11471935'])\n",
    "\n",
    "pivot_table_day_duration = pd.pivot_table(data_orig, values='average_duration_per_day', index='cluster', columns='average_duration_category', aggfunc='count')\n",
    "print(pivot_table_day_duration)"
   ]
  },
  {
   "cell_type": "markdown",
   "metadata": {},
   "source": [
    "#### 2.4.4\n",
    "\n"
   ]
  },
  {
   "cell_type": "code",
   "execution_count": 22,
   "metadata": {},
   "outputs": [
    {
     "name": "stdout",
     "output_type": "stream",
     "text": [
      "click_duration_category          0   0-3432.4  3432.4-27341.7  \\\n",
      "cluster                                                         \n",
      "0                         0.000000   0.000000        0.000000   \n",
      "1                        36.499868  23.692579       21.239208   \n",
      "2                         1.406851  15.781195       47.243097   \n",
      "3                         0.000000   0.000000        0.000000   \n",
      "4                         0.000000   6.413613       65.543194   \n",
      "\n",
      "click_duration_category  27341.7-11471935  \n",
      "cluster                                    \n",
      "0                              100.000000  \n",
      "1                               18.568345  \n",
      "2                               35.568857  \n",
      "3                              100.000000  \n",
      "4                               28.043194  \n",
      "average_duration_category          0   0-3432.4  3432.4-27341.7  \\\n",
      "cluster                                                           \n",
      "0                           0.000000   0.000000        0.000000   \n",
      "1                          36.499868  24.027055       21.526725   \n",
      "2                           1.406851  14.470465       46.631423   \n",
      "3                           0.000000   0.000000        0.000000   \n",
      "4                           0.000000   3.861257       57.787958   \n",
      "\n",
      "average_duration_category  27341.7-11471935  \n",
      "cluster                                      \n",
      "0                                100.000000  \n",
      "1                                 17.946352  \n",
      "2                                 37.491262  \n",
      "3                                100.000000  \n",
      "4                                 38.350785  \n"
     ]
    }
   ],
   "source": [
    "# We compute the pivot table with all the percentages for each row as values.\n",
    "pivot_percentage_clicks = pivot_table.div(pivot_table.sum(axis=1), axis=0) * 100\n",
    "pivot_percentage_day = pivot_table_day_duration.div(pivot_table_day_duration.sum(axis=1),  axis=0) * 100\n",
    "\n",
    "print(pivot_percentage_clicks)\n",
    "print(pivot_percentage_day)"
   ]
  },
  {
   "cell_type": "markdown",
   "metadata": {},
   "source": [
    "#### 2.4.5\n",
    "\n",
    "What we have to say first is that cluster_3 here for example has much less value than cluster_1, this may be fine with the data we have (it doesn't necessarily equate to overfitting/underfitting) but with 3 dimensions like this, it's hard to say if the values we have are correct (and just comparing it to the python implementation of the algorithms is tricky as two different entirely clustering results can be \"good\" depending on the data).\n",
    "Moreover, we can see that some clusters are heavily unbalanced in favor of the variables we chose (with 100% for one category for clusters 0 and 3), again this may be explained considering we only chose to focus on one variable but with this many samples, it may also be worrying.\n",
    "\n",
    "However, from the percentage pivot table, we can easily see that the two variable present some similarities. We can also see that cluster_2 has very high values for both variables while cluster_1 has a bigger amount of 0s (higher than the total amount in the dataset which is close to 25%). Once again, it's hard to interpret center_2 but we can see that it has the highest proportion of high values, this may be a type of people who have a certain type of movie consumption."
   ]
  },
  {
   "cell_type": "markdown",
   "metadata": {},
   "source": [
    "#### 2.4.6\n",
    "\n",
    "There are a number of metrics used to evaluate a clustering model. They can be based on labels or not (like here).\n",
    "Here I use 2 that have different interpretations.\n"
   ]
  },
  {
   "cell_type": "code",
   "execution_count": 31,
   "metadata": {},
   "outputs": [
    {
     "name": "stdout",
     "output_type": "stream",
     "text": [
      "0.6283461159275637\n",
      "0.8127318570664308\n"
     ]
    }
   ],
   "source": [
    "from sklearn.metrics import silhouette_score, calinski_harabasz_score, davies_bouldin_score\n",
    "\n",
    "nrows = None\n",
    "data = functions.get_data_from_2_2(nrows)\n",
    "\n",
    "essential_cols = ['0', '1', '2']\n",
    "silhouette_avg = silhouette_score(data[essential_cols], res_adv['cluster'])\n",
    "davies_bouldin = davies_bouldin_score(data[essential_cols], res_adv['cluster'])\n",
    "\n",
    "print(silhouette_avg)\n",
    "print(davies_bouldin)"
   ]
  },
  {
   "cell_type": "markdown",
   "metadata": {},
   "source": [
    "The two results can be interpreted differently. The silhouette score spans from -1 to 1, a silhouette score of 1 means that all objects are perfectly similar to other objects in their cluster and entirely different from other objects in other clusters. A score of 0.6 like here is considered pretty good because it means that the clusters separate the inputs well. However, depending on the problem, this could also be a sign of overfitting (if the silhouette score is too high).\n",
    "\n",
    "The other metric is the davies boulding score, it ranges from 0 to infinity. A low davies bouldin is considered good (but it depends on the range of the values of the input) and indicates good separation.\n",
    "\n",
    "Once again, as these metrics are unsupervised only, their interpretation remains complicated and may necessitate expert knowledge on the subject matter to get deeper into the analysis."
   ]
  },
  {
   "cell_type": "markdown",
   "metadata": {},
   "source": [
    "## 3. BONUS\n",
    "\n",
    "Once I asked ChatGPT for this kind of algorithm, he gave me the name of DBSCAN, one of its implementation is available from sklearn. \n",
    "What you have to keep in mind is that we don't input the number of clusters we want as parameters, instead we ajust the eps and min_samples values depending on the dataset to find a result with the number of clusters found automatically. From what I gathered online, the eps value can be obtained through the elbow method and empirical evidence shows that min_samples can be choses as dimension + 1 if the dimension value is low."
   ]
  },
  {
   "cell_type": "code",
   "execution_count": 33,
   "metadata": {},
   "outputs": [
    {
     "data": {
      "text/plain": [
       "<Axes: xlabel='2', ylabel='1'>"
      ]
     },
     "execution_count": 33,
     "metadata": {},
     "output_type": "execute_result"
    },
    {
     "data": {
      "image/png": "[encoded data removed]",
      "text/plain": [
       "<Figure size 432x288 with 1 Axes>"
      ]
     },
     "metadata": {
      "needs_background": "light"
     },
     "output_type": "display_data"
    }
   ],
   "source": [
    "from sklearn.cluster import DBSCAN\n",
    "import pandas as pd\n",
    "from mpl_toolkits.mplot3d import Axes3D\n",
    "\n",
    "# The implementation in sklearn is very optimised so we can choose a large amount of inputs.\n",
    "data = functions.get_data_from_2_2(15000)\n",
    "\n",
    "dbscan = DBSCAN(eps=5, min_samples=4)\n",
    "clusters = dbscan.fit_predict(data)\n",
    "\n",
    "data['cluster'] = clusters\n",
    "\n",
    "sns.scatterplot(data, x='2', y='1', hue='cluster')\n"
   ]
  },
  {
   "cell_type": "markdown",
   "metadata": {},
   "source": [
    "If we plot the same plot as before, we can see that the algorithm chooses 3 as the optimal number of clusters automatically, this seems to be in line with what we had surmised before. Keep in mind that this depends on the choice of the hyperparameters of the model so this may not be the \"optimal\" number of parameters in the sense of K-Means (but it will be for every choice of hypermater which represent a different interpretation of the data)"
   ]
  },
  {
   "cell_type": "markdown",
   "metadata": {},
   "source": [
    "## 4. Command Line Question (CLQ)"
   ]
  },
  {
   "cell_type": "markdown",
   "metadata": {},
   "source": [
    "All the comments on how I created the bash file are present inside the CommandLine.sh file. The thought process is overall very similar from how we handled tsv files in the last homework.\n"
   ]
  },
  {
   "cell_type": "markdown",
   "metadata": {},
   "source": [
    "Here are the results: ![alternative text](Screenshot_CLQ.png)"
   ]
  },
  {
   "cell_type": "markdown",
   "metadata": {},
   "source": [
    "## 5. Algorithmic Question\n",
    "### a)  \n",
    "*Fortunately, you have a computer app designed by a brilliant student. Federico wants you to show him the code which this app is based on because he wants to do paid counseling for other desperate students: in a recursive fashion, the helped helps the helpable.*"
   ]
  },
  {
   "cell_type": "markdown",
   "metadata": {},
   "source": [
    "It is nice that the helped help the helpables. Nevertheless we prefer a direct solution instead of a recursive one.\n",
    "Let n be the number of exam_scores. \n",
    "1. We multiply the n//2 lowest exam-scores by -1.\n",
    "2. We sum up the modified exam-scores.\n",
    "3. If n is odd we also add the initial score to the sum.\n",
    "This sum yields the highest possible score (proof follows after the code).\n",
    "\n",
    "Equivalently to 1. and 2. we can also addup all scores and then substract two times the sum of the n//2 lowest scores, which is done below.\n",
    "To find the n//2 lowest exam scores we use the method heapq.nsmallest, which is based on the heap-property."
   ]
  },
  {
   "cell_type": "code",
   "execution_count": null,
   "metadata": {},
   "outputs": [],
   "source": [
    "from heapq import nsmallest"
   ]
  },
  {
   "cell_type": "code",
   "execution_count": null,
   "metadata": {},
   "outputs": [],
   "source": [
    "def getMaxResult(initial_score, exam_scores):\n",
    "    n = len(exam_scores)\n",
    "    negative_scores = nsmallest(n//2, exam_scores)\n",
    "    res = sum(exam_scores) - 2*sum(negative_scores)\n",
    "    if n % 2 == 0 :\n",
    "        res += initial_score\n",
    "    return res"
   ]
  },
  {
   "cell_type": "markdown",
   "metadata": {},
   "source": [
    "We deliver the solutions to the three samples:"
   ]
  },
  {
   "cell_type": "code",
   "execution_count": null,
   "metadata": {},
   "outputs": [
    {
     "name": "stdout",
     "output_type": "stream",
     "text": [
      "initial_score: 8\n",
      "exam_scores: [5, 7, 1]\n",
      "maximal_score: 11\n",
      "\n",
      "initial_score: 25\n",
      "exam_scores: [18, 24, 21, 32, 27]\n",
      "maximal_score: 44\n",
      "\n",
      "initial_score: 30\n",
      "exam_scores: [13, 27, 41, 59, 28, 33, 39, 19, 52, 48, 55, 79]\n",
      "maximal_score: 205\n",
      "\n"
     ]
    }
   ],
   "source": [
    "sample_set = [ [8, [5,7,1] ] , [25, [18, 24, 21, 32, 27]], [30, [13, 27, 41, 59, 28, 33, 39, 19, 52, 48, 55, 79] ] ]\n",
    "for sample in sample_set:\n",
    "    print(\"initial_score:\", sample[0])\n",
    "    print(\"exam_scores:\", sample[1])    \n",
    "    print(\"maximal_score:\", getMaxResult(sample[0], sample[1]))\n",
    "    print()"
   ]
  },
  {
   "cell_type": "markdown",
   "metadata": {},
   "source": [
    "Next we adapt the code to a program based on user-input."
   ]
  },
  {
   "cell_type": "code",
   "execution_count": null,
   "metadata": {},
   "outputs": [
    {
     "data": {
      "text/plain": [
       "11"
      ]
     },
     "metadata": {},
     "output_type": "display_data"
    }
   ],
   "source": [
    "initial_score = int(input())\n",
    "exam_scores = list(map(int,input().split(' ')))\n",
    "getMaxResult(initial_score, exam_scores) # ran with sample input 8, [5, 7, 1]"
   ]
  },
  {
   "cell_type": "markdown",
   "metadata": {},
   "source": [
    "Moving on to the proof, yielding the correctness of the code above."
   ]
  },
  {
   "cell_type": "markdown",
   "metadata": {},
   "source": [
    "<img src=\"data/ADM_HW4_AQ_proof.jpg\" alt=\"Alternative text\" />"
   ]
  },
  {
   "cell_type": "markdown",
   "metadata": {},
   "source": [
    "### b) \n",
    "*Federico is getting angry because he claims that your code is slow! Show him formally with a big-O notation that he is as crazy as this university!*\n",
    "\n",
    "Summation of 1.5*n values takes O(n). Hence the only problematic step is computing the n//2-lowest values. To determine these we can first create a min-heap. Then we can pop() the minimal value. In the worst case the underlying min-heap does not decrease in height. Hence we have a time-complexity of O(n//2 * log(n//2)), i.e. O(n * log(n)).\n",
    "\n",
    "Is it possible to decrease this time further?\n",
    "Computing the n//2-lowest values is equivalent to computing the median and then partitioning the array into the bigger and lower half. Given the median we could partition the array in O(n). But unfortunately does the exact computation of the median take also O(nlog(n)). Hence we pleade for optimality of our algorithm."
   ]
  },
  {
   "cell_type": "markdown",
   "metadata": {},
   "source": [
    "### c) \n",
    "*If, unfortunately, Federico is right in the grip of madness, he will threaten you to optimize the code through a different approach. You should end this theater of the absurd by any means! (And again, formally prove that you improved time complexity)*\n",
    "\n",
    "Fortunately Frederico is wrong :)"
   ]
  },
  {
   "cell_type": "markdown",
   "metadata": {},
   "source": [
    "### d) \n",
    "*Ask chatGPT for a third (optimized) implementation and analyze again its time complexity. Be careful (and crafty) in defining the prompt, and challenge the machine in this coding question!*"
   ]
  },
  {
   "cell_type": "markdown",
   "metadata": {},
   "source": [
    "**Question:** fastest way (in terms of worst case time-complexity) to get n//2 lowest values of an array.\n",
    "\n",
    "**ChatGPT-Answer:**\n",
    "The fastest way to find the n//2 lowest values in an array of length n in terms of worst-case time complexity is to use a selection algorithm such as QuickSelect. QuickSelect is an efficient in-place variant of the QuickSort algorithm that can find the kth smallest element in an unordered list. It is based on the partition process of QuickSort.\n"
   ]
  },
  {
   "cell_type": "markdown",
   "metadata": {},
   "source": [
    "**Resumé:**\n",
    "The worst-case time complexity of QuickSelect is known to be O(n²) caused by bad choices of pivot-elements.\n"
   ]
  }
 ],
 "metadata": {
  "kernelspec": {
   "display_name": "Python 3 (ipykernel)",
   "language": "python",
   "name": "python3"
  },
  "language_info": {
   "codemirror_mode": {
    "name": "ipython",
    "version": 3
   },
   "file_extension": ".py",
   "mimetype": "text/x-python",
   "name": "python",
   "nbconvert_exporter": "python",
   "pygments_lexer": "ipython3",
   "version": "3.8.10"
  }
 },
 "nbformat": 4,
 "nbformat_minor": 2
}
