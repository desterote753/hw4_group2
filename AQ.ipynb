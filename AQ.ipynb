{
 "cells": [
  {
   "cell_type": "markdown",
   "metadata": {},
   "source": [
    "# Homework 4 - Recommendation systems and clustering everywhere"
   ]
  },
  {
   "cell_type": "markdown",
   "metadata": {},
   "source": [
    "## 1. Recommendation sytem"
   ]
  },
  {
   "cell_type": "code",
   "execution_count": null,
   "metadata": {},
   "outputs": [],
   "source": []
  },
  {
   "cell_type": "markdown",
   "metadata": {},
   "source": [
    "## 5. Algorithmic Question\n",
    "a)  Fortunately, you have a computer app designed by a brilliant student. Federico wants you to show him the code which this app is based on because he wants to do paid counseling for other desperate students: in a recursive fashion, the helped helps the helpable."
   ]
  },
  {
   "cell_type": "markdown",
   "metadata": {},
   "source": [
    "It is nice that the helped help the helpables. Nevertheless we prefer a direct solution instead of a recursive one.\n",
    "Let n be the number of exam_scores. \n",
    "1. We multiply the n//2 lowest exam-scores by -1.\n",
    "2. We sum up the modified exam-scores.\n",
    "3. If n is odd we also add the initial score to the sum.\n",
    "This sum yields the highest possible score (proof follows after the code).\n",
    "\n",
    "Equivalently to 1. and 2. we can also addup all scores and then substract two times the sum of the n//2 lowest scores, which is done below.\n",
    "To find the n//2 lowest exam scores we use the method heapq.nsmallest, which is based on the heap-property."
   ]
  },
  {
   "cell_type": "code",
   "execution_count": 1,
   "metadata": {},
   "outputs": [],
   "source": [
    "from heapq import nsmallest"
   ]
  },
  {
   "cell_type": "code",
   "execution_count": 2,
   "metadata": {},
   "outputs": [],
   "source": [
    "def getMaxResult(initial_score, exam_scores):\n",
    "    n = len(exam_scores)\n",
    "    negative_scores = nsmallest(n//2, exam_scores)\n",
    "    res = sum(exam_scores) - 2*sum(negative_scores)\n",
    "    if n % 2 == 0 :\n",
    "        res += initial_score\n",
    "    return res"
   ]
  },
  {
   "cell_type": "markdown",
   "metadata": {},
   "source": [
    "We deliver the solutions to the three samples:"
   ]
  },
  {
   "cell_type": "code",
   "execution_count": 3,
   "metadata": {},
   "outputs": [
    {
     "name": "stdout",
     "output_type": "stream",
     "text": [
      "initial_score: 8\n",
      "exam_scores: [5, 7, 1]\n",
      "maximal_score: 11\n",
      "\n",
      "initial_score: 25\n",
      "exam_scores: [18, 24, 21, 32, 27]\n",
      "maximal_score: 44\n",
      "\n",
      "initial_score: 30\n",
      "exam_scores: [13, 27, 41, 59, 28, 33, 39, 19, 52, 48, 55, 79]\n",
      "maximal_score: 205\n",
      "\n"
     ]
    }
   ],
   "source": [
    "sample_set = [ [8, [5,7,1] ] , [25, [18, 24, 21, 32, 27]], [30, [13, 27, 41, 59, 28, 33, 39, 19, 52, 48, 55, 79] ] ]\n",
    "for sample in sample_set:\n",
    "    print(\"initial_score:\", sample[0])\n",
    "    print(\"exam_scores:\", sample[1])    \n",
    "    print(\"maximal_score:\", getMaxResult(sample[0], sample[1]))\n",
    "    print()"
   ]
  },
  {
   "cell_type": "markdown",
   "metadata": {},
   "source": [
    "Next we adapt the code to a program based on user-input."
   ]
  },
  {
   "cell_type": "code",
   "execution_count": 4,
   "metadata": {},
   "outputs": [
    {
     "data": {
      "text/plain": [
       "11"
      ]
     },
     "execution_count": 4,
     "metadata": {},
     "output_type": "execute_result"
    }
   ],
   "source": [
    "initial_score = int(input())\n",
    "exam_scores = list(map(int,input().split(' ')))\n",
    "getMaxResult(initial_score, exam_scores) # ran with sample input 8, [5, 7, 1]"
   ]
  },
  {
   "cell_type": "markdown",
   "metadata": {},
   "source": [
    "Moving on to the proof, yielding the correctness of the code above."
   ]
  },
  {
   "cell_type": "markdown",
   "metadata": {},
   "source": [
    "<img src=\"data/ADM_HW4_AQ_proof.jpg\" alt=\"Alternative text\" />"
   ]
  },
  {
   "cell_type": "markdown",
   "metadata": {},
   "source": [
    "b) Federico is getting angry because he claims that your code is slow! Show him formally with a big-O notation that he is as crazy as this university!\n",
    "\n",
    "... analysis follows ..."
   ]
  },
  {
   "cell_type": "markdown",
   "metadata": {},
   "source": [
    "c) If, unfortunately, Federico is right in the grip of madness, he will threaten you to optimize the code through a different approach. You should end this theater of the absurd by any means! (And again, formally prove that you improved time complexity)\n",
    "\n",
    "Fortunately Frederico is wrong :)"
   ]
  },
  {
   "cell_type": "markdown",
   "metadata": {},
   "source": [
    "d) Ask chatGPT for a third (optimized) implementation and analyze again its time complexity. Be careful (and crafty) in defining the prompt, and challenge the machine in this coding question!\n",
    "\n",
    "... answer follows ..."
   ]
  }
 ],
 "metadata": {
  "kernelspec": {
   "display_name": "Python 3",
   "language": "python",
   "name": "python3"
  },
  "language_info": {
   "codemirror_mode": {
    "name": "ipython",
    "version": 3
   },
   "file_extension": ".py",
   "mimetype": "text/x-python",
   "name": "python",
   "nbconvert_exporter": "python",
   "pygments_lexer": "ipython3",
   "version": "3.9.5"
  }
 },
 "nbformat": 4,
 "nbformat_minor": 2
}
